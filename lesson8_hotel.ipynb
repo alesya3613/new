{
 "cells": [
  {
   "cell_type": "markdown",
   "id": "c1d45665",
   "metadata": {},
   "source": [
    "Создайте систему бронирования отелей, где есть разные типы номеров и клиентов."
   ]
  },
  {
   "cell_type": "code",
   "execution_count": 88,
   "id": "5e2e28bb",
   "metadata": {},
   "outputs": [],
   "source": [
    "class Guest:\n",
    "    \n",
    "    def __init__(self, name: str, email: str):\n",
    "        self._name = name\n",
    "        self._email = email\n",
    "    \n",
    "    def make_reservation(self, room):\n",
    "        pass"
   ]
  },
  {
   "cell_type": "code",
   "execution_count": 89,
   "id": "4ac950dd",
   "metadata": {},
   "outputs": [],
   "source": [
    "class Room:\n",
    "    \n",
    "    def __init__(self, room_number: int, price_per_night: float):\n",
    "        self.room_number = room_number\n",
    "        self.price_per_night = price_per_night\n",
    "        self.is_booked = False\n",
    "        self.guest_name = ''\n",
    "    \n",
    "    def book(self, guest_name):\n",
    "        self.is_booked = True\n",
    "        self.guest_name = guest_name\n",
    "        \n",
    "        \n",
    "    def cancel_booking(self):\n",
    "        self.is_booked = False\n",
    "        return 'Бронь отменена' \n",
    "    \n",
    "    \n",
    "    def get_info(self, guest):\n",
    "        print(f'Номер комнаты: {self.room_number}')\n",
    "        print(f'Цена за ночь: {self.price_per_night}')\n",
    "        print('Статус:', 'забронирована' if self.is_booked else 'свободна' )\n",
    "        if self.is_booked:\n",
    "            print(f'Бронь на имя: {self.guest_name}')\n",
    "        if isinstance(guest, VIPGuest):\n",
    "            print('Скидка 20% прибронировании')\n",
    "        "
   ]
  },
  {
   "cell_type": "code",
   "execution_count": 90,
   "id": "930a15a1",
   "metadata": {},
   "outputs": [],
   "source": [
    "class StandartRoom(Room):\n",
    "    pass"
   ]
  },
  {
   "cell_type": "code",
   "execution_count": 91,
   "id": "c1282d2f",
   "metadata": {},
   "outputs": [],
   "source": [
    "class DeluxeRoom(Room):\n",
    "    \n",
    "    def get_info(self, guest):\n",
    "        super().get_info(guest)\n",
    "        print(f'Джакузи: + \\nКухня: -')\n",
    "        \n",
    "        "
   ]
  },
  {
   "cell_type": "code",
   "execution_count": 92,
   "id": "0b98759f",
   "metadata": {},
   "outputs": [],
   "source": [
    "class SuiteRoom(Room):\n",
    "    \n",
    "    def get_info(self, guest):\n",
    "        super().get_info(guest)\n",
    "        print(f'Джакузи: + \\nКухня: +')"
   ]
  },
  {
   "cell_type": "code",
   "execution_count": 93,
   "id": "7d2b8579",
   "metadata": {},
   "outputs": [],
   "source": [
    "class RegularGuest(Guest):\n",
    "    \n",
    "    def make_reservation(self, room):\n",
    "        \n",
    "        if isinstance(room, StandartRoom):\n",
    "            if room.is_booked:\n",
    "                print(f'Комнат №{room.room_number} занята')\n",
    "            else:\n",
    "                room.book(self._name)\n",
    "                print(f'Комнат №{room.room_number} забронирована на имя {self._name}')\n",
    "        else:\n",
    "            print('Данный тип комнат доступен только для VIP гостей')"
   ]
  },
  {
   "cell_type": "code",
   "execution_count": 102,
   "id": "af24f017",
   "metadata": {},
   "outputs": [],
   "source": [
    "class VIPGuest(Guest):\n",
    "    \n",
    "    def make_reservation(self, room):\n",
    "        \n",
    "        if isinstance(room, StandartRoom):\n",
    "            print('Данный тип комнат доступен только для обычных гостей')\n",
    "        else:    \n",
    "            if room.is_booked:\n",
    "                print(f'Комнат №{room.room_number} занята')\n",
    "            else:\n",
    "                room.book(self._name)\n",
    "                print(f'Комнат №{room.room_number} забронирована на имя {self._name}')"
   ]
  },
  {
   "cell_type": "code",
   "execution_count": 103,
   "id": "6996f318",
   "metadata": {},
   "outputs": [],
   "source": [
    "room1 = SuiteRoom(301, 200)\n",
    "room2 = DeluxeRoom(405, 100)\n",
    "room3 = StandartRoom(207, 50)\n",
    "\n",
    "guest1 = RegularGuest('Max', 'max@gmail.ru')\n",
    "guest2 = VIPGuest('Tom', 'tom@gmail.ru')"
   ]
  },
  {
   "cell_type": "code",
   "execution_count": 104,
   "id": "0ecded71",
   "metadata": {},
   "outputs": [
    {
     "name": "stdout",
     "output_type": "stream",
     "text": [
      "Номер комнаты: 301\n",
      "Цена за ночь: 200\n",
      "Статус: свободна\n",
      "Джакузи: + \n",
      "Кухня: +\n"
     ]
    }
   ],
   "source": [
    "room1.get_info(guest1)"
   ]
  },
  {
   "cell_type": "code",
   "execution_count": 105,
   "id": "e15f33bc",
   "metadata": {},
   "outputs": [
    {
     "name": "stdout",
     "output_type": "stream",
     "text": [
      "Данный тип комнат доступен только для VIP гостей\n"
     ]
    }
   ],
   "source": [
    "guest1.make_reservation(room1)"
   ]
  },
  {
   "cell_type": "code",
   "execution_count": 106,
   "id": "758e737c",
   "metadata": {},
   "outputs": [
    {
     "name": "stdout",
     "output_type": "stream",
     "text": [
      "Комнат №207 забронирована на имя Max\n"
     ]
    }
   ],
   "source": [
    "guest1.make_reservation(room3)"
   ]
  },
  {
   "cell_type": "code",
   "execution_count": 107,
   "id": "8d476325",
   "metadata": {},
   "outputs": [
    {
     "name": "stdout",
     "output_type": "stream",
     "text": [
      "Номер комнаты: 207\n",
      "Цена за ночь: 50\n",
      "Статус: забронирована\n",
      "Бронь на имя: Max\n"
     ]
    }
   ],
   "source": [
    "room3.get_info(guest1)"
   ]
  },
  {
   "cell_type": "code",
   "execution_count": 108,
   "id": "005bb90b",
   "metadata": {},
   "outputs": [
    {
     "name": "stdout",
     "output_type": "stream",
     "text": [
      "Данный тип комнат доступен только для обычных гостей\n"
     ]
    }
   ],
   "source": [
    "guest2.make_reservation(room3)"
   ]
  },
  {
   "cell_type": "code",
   "execution_count": 109,
   "id": "c7fa4bea",
   "metadata": {},
   "outputs": [
    {
     "name": "stdout",
     "output_type": "stream",
     "text": [
      "Комнат №301 забронирована на имя Tom\n",
      "Номер комнаты: 301\n",
      "Цена за ночь: 200\n",
      "Статус: забронирована\n",
      "Бронь на имя: Tom\n",
      "Скидка 20% прибронировании\n",
      "Джакузи: + \n",
      "Кухня: +\n"
     ]
    }
   ],
   "source": [
    "guest2.make_reservation(room1)\n",
    "room1.get_info(guest2)"
   ]
  },
  {
   "cell_type": "code",
   "execution_count": 110,
   "id": "6973c657",
   "metadata": {},
   "outputs": [],
   "source": [
    "guest3 = VIPGuest('Jessica', 'jess@gmail.com')"
   ]
  },
  {
   "cell_type": "code",
   "execution_count": 111,
   "id": "020a1448",
   "metadata": {},
   "outputs": [
    {
     "name": "stdout",
     "output_type": "stream",
     "text": [
      "Комнат №301 занята\n"
     ]
    }
   ],
   "source": [
    "guest3.make_reservation(room1)"
   ]
  },
  {
   "cell_type": "code",
   "execution_count": 112,
   "id": "29469b64",
   "metadata": {},
   "outputs": [
    {
     "name": "stdout",
     "output_type": "stream",
     "text": [
      "Номер комнаты: 301\n",
      "Цена за ночь: 200\n",
      "Статус: забронирована\n",
      "Бронь на имя: Tom\n",
      "Скидка 20% прибронировании\n",
      "Джакузи: + \n",
      "Кухня: +\n"
     ]
    }
   ],
   "source": [
    "room1.get_info(guest3)"
   ]
  },
  {
   "cell_type": "code",
   "execution_count": 113,
   "id": "3d4d94ce",
   "metadata": {},
   "outputs": [
    {
     "name": "stdout",
     "output_type": "stream",
     "text": [
      "Комнат №405 забронирована на имя Jessica\n"
     ]
    }
   ],
   "source": [
    "guest3.make_reservation(room2)"
   ]
  },
  {
   "cell_type": "code",
   "execution_count": null,
   "id": "1e902440",
   "metadata": {},
   "outputs": [],
   "source": []
  }
 ],
 "metadata": {
  "kernelspec": {
   "display_name": "Python 3 (ipykernel)",
   "language": "python",
   "name": "python3"
  },
  "language_info": {
   "codemirror_mode": {
    "name": "ipython",
    "version": 3
   },
   "file_extension": ".py",
   "mimetype": "text/x-python",
   "name": "python",
   "nbconvert_exporter": "python",
   "pygments_lexer": "ipython3",
   "version": "3.12.3"
  }
 },
 "nbformat": 4,
 "nbformat_minor": 5
}
