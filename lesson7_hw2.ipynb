{
 "cells": [
  {
   "cell_type": "code",
   "execution_count": null,
   "id": "963ad9e9",
   "metadata": {},
   "outputs": [],
   "source": [
    "Заполнение списка, умножение матриц"
   ]
  },
  {
   "cell_type": "code",
   "execution_count": 21,
   "id": "d3a4c08b",
   "metadata": {},
   "outputs": [],
   "source": [
    "class Onedimensional:\n",
    "    \n",
    "    def __init__(self, number):\n",
    "        self._number = number\n",
    "        self.lst = [0 for _ in range(self._number)]\n",
    "        \n",
    "    def fill(self):\n",
    "        \n",
    "        for i in range(self._number):\n",
    "            self.lst[i] = int(input())\n",
    "        print(self.lst)   "
   ]
  },
  {
   "cell_type": "code",
   "execution_count": 33,
   "id": "e23fe1a8",
   "metadata": {},
   "outputs": [],
   "source": [
    "class Twodimensional:\n",
    "    \n",
    "    def __init__(self, lin, col):\n",
    "        self.lin = lin\n",
    "        self.col = col\n",
    "        self.matrix = [[0] * col for _ in range(lin)]\n",
    "        \n",
    "    \n",
    "    def fill(self):\n",
    "        \n",
    "        for i in range(self.lin):\n",
    "            for j in range(self.col):\n",
    "                self.matrix[i][j] = int(input())\n",
    "        print(*self.matrix, sep='\\n')\n",
    "        \n",
    "    def mult(self, lin_2, col_2):\n",
    "        \n",
    "        matrix2 = [[0] * col_2 for _ in range(lin_2)]\n",
    "            \n",
    "        if lin_2 == self.col:\n",
    "            for i in range(lin_2):\n",
    "                for j in range(col_2):\n",
    "                    matrix2[i][j] = int(input())\n",
    "            \n",
    "            print(*matrix2, sep='\\n')\n",
    "            \n",
    "            mult_res = [[0] * self.lin for _ in range(col_2)]\n",
    "            \n",
    "            for i in range(self.lin):\n",
    "                for j in range(col_2):\n",
    "                    for k in range(lin_2):\n",
    "                        mult_res[i][j] += self.matrix[i][k] * matrix2[k][j]\n",
    "                        \n",
    "            print('Произведение матриц: \\n')\n",
    "            print(*mult_res, sep='\\n')\n",
    "            \n",
    "        else:\n",
    "            print('Умножение не возможно')"
   ]
  },
  {
   "cell_type": "code",
   "execution_count": 10,
   "id": "d0b6032c",
   "metadata": {},
   "outputs": [
    {
     "name": "stdout",
     "output_type": "stream",
     "text": [
      "1\n",
      "2\n",
      "3\n",
      "4\n",
      "5\n",
      "[1, 2, 3, 4, 5]\n"
     ]
    }
   ],
   "source": [
    "l = Onedimensional(5)\n",
    "l.fill()"
   ]
  },
  {
   "cell_type": "code",
   "execution_count": 35,
   "id": "91e533ae",
   "metadata": {},
   "outputs": [
    {
     "name": "stdout",
     "output_type": "stream",
     "text": [
      "1\n",
      "2\n",
      "3\n",
      "4\n",
      "5\n",
      "6\n",
      "[1, 2, 3]\n",
      "[4, 5, 6]\n"
     ]
    }
   ],
   "source": [
    "mat = Twodimensional(2,3)\n",
    "mat.fill()"
   ]
  },
  {
   "cell_type": "code",
   "execution_count": 36,
   "id": "7a29bf3c",
   "metadata": {},
   "outputs": [
    {
     "name": "stdout",
     "output_type": "stream",
     "text": [
      "Умножение не возможно\n"
     ]
    }
   ],
   "source": [
    "mat.mult(4, 4)"
   ]
  },
  {
   "cell_type": "code",
   "execution_count": 37,
   "id": "2ab41cd8",
   "metadata": {},
   "outputs": [
    {
     "name": "stdout",
     "output_type": "stream",
     "text": [
      "7\n",
      "8\n",
      "9\n",
      "10\n",
      "11\n",
      "12\n",
      "[7, 8]\n",
      "[9, 10]\n",
      "[11, 12]\n",
      "Произведение матриц: \n",
      "\n",
      "[58, 64]\n",
      "[139, 154]\n"
     ]
    }
   ],
   "source": [
    "mat.mult(3, 2)"
   ]
  },
  {
   "cell_type": "markdown",
   "id": "d6bb11b7",
   "metadata": {},
   "source": []
  }
 ],
 "metadata": {
  "kernelspec": {
   "display_name": "Python 3 (ipykernel)",
   "language": "python",
   "name": "python3"
  },
  "language_info": {
   "codemirror_mode": {
    "name": "ipython",
    "version": 3
   },
   "file_extension": ".py",
   "mimetype": "text/x-python",
   "name": "python",
   "nbconvert_exporter": "python",
   "pygments_lexer": "ipython3",
   "version": "3.12.3"
  }
 },
 "nbformat": 4,
 "nbformat_minor": 5
}
