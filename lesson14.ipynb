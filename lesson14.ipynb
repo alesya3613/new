{
  "cells": [
    {
      "cell_type": "code",
      "source": [
        "import numpy as np\n",
        "from scipy.special import perm, comb, factorial"
      ],
      "metadata": {
        "id": "qODWAeADdKpk"
      },
      "execution_count": 2,
      "outputs": []
    },
    {
      "cell_type": "markdown",
      "source": [
        "Раздел №1 Комбинаторика"
      ],
      "metadata": {
        "id": "gX31tDZdlkJO"
      }
    },
    {
      "cell_type": "markdown",
      "source": [
        "Задача 1. В группе 30 студентов. Необходимо выбрать старосту, заместителя старосты и\n",
        "профорга. Сколько существует способов это сделать?"
      ],
      "metadata": {
        "id": "EZ5mTZ1HypeP"
      }
    },
    {
      "cell_type": "code",
      "source": [
        "# Задача 1\n",
        "k = np.array(3)\n",
        "n = np.array(30)\n",
        "\n",
        "perm(30, 3)"
      ],
      "metadata": {
        "colab": {
          "base_uri": "https://localhost:8080/"
        },
        "id": "iGDEkCywdWUz",
        "outputId": "809982b5-1631-46d9-c238-7853b46300c6"
      },
      "execution_count": null,
      "outputs": [
        {
          "output_type": "execute_result",
          "data": {
            "text/plain": [
              "24360.0"
            ]
          },
          "metadata": {},
          "execution_count": 2
        }
      ]
    },
    {
      "cell_type": "markdown",
      "source": [
        "Задача 2. Два почтальона должны разнести 10 писем по 10 адресам. Сколькими\n",
        "способами они могут распределить работу?"
      ],
      "metadata": {
        "id": "qP9IYvnYys-J"
      }
    },
    {
      "cell_type": "code",
      "source": [
        "# Задача 2\n",
        "k = np.array(2)\n",
        "n = np.array(10)\n",
        "\n",
        "k**n"
      ],
      "metadata": {
        "colab": {
          "base_uri": "https://localhost:8080/"
        },
        "id": "fVbVFGOMeC3z",
        "outputId": "4e1c35b7-834c-4a02-97c5-bad700e52375"
      },
      "execution_count": null,
      "outputs": [
        {
          "output_type": "execute_result",
          "data": {
            "text/plain": [
              "1024"
            ]
          },
          "metadata": {},
          "execution_count": 4
        }
      ]
    },
    {
      "cell_type": "markdown",
      "source": [
        "Задача 3. В ящике 100 деталей, из них 30 – деталей 1-го сорта, 50 – 2-го, остальные – 3-\n",
        "го. Сколько существует способов извлечения из ящика одной детали 1-го или 2-го сорта?"
      ],
      "metadata": {
        "id": "EWBhvvaAyyUw"
      }
    },
    {
      "cell_type": "code",
      "source": [
        "# Задача 3\n",
        "n = np.array(100)\n",
        "k1 = np.array(30)\n",
        "k2 = np.array(50)\n",
        "\n",
        "result = (k1 + k2) / n\n",
        "result"
      ],
      "metadata": {
        "colab": {
          "base_uri": "https://localhost:8080/"
        },
        "id": "muHPLokII-0B",
        "outputId": "b2e2bb5d-18ab-4f9d-b993-e8d62bb2d143"
      },
      "execution_count": null,
      "outputs": [
        {
          "output_type": "execute_result",
          "data": {
            "text/plain": [
              "0.8"
            ]
          },
          "metadata": {},
          "execution_count": 5
        }
      ]
    },
    {
      "cell_type": "markdown",
      "source": [
        "Задача 5. Порядок выступления 7 участников конкурса определяется жребием. Сколько\n",
        "различных вариантов жеребьевки при этом возможно?"
      ],
      "metadata": {
        "id": "GdqAecS7y3WU"
      }
    },
    {
      "cell_type": "code",
      "source": [
        "# Задача 5\n",
        "\n",
        "n = np.array(7)\n",
        "factorial(n, exact=True)"
      ],
      "metadata": {
        "colab": {
          "base_uri": "https://localhost:8080/"
        },
        "id": "wlmROUtVff6t",
        "outputId": "6693930e-ef59-4f79-86a2-f2b7474bf993"
      },
      "execution_count": null,
      "outputs": [
        {
          "output_type": "execute_result",
          "data": {
            "text/plain": [
              "array(5040)"
            ]
          },
          "metadata": {},
          "execution_count": 4
        }
      ]
    },
    {
      "cell_type": "markdown",
      "source": [
        "Задача 6. В конкурсе по 5 номинациям участвуют 10 кинофильмов. Сколько существует\n",
        "вариантов распределения призов, если по всем номинациям установлены различные\n",
        "премии?"
      ],
      "metadata": {
        "id": "EKgZaBmly7-m"
      }
    },
    {
      "cell_type": "code",
      "source": [
        "# Задача 6\n",
        "\n",
        "k = np.array(5)\n",
        "n = np.array(10)\n",
        "\n",
        "perm(n, k)"
      ],
      "metadata": {
        "id": "_nD4XXl_I_G2",
        "colab": {
          "base_uri": "https://localhost:8080/"
        },
        "outputId": "a28a3fb0-6de7-48bf-8a0c-1ba97febf61d"
      },
      "execution_count": 2,
      "outputs": [
        {
          "output_type": "execute_result",
          "data": {
            "text/plain": [
              "30240.0"
            ]
          },
          "metadata": {},
          "execution_count": 2
        }
      ]
    },
    {
      "cell_type": "markdown",
      "source": [
        "Задача 7. В шахматном турнире участвуют 16 человек. Сколько партий должно быть\n",
        "сыграно в турнире, если между любыми двумя участниками должна быть сыграна одна\n",
        "партия?"
      ],
      "metadata": {
        "id": "mCzERsVszBLl"
      }
    },
    {
      "cell_type": "code",
      "source": [
        "# Задача 7\n",
        "\n",
        "k = np.array(2)\n",
        "n = np.array(16)\n",
        "\n",
        "comb(n, k, exact=True)"
      ],
      "metadata": {
        "colab": {
          "base_uri": "https://localhost:8080/"
        },
        "id": "Pzh3nRF-gBLX",
        "outputId": "95d00764-8d9a-41a9-8202-3e7c102ec525"
      },
      "execution_count": null,
      "outputs": [
        {
          "output_type": "execute_result",
          "data": {
            "text/plain": [
              "120"
            ]
          },
          "metadata": {},
          "execution_count": 6
        }
      ]
    },
    {
      "cell_type": "markdown",
      "source": [
        "Задача 8. В условиях задачи 6 определить, сколько существует вариантов распределения\n",
        "призов, если по всем номинациям установлены одинаковые призы?"
      ],
      "metadata": {
        "id": "okldCsmCzJjN"
      }
    },
    {
      "cell_type": "code",
      "source": [
        "# Задача 8\n",
        "\n",
        "k = np.array(5)\n",
        "n = np.array(10)\n",
        "\n",
        "comb(n, k, exact=True, repetition=True)"
      ],
      "metadata": {
        "id": "MDey9685hsXU",
        "colab": {
          "base_uri": "https://localhost:8080/"
        },
        "outputId": "04ad8162-4530-4675-916b-6b29addf51fa"
      },
      "execution_count": 4,
      "outputs": [
        {
          "output_type": "execute_result",
          "data": {
            "text/plain": [
              "2002"
            ]
          },
          "metadata": {},
          "execution_count": 4
        }
      ]
    },
    {
      "cell_type": "markdown",
      "source": [
        "Задача 9. Садовник должен в течении трех дней посадить 6 деревьев. Сколькими\n",
        "способами он может распределить по дням работу, если будет сажать не менее одного\n",
        "дерева в день?"
      ],
      "metadata": {
        "id": "Gg6BoWiJzN86"
      }
    },
    {
      "cell_type": "code",
      "source": [
        "# Задача 9\n",
        "\n",
        "k = np.array(6)\n",
        "n = np.array(3)\n",
        "\n",
        "result = (comb(n, n, exact=True, repetition=True))\n",
        "print(result)"
      ],
      "metadata": {
        "colab": {
          "base_uri": "https://localhost:8080/"
        },
        "id": "hQL8DLIheWkb",
        "outputId": "0768c05d-6c8a-4160-f685-2e65845868e3"
      },
      "execution_count": 26,
      "outputs": [
        {
          "output_type": "stream",
          "name": "stdout",
          "text": [
            "10\n"
          ]
        }
      ]
    },
    {
      "cell_type": "markdown",
      "source": [
        "Задача 10. Сколько существует четырехзначных чисел (возможно, начинающихся с нуля),\n",
        "сумма цифр которых равна 5?"
      ],
      "metadata": {
        "id": "eePtuqTZzRhy"
      }
    },
    {
      "cell_type": "code",
      "source": [
        "# Задача 10\n",
        "# 𝐶(𝑛+𝑘−1,𝑘−1)\n",
        "k = 4\n",
        "n = 5\n",
        "\n",
        "comb(n + k -1, k - 1, exact=True, repetition=False)"
      ],
      "metadata": {
        "colab": {
          "base_uri": "https://localhost:8080/"
        },
        "id": "U9KKKjVCeYqi",
        "outputId": "2d963826-830d-4189-8845-37ba53285afc"
      },
      "execution_count": 19,
      "outputs": [
        {
          "output_type": "execute_result",
          "data": {
            "text/plain": [
              "56"
            ]
          },
          "metadata": {},
          "execution_count": 19
        }
      ]
    },
    {
      "cell_type": "markdown",
      "source": [
        "Задача 11. Сколькими способами можно разбить группу из 25 студентов на три подгруппы\n",
        "А, В и С по 6, 9 и 10 человек соответственно?"
      ],
      "metadata": {
        "id": "s1Zd56AgzVvj"
      }
    },
    {
      "cell_type": "code",
      "source": [
        "# Задача 11\n",
        "\n",
        "a = np.array(6)\n",
        "b = np.array(9)\n",
        "c = np.array(10)\n",
        "n = np.array(25)\n",
        "\n",
        "result = factorial(n) / (factorial(a) * factorial(b) * factorial(c))\n",
        "print(round(result, 0))"
      ],
      "metadata": {
        "colab": {
          "base_uri": "https://localhost:8080/"
        },
        "id": "hHXNMDHniZBS",
        "outputId": "292c3906-046e-4a21-dab4-7ebbe5d0c9cd"
      },
      "execution_count": 3,
      "outputs": [
        {
          "output_type": "stream",
          "name": "stdout",
          "text": [
            "16360143800.0\n"
          ]
        }
      ]
    },
    {
      "cell_type": "markdown",
      "source": [
        "Задача 12. Сколько существует семизначных чисел, состоящих из цифр 4, 5 и 6, в которых\n",
        "цифра 4 повторяется 3 раза, а цифры 5 и 6 – по 2 раза?"
      ],
      "metadata": {
        "id": "3Mb0MY_OzZJ-"
      }
    },
    {
      "cell_type": "code",
      "source": [
        "# Задача 12\n",
        "\n",
        "n = np.array(7)\n",
        "num4 = np.array(3)\n",
        "num5 = np.array(2)\n",
        "num6 = np.array(2)\n",
        "\n",
        "result = factorial(n) / (factorial(num4) * factorial(num5) * factorial(num6))\n",
        "result"
      ],
      "metadata": {
        "colab": {
          "base_uri": "https://localhost:8080/"
        },
        "id": "mmGGwl7Vedsh",
        "outputId": "b19bb67c-4ae9-4e7c-84f6-6398eb228255"
      },
      "execution_count": 6,
      "outputs": [
        {
          "output_type": "execute_result",
          "data": {
            "text/plain": [
              "210.0"
            ]
          },
          "metadata": {},
          "execution_count": 6
        }
      ]
    },
    {
      "cell_type": "markdown",
      "source": [
        "Раздел №2 Классическая вероятностная модель. Геометрическая вероятность"
      ],
      "metadata": {
        "id": "uHmO_U9OltOU"
      }
    },
    {
      "cell_type": "markdown",
      "source": [
        "Задача 1. В ящике 5 апельсинов и 4 яблока. Наудачу выбираются 3 фрукта. Какова\n",
        "вероятность, что все три фрукта – апельсины?"
      ],
      "metadata": {
        "id": "ekbNp2NLyZDn"
      }
    },
    {
      "cell_type": "code",
      "source": [
        "# Задача 1\n",
        "\n",
        "n = np.array(9)\n",
        "k = np.array(3)\n",
        "orange = np.array(5)\n",
        "apple = np.array(4)\n",
        "\n",
        "result = (comb(orange, k) * comb(apple, 0)) / comb(n, k)\n",
        "round(result, 2)"
      ],
      "metadata": {
        "colab": {
          "base_uri": "https://localhost:8080/"
        },
        "id": "0I11BsWwl2Hw",
        "outputId": "e2eb3849-94a0-40da-a7ff-1a7bf4c1def2"
      },
      "execution_count": 9,
      "outputs": [
        {
          "output_type": "execute_result",
          "data": {
            "text/plain": [
              "0.12"
            ]
          },
          "metadata": {},
          "execution_count": 9
        }
      ]
    },
    {
      "cell_type": "markdown",
      "source": [
        "Задача 2. Преподаватель предлагает каждому из трех студентов задумать любое число от\n",
        "1 до 10. Считая, что выбор каждым из студентов любого числа из заданных\n",
        "равновозможен, найти вероятность того, что у кого-то из них задуманные числа совпадут."
      ],
      "metadata": {
        "id": "53yAO1X3yc48"
      }
    },
    {
      "cell_type": "code",
      "source": [
        "# Задача 2\n",
        "\n",
        "# Всего есть 3 возможные пары между студентами и\n",
        "#у них есть 10 вариантов для составления пары у оставшегося студента\n",
        "#останется уже только 9 вариантов для выбора числа чтобы не совпасть с парой\n",
        "# плюс 10 вариантов, когда все три числа равны\n",
        "print((3* 10 * 9 + 10)/ 10**3)\n",
        "\n",
        "#От обратного события, когда все не совпали и отнимаем от 1 как обратное событие\n",
        "print(1 - (10*9*8)/10**3)"
      ],
      "metadata": {
        "colab": {
          "base_uri": "https://localhost:8080/"
        },
        "id": "RZmK13FWo-l3",
        "outputId": "ab95cae5-fd16-49b9-835e-ce5a0903fca1"
      },
      "execution_count": 26,
      "outputs": [
        {
          "output_type": "stream",
          "name": "stdout",
          "text": [
            "0.28\n",
            "0.28\n"
          ]
        }
      ]
    },
    {
      "cell_type": "markdown",
      "source": [
        "Задача 3. Найти вероятность того, что в 8-значном числе ровно 4 цифры совпадают, а\n",
        "остальные различны."
      ],
      "metadata": {
        "id": "qA6n6b7vyhEk"
      }
    },
    {
      "cell_type": "code",
      "source": [
        "# Задача 3\n",
        "\n",
        "k = np.array(4)\n",
        "n = np.array(8)\n",
        "n1 = np.array(9)\n",
        "\n",
        "result = 10 * comb(n, k) * comb(n1, 4) * factorial(4) / 10**8\n",
        "result"
      ],
      "metadata": {
        "colab": {
          "base_uri": "https://localhost:8080/"
        },
        "id": "a-daqQzCo_N3",
        "outputId": "42936a3e-5bdf-4e24-d058-2465d57d84f0"
      },
      "execution_count": 14,
      "outputs": [
        {
          "output_type": "execute_result",
          "data": {
            "text/plain": [
              "0.021168"
            ]
          },
          "metadata": {},
          "execution_count": 14
        }
      ]
    },
    {
      "cell_type": "markdown",
      "source": [
        "Задача 4. Шесть клиентов случайным образом обращаются в 5 фирм. Найти вероятность\n",
        "того, что хотя бы в одну фирму никто не обратится"
      ],
      "metadata": {
        "id": "vaNWQn80ylXU"
      }
    },
    {
      "cell_type": "code",
      "source": [
        "# Задача 4\n",
        "\n",
        "result = 1 - (5 * factorial(6)/(factorial(1)**4 * factorial(2)))/ 5**6\n",
        "result"
      ],
      "metadata": {
        "colab": {
          "base_uri": "https://localhost:8080/"
        },
        "id": "CAKtiQkrpG-p",
        "outputId": "b8e4e917-0e17-4b4d-92ca-00caac77dcbc"
      },
      "execution_count": 34,
      "outputs": [
        {
          "output_type": "execute_result",
          "data": {
            "text/plain": [
              "0.8848"
            ]
          },
          "metadata": {},
          "execution_count": 34
        }
      ]
    },
    {
      "cell_type": "markdown",
      "source": [
        "Раздел №3 Основные формулы теории вероятностей"
      ],
      "metadata": {
        "id": "ZzRBIRzhpaTo"
      }
    },
    {
      "cell_type": "markdown",
      "source": [
        "Задача 1. В ящике 10 красных и 5 синих пуговиц. Вынимаются наудачу две пуговицы.\n",
        "Какова вероятность, что пуговицы будут одноцветными?"
      ],
      "metadata": {
        "id": "6ea6b_CKySMI"
      }
    },
    {
      "cell_type": "code",
      "source": [
        "# Задача 1\n",
        "\n",
        "n = np.array(15)\n",
        "k = np.array(2)\n",
        "red = np.array(10)\n",
        "blue = np.array(5)\n",
        "\n",
        "result = (comb(red, k) * comb(blue, 0) +\n",
        "          comb(blue, k) * comb(red, 0)) / comb(n, k)\n",
        "round(result, 2)"
      ],
      "metadata": {
        "colab": {
          "base_uri": "https://localhost:8080/"
        },
        "id": "n2gzfDrwpgUe",
        "outputId": "a9447e81-b018-458f-c57a-cc9217e4eb08"
      },
      "execution_count": 10,
      "outputs": [
        {
          "output_type": "execute_result",
          "data": {
            "text/plain": [
              "0.52"
            ]
          },
          "metadata": {},
          "execution_count": 10
        }
      ]
    },
    {
      "cell_type": "markdown",
      "source": [
        "Задача 2. Среди сотрудников фирмы 28% знают английский язык, 30% – немецкий, 42% –\n",
        "французский; английский и немецкий – 8%, английский и французский – 10%, немецкий и\n",
        "французский – 5%, все три языка – 3%. Найти вероятность того, что случайно выбранный\n",
        "сотрудник фирмы:\n",
        "а) знает английский или немецкий;\n",
        "б) знает английский, немецкий или\n",
        "французский;\n",
        "в) не знает ни один из перечисленных языков."
      ],
      "metadata": {
        "id": "u7_Qk5D-yKZP"
      }
    },
    {
      "cell_type": "code",
      "source": [
        "# Задача 2А\n",
        "english = 0.28\n",
        "french = 0.42\n",
        "german = 0.30\n",
        "e_and_f = 0.10\n",
        "e_and_g = 0.08\n",
        "f_and_g = 0.05\n",
        "all3 = 0.03\n",
        "\n",
        "answer_a = english + german - e_and_g\n",
        "print(round(answer_a, 2))\n",
        "\n",
        "# Задача 2Б\n",
        "answer_b = (english + german + french - e_and_f -\n",
        "            e_and_g - f_and_g + all3)\n",
        "print(round(answer_b, 2))\n",
        "\n",
        "# Задача 2В\n",
        "answer_c = 1 - answer_b\n",
        "print(round(answer_c, 2))"
      ],
      "metadata": {
        "colab": {
          "base_uri": "https://localhost:8080/"
        },
        "id": "uooRduQWpjWs",
        "outputId": "f2297b4f-b90d-4467-bfca-983c68dc7ad1"
      },
      "execution_count": 13,
      "outputs": [
        {
          "output_type": "stream",
          "name": "stdout",
          "text": [
            "0.5\n",
            "0.8\n",
            "0.2\n"
          ]
        }
      ]
    },
    {
      "cell_type": "markdown",
      "source": [
        "Задача 3. В семье – двое детей. Какова вероятность, что старший ребенок – мальчик, если\n",
        "известно, что в семье есть дети обоего пола?"
      ],
      "metadata": {
        "id": "9Gh-HLkbyFZ4"
      }
    },
    {
      "cell_type": "code",
      "source": [
        "# Задача 3\n",
        "\n",
        "n = np.array(2)\n",
        "k = np.array(1)\n",
        "\n",
        "k/n"
      ],
      "metadata": {
        "colab": {
          "base_uri": "https://localhost:8080/"
        },
        "id": "g2zoEhripl-p",
        "outputId": "9c601987-f658-428d-9902-d6b1a2b7c0fc"
      },
      "execution_count": 11,
      "outputs": [
        {
          "output_type": "execute_result",
          "data": {
            "text/plain": [
              "0.5"
            ]
          },
          "metadata": {},
          "execution_count": 11
        }
      ]
    }
  ],
  "metadata": {
    "colab": {
      "toc_visible": true,
      "provenance": []
    },
    "kernelspec": {
      "display_name": "Python 3",
      "name": "python3"
    }
  },
  "nbformat": 4,
  "nbformat_minor": 0
}