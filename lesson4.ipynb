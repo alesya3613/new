{
  "nbformat": 4,
  "nbformat_minor": 0,
  "metadata": {
    "colab": {
      "provenance": []
    },
    "kernelspec": {
      "name": "python3",
      "display_name": "Python 3"
    },
    "language_info": {
      "name": "python"
    }
  },
  "cells": [
    {
      "cell_type": "code",
      "execution_count": 9,
      "metadata": {
        "colab": {
          "base_uri": "https://localhost:8080/"
        },
        "id": "xFWMpIer3lFi",
        "outputId": "cc7b43c0-f90b-4787-ccb5-0af93ae448fa"
      },
      "outputs": [
        {
          "output_type": "stream",
          "name": "stdout",
          "text": [
            "[[0, 1, 2], [0, 1, 2], [0, 1, 2]]\n"
          ]
        }
      ],
      "source": [
        "matrix = [[0, 0, 0], [0, 0, 0], [0, 0, 0]]\n",
        "\n",
        "for i in range(len(matrix)):\n",
        "  for j in range(len(matrix)):\n",
        "      matrix[i].append(j + i*len(matrix))\n",
        "\n",
        "    matrix[i].append(j)\n",
        "\n",
        "\n",
        "print(matrix)\n",
        "\n",
        "\n",
        "\n"
      ]
    },
    {
      "cell_type": "code",
      "source": [
        "matrix = [[0, 0, 0], [0, 0, 0], [0, 0, 0]]\n",
        "count = 0\n",
        "\n",
        "for i in range(len(matrix)):\n",
        "  for j in range(len(matrix)):\n",
        "      count += 1\n",
        "      if i % 2 == 0:\n",
        "          matrix[j][i] = count\n",
        "      else:\n",
        "          matrix[abs(j - 2)][i] = count\n",
        "\n",
        "for i in matrix: print(i)\n"
      ],
      "metadata": {
        "colab": {
          "base_uri": "https://localhost:8080/"
        },
        "id": "90o1LKOkP4X6",
        "outputId": "ac1710e6-e2db-4b80-fb80-69c5829a81f6"
      },
      "execution_count": 15,
      "outputs": [
        {
          "output_type": "stream",
          "name": "stdout",
          "text": [
            "[1, 6, 7]\n",
            "[2, 5, 8]\n",
            "[3, 4, 9]\n",
            "[[1, 6, 7], [2, 5, 8], [3, 4, 9]]\n"
          ]
        }
      ]
    },
    {
      "cell_type": "code",
      "source": [],
      "metadata": {
        "id": "p1IUrFK2XLn6"
      },
      "execution_count": null,
      "outputs": []
    },
    {
      "cell_type": "code",
      "source": [
        "matrix = [[0, 0, 0], [0, 0, 0], [0, 0, 0]]\n",
        "count = 0\n",
        "\n",
        "for i in range(len(matrix)):\n",
        "  for j in range(len(matrix)):\n",
        "      count += 1\n",
        "      if i % 2 == 0:\n",
        "          matrix[i][j] = count\n",
        "      else:\n",
        "          matrix[i][abs(j - 2)] = count\n",
        "\n",
        "for i in matrix: print(i)"
      ],
      "metadata": {
        "colab": {
          "base_uri": "https://localhost:8080/"
        },
        "id": "VdeI9Ir7Szb_",
        "outputId": "5ac557e4-f23a-47ae-e615-860924e6b7b3"
      },
      "execution_count": 21,
      "outputs": [
        {
          "output_type": "stream",
          "name": "stdout",
          "text": [
            "[1, 2, 3]\n",
            "[6, 5, 4]\n",
            "[7, 8, 9]\n"
          ]
        }
      ]
    },
    {
      "cell_type": "code",
      "source": [
        "lst = [3, 67, 15, 0, 23]\n",
        "\n",
        "def sort(lst):\n",
        "  sort_list = []\n",
        "  min_num = min(lst)\n",
        "  max_num = max(lst)\n",
        "\n",
        "  for i in lst:\n",
        "    if i > min_num and i < max_num:\n",
        "      lst.insert(lst.index(min_num) + 1, i)\n",
        "      min_num\n",
        "\n",
        "\n",
        "\n"
      ],
      "metadata": {
        "id": "8dDZnJ7NXOJR"
      },
      "execution_count": null,
      "outputs": []
    },
    {
      "cell_type": "code",
      "source": [
        "lst = [3, 67, 15, 0, 23]\n",
        "\n",
        "def sort(lst):\n",
        "  sort_list = []\n",
        "\n",
        "  for _ in range(len(lst)):\n",
        "      sort_list.append(min(lst))\n",
        "      lst.remove(min(lst))\n",
        "\n",
        "  return sort_list\n",
        "\n",
        "sort(lst)"
      ],
      "metadata": {
        "colab": {
          "base_uri": "https://localhost:8080/"
        },
        "id": "Mxxr2h1lamhR",
        "outputId": "3ff5df25-26b6-4cb2-a154-435d35718422"
      },
      "execution_count": 23,
      "outputs": [
        {
          "output_type": "execute_result",
          "data": {
            "text/plain": [
              "[0, 3, 15, 23, 67]"
            ]
          },
          "metadata": {},
          "execution_count": 23
        }
      ]
    }
  ]
}