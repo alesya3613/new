{
 "cells": [
  {
   "cell_type": "code",
   "execution_count": 1,
   "id": "2b1ed30c",
   "metadata": {},
   "outputs": [],
   "source": [
    "lst = ['текстДля', 'текСт']\n",
    "letters = 'ЙЦУКЕНГШЩЗХЪФЫВАПРОЛДЖЭЯЧСМИТЬБЮ'\n",
    "new_lst = ''"
   ]
  },
  {
   "cell_type": "code",
   "execution_count": 5,
   "id": "d9a634ac",
   "metadata": {},
   "outputs": [
    {
     "name": "stdout",
     "output_type": "stream",
     "text": [
      "Для\n",
      "Ст\n"
     ]
    }
   ],
   "source": [
    "for i in lst:\n",
    "    for j in range(len(i)):\n",
    "        if i[j] in letters:\n",
    "            print(i[j:])\n",
    "            new_lst += i[j:] + ' '\n",
    "            "
   ]
  },
  {
   "cell_type": "code",
   "execution_count": 6,
   "id": "a5f67345",
   "metadata": {},
   "outputs": [
    {
     "data": {
      "text/plain": [
       "['Д', 'л', 'я', ' ', 'С', 'т', ' ', 'Д', 'л', 'я', ' ', 'С', 'т', ' ']"
      ]
     },
     "execution_count": 6,
     "metadata": {},
     "output_type": "execute_result"
    }
   ],
   "source": [
    "new_lst"
   ]
  },
  {
   "cell_type": "markdown",
   "id": "a4b193e5",
   "metadata": {},
   "source": [
    "is_valid_brackets(\"({[]})\") → True  \n",
    "is_valid_brackets(\"([)]\") → False"
   ]
  },
  {
   "cell_type": "code",
   "execution_count": 34,
   "id": "e29325ef",
   "metadata": {},
   "outputs": [],
   "source": [
    "def is_valid_brackets(strn):\n",
    "    brackets = '()[]{}'\n",
    "    first_brackets = '({['\n",
    "    last_brackets =')]}'\n",
    "    all_st = ''\n",
    "    first_st = []\n",
    "    last_st = []\n",
    "    sq = '[]'\n",
    "    rn = '()'\n",
    "    fg = '{}'\n",
    "    \n",
    "    for let in strn:\n",
    "        if let in brackets:\n",
    "            all_st += let\n",
    "            if let in first_brackets:\n",
    "                first_st.append(let)\n",
    "            elif let in last_brackets:\n",
    "                last_st.append(let)\n",
    "            \n",
    "    print(first_st)\n",
    "    print(last_st)\n",
    "    print(all_st)\n",
    "    \n",
    "    if len(first_st) != len(last_st):\n",
    "        return False\n",
    "    elif ((all_st.find(')') - all_st.find('(')) % 2 == 1 \n",
    "          or (all_st.find(']') - all_st.find('[')) % 2 == 1 or (all_st.find('}') - all_st.find('{')) % 2 == 1):\n",
    "        return True\n",
    "    else:\n",
    "        return False\n",
    "    \n",
    "\n",
    "            \n",
    "            \n",
    "            \n",
    "            "
   ]
  },
  {
   "cell_type": "code",
   "execution_count": 17,
   "id": "b1f80e04",
   "metadata": {},
   "outputs": [],
   "source": [
    "first_str = 'Hello (my name [] is {Tom})'"
   ]
  },
  {
   "cell_type": "code",
   "execution_count": 33,
   "id": "f74b105b",
   "metadata": {},
   "outputs": [
    {
     "name": "stdout",
     "output_type": "stream",
     "text": [
      "['(', '[', '{']\n",
      "[']', '}', ')']\n",
      "([]{})\n",
      "5\n"
     ]
    },
    {
     "data": {
      "text/plain": [
       "True"
      ]
     },
     "execution_count": 33,
     "metadata": {},
     "output_type": "execute_result"
    }
   ],
   "source": [
    "is_valid_brackets(first_str)"
   ]
  },
  {
   "cell_type": "code",
   "execution_count": 20,
   "id": "1d2c57e1",
   "metadata": {},
   "outputs": [],
   "source": [
    "second_str = 'I do not (know] how to [ write({'"
   ]
  },
  {
   "cell_type": "code",
   "execution_count": 38,
   "id": "90fa8dda",
   "metadata": {},
   "outputs": [
    {
     "name": "stdout",
     "output_type": "stream",
     "text": [
      "['(', '[', '(', '{']\n",
      "[']']\n",
      "(][({\n"
     ]
    },
    {
     "data": {
      "text/plain": [
       "False"
      ]
     },
     "execution_count": 38,
     "metadata": {},
     "output_type": "execute_result"
    }
   ],
   "source": [
    "is_valid_brackets(second_str)"
   ]
  },
  {
   "cell_type": "code",
   "execution_count": 15,
   "id": "b2e894ba",
   "metadata": {},
   "outputs": [],
   "source": [
    "#решение чата \n",
    "def is_valid(s):  \n",
    "    stack = []  \n",
    "    brackets = {')': '(', ']': '[', '}': '{'}  \n",
    "    for char in s:  \n",
    "        if char in brackets.values():  \n",
    "            stack.append(char)  \n",
    "        elif char in brackets:  \n",
    "            if not stack or stack.pop() != brackets[char]:  \n",
    "                return False  \n",
    "    return not stack  "
   ]
  },
  {
   "cell_type": "code",
   "execution_count": 18,
   "id": "30abcb97",
   "metadata": {},
   "outputs": [
    {
     "data": {
      "text/plain": [
       "True"
      ]
     },
     "execution_count": 18,
     "metadata": {},
     "output_type": "execute_result"
    }
   ],
   "source": [
    "is_valid(first_str)"
   ]
  },
  {
   "cell_type": "code",
   "execution_count": 21,
   "id": "9ba4c6f5",
   "metadata": {},
   "outputs": [
    {
     "data": {
      "text/plain": [
       "False"
      ]
     },
     "execution_count": 21,
     "metadata": {},
     "output_type": "execute_result"
    }
   ],
   "source": [
    "is_valid(second_str)"
   ]
  },
  {
   "cell_type": "markdown",
   "id": "408eac5e",
   "metadata": {},
   "source": [
    "Уровень: средний"
   ]
  },
  {
   "cell_type": "markdown",
   "id": "b64c3820",
   "metadata": {},
   "source": [
    "1. Дан массив из n чисел от 1 до n+1 с одним пропущенным числом. Найди его."
   ]
  },
  {
   "cell_type": "code",
   "execution_count": 11,
   "id": "af3ff5dc",
   "metadata": {},
   "outputs": [],
   "source": [
    "#мой вариант\n",
    "def find_number(num):\n",
    "    num.sort() #добавлено чатом для улучшения\n",
    "    len_lst = len(num)\n",
    "    for i in range(len_lst + 1):\n",
    "        if num[i + 1] - num[i] != 1:\n",
    "            return num[i] + 1       "
   ]
  },
  {
   "cell_type": "code",
   "execution_count": 13,
   "id": "8c576846",
   "metadata": {},
   "outputs": [],
   "source": [
    "lst_of_numbers = [1, 2, 3, 5, 6]"
   ]
  },
  {
   "cell_type": "code",
   "execution_count": 14,
   "id": "099c1731",
   "metadata": {},
   "outputs": [
    {
     "name": "stdout",
     "output_type": "stream",
     "text": [
      "Пропущенное число: 4\n"
     ]
    }
   ],
   "source": [
    "print(f'Пропущенное число: {find_number(lst_of_numbers)}')"
   ]
  },
  {
   "cell_type": "code",
   "execution_count": null,
   "id": "451410fa",
   "metadata": {},
   "outputs": [],
   "source": [
    "#вариант чата\n",
    "def find_missing_number(nums):  \n",
    "    n = len(nums)  \n",
    "    expected_sum = (n + 1) * (n + 2) // 2  \n",
    "    actual_sum = sum(nums)  \n",
    "    return expected_sum - actual_sum  "
   ]
  },
  {
   "cell_type": "markdown",
   "id": "b02cae39",
   "metadata": {},
   "source": [
    "2. Дан список интервалов [start, end]. Объедини пересекающиеся интервалы."
   ]
  },
  {
   "cell_type": "code",
   "execution_count": 22,
   "id": "9a526229",
   "metadata": {},
   "outputs": [],
   "source": [
    "#пример\n",
    "intervals = [[1,3],[2,6],[8,10],[15,18]]  # Ответ: [[1,6],[8,10],[15,18]]  "
   ]
  },
  {
   "cell_type": "code",
   "execution_count": 31,
   "id": "4958f219",
   "metadata": {},
   "outputs": [],
   "source": [
    "def un_intervals(intervals):\n",
    "    new_lst_intr = []\n",
    "    new_intr = []\n",
    "    for i in range(len(intervals)):\n",
    "        if intervals[i][1] >= intervals[i + 1][0]:\n",
    "            new_intr.append(intervals[i][0])\n",
    "            new_intr.append(intervals[i + 1][1])\n",
    "            new_lst_intr.append(new_intr)\n",
    "        else:\n",
    "            new_lst_intr.append(intervals[i])\n",
    "    return new_lst_intr "
   ]
  },
  {
   "cell_type": "code",
   "execution_count": 33,
   "id": "6c97bab7",
   "metadata": {},
   "outputs": [
    {
     "data": {
      "text/plain": [
       "[15, 18]"
      ]
     },
     "execution_count": 33,
     "metadata": {},
     "output_type": "execute_result"
    }
   ],
   "source": [
    "intervals[-1]"
   ]
  },
  {
   "cell_type": "code",
   "execution_count": 32,
   "id": "92231988",
   "metadata": {
    "collapsed": true
   },
   "outputs": [
    {
     "ename": "IndexError",
     "evalue": "list index out of range",
     "output_type": "error",
     "traceback": [
      "\u001b[1;31m---------------------------------------------------------------------------\u001b[0m",
      "\u001b[1;31mIndexError\u001b[0m                                Traceback (most recent call last)",
      "Cell \u001b[1;32mIn[32], line 1\u001b[0m\n\u001b[1;32m----> 1\u001b[0m \u001b[38;5;28mprint\u001b[39m(\u001b[38;5;124mf\u001b[39m\u001b[38;5;124m'\u001b[39m\u001b[38;5;124mОбъединенные интервалы: \u001b[39m\u001b[38;5;132;01m{\u001b[39;00mun_intervals(intervals)\u001b[38;5;132;01m}\u001b[39;00m\u001b[38;5;124m'\u001b[39m)\n",
      "Cell \u001b[1;32mIn[31], line 5\u001b[0m, in \u001b[0;36mun_intervals\u001b[1;34m(intervals)\u001b[0m\n\u001b[0;32m      3\u001b[0m new_intr \u001b[38;5;241m=\u001b[39m []\n\u001b[0;32m      4\u001b[0m \u001b[38;5;28;01mfor\u001b[39;00m i \u001b[38;5;129;01min\u001b[39;00m \u001b[38;5;28mrange\u001b[39m(\u001b[38;5;28mlen\u001b[39m(intervals)):\n\u001b[1;32m----> 5\u001b[0m     \u001b[38;5;28;01mif\u001b[39;00m intervals[i][\u001b[38;5;241m1\u001b[39m] \u001b[38;5;241m>\u001b[39m\u001b[38;5;241m=\u001b[39m intervals[i \u001b[38;5;241m+\u001b[39m \u001b[38;5;241m1\u001b[39m][\u001b[38;5;241m0\u001b[39m]:\n\u001b[0;32m      6\u001b[0m         new_intr\u001b[38;5;241m.\u001b[39mappend(intervals[i][\u001b[38;5;241m0\u001b[39m])\n\u001b[0;32m      7\u001b[0m         new_intr\u001b[38;5;241m.\u001b[39mappend(intervals[i \u001b[38;5;241m+\u001b[39m \u001b[38;5;241m1\u001b[39m][\u001b[38;5;241m1\u001b[39m])\n",
      "\u001b[1;31mIndexError\u001b[0m: list index out of range"
     ]
    }
   ],
   "source": [
    "print(f'Объединенные интервалы: {un_intervals(intervals)}')"
   ]
  },
  {
   "cell_type": "markdown",
   "id": "53c4ac0d",
   "metadata": {},
   "source": [
    "3. Найди длину самой длинной подстроки без повторяющихся символов."
   ]
  },
  {
   "cell_type": "code",
   "execution_count": 34,
   "id": "af12ee2e",
   "metadata": {},
   "outputs": [],
   "source": [
    "#пример\n",
    "s = \"abcabcbb\"  # Ответ: 3 (\"abc\")  "
   ]
  },
  {
   "cell_type": "code",
   "execution_count": 38,
   "id": "6d374924",
   "metadata": {},
   "outputs": [],
   "source": [
    "#мое решение\n",
    "def str_uniqlen(st):\n",
    "    uniq_str = set(st)\n",
    "    print(uniq_str)\n",
    "    return len(uniq_str)"
   ]
  },
  {
   "cell_type": "code",
   "execution_count": 39,
   "id": "26afb321",
   "metadata": {},
   "outputs": [
    {
     "name": "stdout",
     "output_type": "stream",
     "text": [
      "{'a', 'b', 'c'}\n",
      "Длинна строки: 3\n"
     ]
    }
   ],
   "source": [
    "print(f'Длинна строки: {str_uniqlen(s)}')"
   ]
  },
  {
   "cell_type": "markdown",
   "id": "1cd52690",
   "metadata": {},
   "source": [
    "4. Дан массив целых чисел (возможно, с отрицательными значениями). Найди наибольшую сумму непрерывного подмассива."
   ]
  },
  {
   "cell_type": "code",
   "execution_count": null,
   "id": "c6606937",
   "metadata": {},
   "outputs": [],
   "source": [
    "input: [-2, 1, -3, 4, -1, 2, 1, -5, 4]\n",
    "output: 6  # подмассив [4, -1, 2, 1]"
   ]
  },
  {
   "cell_type": "code",
   "execution_count": 58,
   "id": "687794d8",
   "metadata": {},
   "outputs": [],
   "source": [
    "def sum_array(lst, n):\n",
    "    #n = input('Длинна подмассива:')\n",
    "    sum_lst = []\n",
    "    \n",
    "    if int(n) > len(lst):\n",
    "        return 'Incorrect input'\n",
    "    else:\n",
    "        numb_iter = len(lst) + 1 - int(n)\n",
    "        for i in range(numb_iter):\n",
    "            print(lst[i : i + int(n)])\n",
    "            print(sum(lst[i : i + int(n)]))\n",
    "            sum_lst.append(sum(lst[i : i + int(n)]))\n",
    "            \n",
    "    return max(sum_lst)\n",
    "            "
   ]
  },
  {
   "cell_type": "code",
   "execution_count": 44,
   "id": "5cb6622e",
   "metadata": {},
   "outputs": [],
   "source": [
    "lst = [-2, 1, -3, 4, -1, 2, 1, -5, 4]"
   ]
  },
  {
   "cell_type": "code",
   "execution_count": 59,
   "id": "a70130e8",
   "metadata": {},
   "outputs": [
    {
     "name": "stdout",
     "output_type": "stream",
     "text": [
      "Длинна подмассива:4\n",
      "[-2, 1, -3, 4]\n",
      "0\n",
      "[1, -3, 4, -1]\n",
      "1\n",
      "[-3, 4, -1, 2]\n",
      "2\n",
      "[4, -1, 2, 1]\n",
      "6\n",
      "[-1, 2, 1, -5]\n",
      "-3\n",
      "[2, 1, -5, 4]\n",
      "2\n",
      "Наибольшая сумма подмассива с длинной 4: 6\n"
     ]
    }
   ],
   "source": [
    "n = input('Длинна подмассива:')\n",
    "print(f'Наибольшая сумма подмассива с длинной {n}: {sum_array(lst, n)}')"
   ]
  },
  {
   "cell_type": "code",
   "execution_count": null,
   "id": "8bcd1bfe",
   "metadata": {},
   "outputs": [],
   "source": [
    "#решение чата\n",
    "def max_subarray_sum(lst, n):\n",
    "    if not isinstance(n, int) or n <= 0 or n > len(lst):\n",
    "        return 'Incorrect input'\n",
    "\n",
    "    # Начальная сумма первого окна\n",
    "    current_sum = sum(lst[:n])\n",
    "    max_sum = current_sum\n",
    "\n",
    "    # Скользящее окно\n",
    "    for i in range(n, len(lst)):\n",
    "        current_sum += lst[i] - lst[i - n]\n",
    "        max_sum = max(max_sum, current_sum)\n",
    "\n",
    "    return max_sum"
   ]
  },
  {
   "cell_type": "markdown",
   "id": "dee11096",
   "metadata": {},
   "source": [
    "Уровень сложный"
   ]
  },
  {
   "cell_type": "markdown",
   "id": "bded28a8",
   "metadata": {},
   "source": [
    "1. Дан набор монет и сумма. Найди минимальное число монет для этой суммы."
   ]
  },
  {
   "cell_type": "code",
   "execution_count": 62,
   "id": "2b22dd52",
   "metadata": {},
   "outputs": [],
   "source": [
    "coins = [1, 2, 5]\n",
    "amount = 11  # Ответ: 3 (5 + 5 + 1)  "
   ]
  },
  {
   "cell_type": "code",
   "execution_count": 67,
   "id": "d5c34f7d",
   "metadata": {},
   "outputs": [],
   "source": [
    "def money_count(coins, amount):\n",
    "    count = 0\n",
    "    coins.sort()\n",
    "    for i in coins[::-1]:\n",
    "        count += amount // i\n",
    "        amount = amount - amount // i * i\n",
    "        if amount <= 0:\n",
    "            break\n",
    "    return count  "
   ]
  },
  {
   "cell_type": "code",
   "execution_count": 68,
   "id": "cf366f91",
   "metadata": {},
   "outputs": [
    {
     "name": "stdout",
     "output_type": "stream",
     "text": [
      "Минимальное количество монет: 3\n"
     ]
    }
   ],
   "source": [
    "print(f'Минимальное количество монет: {money_count(coins, amount)}')"
   ]
  },
  {
   "cell_type": "code",
   "execution_count": null,
   "id": "819c7bd3",
   "metadata": {},
   "outputs": [],
   "source": [
    "#решение чата\n",
    "def min_coin_count(coins, amount):\n",
    "    dp = [float('inf')] * (amount + 1)\n",
    "    dp[0] = 0  # 0 монет нужно для суммы 0\n",
    "\n",
    "    for coin in coins:\n",
    "        for i in range(coin, amount + 1):\n",
    "            dp[i] = min(dp[i], dp[i - coin] + 1)\n",
    "\n",
    "    return dp[amount] if dp[amount] != float('inf') else -1\n"
   ]
  },
  {
   "cell_type": "markdown",
   "id": "62c65b47",
   "metadata": {},
   "source": [
    "2. Даны две строки s и t. Найди в s минимальную подстроку, которая содержит все символы из t (включая дубликаты). Если такой подстроки нет, верни пустую строку."
   ]
  },
  {
   "cell_type": "code",
   "execution_count": 70,
   "id": "f0a3b007",
   "metadata": {},
   "outputs": [],
   "source": [
    "s = \"ADOBECODEBANC\"\n",
    "t = \"ABC\""
   ]
  },
  {
   "cell_type": "code",
   "execution_count": 90,
   "id": "457552a7",
   "metadata": {},
   "outputs": [],
   "source": [
    "def find_substring(st, subst):\n",
    "    count = 0\n",
    "    \n",
    "    for i in range(len(subst), len(st)):\n",
    "        numb_iter = len(st) + 1 - i\n",
    "        for j in range(numb_iter):\n",
    "            for let in subst:\n",
    "                if let in st[j : j + i]:\n",
    "                    count += 1\n",
    "                    if count == len(subst):\n",
    "                        return str(st[j : j + i])\n",
    "            count = 0\n",
    "    return ''\n",
    "#не учитывает дубликаты                     "
   ]
  },
  {
   "cell_type": "code",
   "execution_count": 91,
   "id": "3ccfc291",
   "metadata": {},
   "outputs": [
    {
     "data": {
      "text/plain": [
       "'BANC'"
      ]
     },
     "execution_count": 91,
     "metadata": {},
     "output_type": "execute_result"
    }
   ],
   "source": [
    "find_substring(s, t)"
   ]
  },
  {
   "cell_type": "code",
   "execution_count": null,
   "id": "68ce3d1d",
   "metadata": {},
   "outputs": [],
   "source": [
    "#Решение чата \n",
    "from collections import Counter, defaultdict\n",
    "\n",
    "def min_window(s, t):\n",
    "    if not s or not t:\n",
    "        return \"\"\n",
    "\n",
    "    need = Counter(t)\n",
    "    window = defaultdict(int)\n",
    "    have, need_count = 0, len(need)\n",
    "    res, res_len = [-1, -1], float('inf')\n",
    "    left = 0\n",
    "\n",
    "    for right in range(len(s)):\n",
    "        char = s[right]\n",
    "        window[char] += 1\n",
    "\n",
    "        if char in need and window[char] == need[char]:\n",
    "            have += 1\n",
    "\n",
    "        while have == need_count:\n",
    "            if (right - left + 1) < res_len:\n",
    "                res = [left, right]\n",
    "                res_len = right - left + 1\n",
    "\n",
    "            window[s[left]] -= 1\n",
    "            if s[left] in need and window[s[left]] < need[s[left]]:\n",
    "                have -= 1\n",
    "            left += 1\n",
    "\n",
    "    l, r = res\n",
    "    return s[l:r+1] if res_len != float('inf') else \"\"\n"
   ]
  }
 ],
 "metadata": {
  "kernelspec": {
   "display_name": "Python 3 (ipykernel)",
   "language": "python",
   "name": "python3"
  },
  "language_info": {
   "codemirror_mode": {
    "name": "ipython",
    "version": 3
   },
   "file_extension": ".py",
   "mimetype": "text/x-python",
   "name": "python",
   "nbconvert_exporter": "python",
   "pygments_lexer": "ipython3",
   "version": "3.12.3"
  }
 },
 "nbformat": 4,
 "nbformat_minor": 5
}
