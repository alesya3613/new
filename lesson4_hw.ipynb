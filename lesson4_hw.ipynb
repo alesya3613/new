{
 "cells": [
  {
   "cell_type": "code",
   "execution_count": 10,
   "id": "290c0fb6",
   "metadata": {},
   "outputs": [
    {
     "data": {
      "text/plain": [
       "2.621471832816172"
      ]
     },
     "execution_count": 10,
     "metadata": {},
     "output_type": "execute_result"
    }
   ],
   "source": [
    "#написать функцию \n",
    "\n",
    "from math import *\n",
    "x =  1.79\n",
    "\n",
    "def func(x):\n",
    "    \n",
    "    y = pow(cos(exp(x)) + log10(pow(1 + x, 2)) + sqrt(exp(cos(x)) + \n",
    "        pow(sin(pi*x), 2)) + sqrt(1/x) + cos(x**2), sin(x))\n",
    "    \n",
    "    return y\n",
    "\n",
    "func(x)"
   ]
  },
  {
   "cell_type": "code",
   "execution_count": 11,
   "id": "b1c7b5e8",
   "metadata": {},
   "outputs": [
    {
     "data": {
      "text/plain": [
       "'Есть контакт!'"
      ]
     },
     "execution_count": 11,
     "metadata": {},
     "output_type": "execute_result"
    }
   ],
   "source": [
    "#Напишите функцию search_substr(subst, st), которая принимает 2 строки и\n",
    "#определяет, имеется ли подстрока subst в строке st. В случае нахождения\n",
    "#подстроки, возвращается фраза «Есть контакт!», а иначе «Мимо!». Должно\n",
    "#быть найдено совпадение независимо от регистра обеих строк.\n",
    "\n",
    "subst = 'nike'\n",
    "st = 'Nike is the biggest sports company'\n",
    "\n",
    "def search_substr(subst, st):\n",
    "    if subst.lower() in st.lower():\n",
    "        return 'Есть контакт!'\n",
    "    else:\n",
    "        return 'Мимо!'\n",
    "    \n",
    "search_substr(subst, st)"
   ]
  },
  {
   "cell_type": "code",
   "execution_count": 15,
   "id": "dc0d4a2d",
   "metadata": {
    "scrolled": true
   },
   "outputs": [
    {
     "name": "stdout",
     "output_type": "stream",
     "text": [
      "[('s', 4), ('i', 3), ('e', 3)]\n"
     ]
    }
   ],
   "source": [
    "#\n",
    "\n",
    "from collections import Counter\n",
    "\n",
    "st = 'Nike is the biggest sports company'\n",
    "\n",
    "lst_st = list(st)\n",
    "for s in lst_st:\n",
    "    if s == ' ':\n",
    "        lst_st.remove(s)\n",
    "\n",
    "counter = Counter(lst_st).most_common(3)\n",
    "\n",
    "print(counter)\n",
    "\n"
   ]
  },
  {
   "cell_type": "code",
   "execution_count": 16,
   "id": "f85833bc",
   "metadata": {},
   "outputs": [
    {
     "data": {
      "text/plain": [
       "[('4', 4), ('1', 4), ('8', 2)]"
      ]
     },
     "execution_count": 16,
     "metadata": {},
     "output_type": "execute_result"
    }
   ],
   "source": [
    "#Дана строка в виде случайной последовательности чисел от 0 до 9.\n",
    "#Для построения словаря создайте функцию\n",
    "#count_it(sequence), принимающую строку из цифр. Функция должна\n",
    "#возвратить словарь из 3-х самых часто встречаемых чисел.\n",
    "\n",
    "from collections import Counter\n",
    "\n",
    "num = '8469145421081634137795'\n",
    "\n",
    "def count_it(sequence):\n",
    "    \n",
    "    dic = Counter(sequence).most_common(3)\n",
    "    return dic\n",
    "    \n",
    "    \n",
    "count_it(num)    "
   ]
  },
  {
   "cell_type": "code",
   "execution_count": 27,
   "id": "b7eb39a5",
   "metadata": {},
   "outputs": [
    {
     "name": "stdout",
     "output_type": "stream",
     "text": [
      "3\n",
      "4\n",
      "6\n",
      "7\n"
     ]
    },
    {
     "data": {
      "text/plain": [
       "'warning'"
      ]
     },
     "execution_count": 27,
     "metadata": {},
     "output_type": "execute_result"
    }
   ],
   "source": [
    "# введения координат (a, b)\n",
    "#нахождения вашей фигуры и фигуры соперника (с, d), \n",
    "#необходимо получить ответ, угрожает ли вражеская фигура вам\n",
    "#ход  ферзем\n",
    "\n",
    "a_mine = int(input())\n",
    "b_mine = int(input())\n",
    "c_rival = int(input())\n",
    "d_rival = int(input())\n",
    "\n",
    "def chess_f(a, b, c, d):\n",
    "    \n",
    "    if c == a or b == d :\n",
    "        return 'warning'\n",
    "    \n",
    "    if abs(a - c) == abs(b - d):\n",
    "        return 'warning'\n",
    "    else:\n",
    "        return 'safe'\n",
    "        \n",
    "chess_f(a_mine, b_mine, c_rival, d_rival)"
   ]
  },
  {
   "cell_type": "code",
   "execution_count": 29,
   "id": "8cf0b73f",
   "metadata": {},
   "outputs": [
    {
     "name": "stdout",
     "output_type": "stream",
     "text": [
      "4\n",
      "3\n",
      "4\n",
      "5\n"
     ]
    },
    {
     "data": {
      "text/plain": [
       "'safe'"
      ]
     },
     "execution_count": 29,
     "metadata": {},
     "output_type": "execute_result"
    }
   ],
   "source": [
    "# введения координат (a, b)\n",
    "#нахождения вашей фигуры и фигуры соперника (с, d), \n",
    "#необходимо получить ответ, угрожает ли вражеская фигура вам\n",
    "#ход конем\n",
    "\n",
    "a_mine = int(input())\n",
    "b_mine = int(input())\n",
    "c_rival = int(input())\n",
    "d_rival = int(input())\n",
    "\n",
    "def chess_k(a, b, c, d):\n",
    "    \n",
    "    if (abs(c - a) == 2 and abs(d - b) == 1) or (abs(d - b) == 2 and abs(c - a) == 1):\n",
    "        return 'warning'\n",
    "    else:\n",
    "        return 'safe'\n",
    "        \n",
    "chess_k(a_mine, b_mine, c_rival, d_rival)"
   ]
  },
  {
   "cell_type": "code",
   "execution_count": null,
   "id": "04467e9f",
   "metadata": {},
   "outputs": [],
   "source": []
  }
 ],
 "metadata": {
  "kernelspec": {
   "display_name": "Python 3 (ipykernel)",
   "language": "python",
   "name": "python3"
  },
  "language_info": {
   "codemirror_mode": {
    "name": "ipython",
    "version": 3
   },
   "file_extension": ".py",
   "mimetype": "text/x-python",
   "name": "python",
   "nbconvert_exporter": "python",
   "pygments_lexer": "ipython3",
   "version": "3.12.3"
  }
 },
 "nbformat": 4,
 "nbformat_minor": 5
}
