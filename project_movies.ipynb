{
 "cells": [
  {
   "cell_type": "code",
   "execution_count": 1,
   "id": "f4b411e2",
   "metadata": {},
   "outputs": [],
   "source": [
    "import pandas as pd\n",
    "from sklearn.metrics.pairwise import cosine_similarity\n",
    "from sklearn.feature_extraction.text import TfidfVectorizer\n",
    "from sklearn.preprocessing import MinMaxScaler"
   ]
  },
  {
   "cell_type": "code",
   "execution_count": 2,
   "id": "5bdd2d4f",
   "metadata": {},
   "outputs": [],
   "source": [
    "movies = pd.read_csv('D:/ml-latest/ml-latest/movies.csv')"
   ]
  },
  {
   "cell_type": "code",
   "execution_count": 4,
   "id": "0d262fa7",
   "metadata": {},
   "outputs": [],
   "source": [
    "#genome_scores = pd.read_csv('D:/ml-latest/ml-latest/genome-scores.csv')\n",
    "#genome_tags = pd.read_csv('D:/ml-latest/ml-latest/genome-tags.csv')\n",
    "ratings = pd.read_csv('D:/ml-latest/ml-latest/ratings.csv')\n",
    "#tags = pd.read_csv('D:/ml-latest/ml-latest/tags.csv')"
   ]
  },
  {
   "cell_type": "code",
   "execution_count": 5,
   "id": "286e618d",
   "metadata": {},
   "outputs": [],
   "source": [
    "merged_genome = genome_scores.merge(genome_tags, on='tagId', how='left')"
   ]
  },
  {
   "cell_type": "code",
   "execution_count": 21,
   "id": "4ea6e621",
   "metadata": {},
   "outputs": [],
   "source": [
    "merged_movies = movies.merge(merged_genome, on='movieId', how='left')"
   ]
  },
  {
   "cell_type": "code",
   "execution_count": 22,
   "id": "a77a5f45",
   "metadata": {},
   "outputs": [
    {
     "data": {
      "text/html": [
       "<div>\n",
       "<style scoped>\n",
       "    .dataframe tbody tr th:only-of-type {\n",
       "        vertical-align: middle;\n",
       "    }\n",
       "\n",
       "    .dataframe tbody tr th {\n",
       "        vertical-align: top;\n",
       "    }\n",
       "\n",
       "    .dataframe thead th {\n",
       "        text-align: right;\n",
       "    }\n",
       "</style>\n",
       "<table border=\"1\" class=\"dataframe\">\n",
       "  <thead>\n",
       "    <tr style=\"text-align: right;\">\n",
       "      <th></th>\n",
       "      <th>movieId</th>\n",
       "      <th>title</th>\n",
       "      <th>genres</th>\n",
       "      <th>tagId</th>\n",
       "      <th>relevance</th>\n",
       "      <th>tag</th>\n",
       "    </tr>\n",
       "  </thead>\n",
       "  <tbody>\n",
       "    <tr>\n",
       "      <th>0</th>\n",
       "      <td>1</td>\n",
       "      <td>Toy Story (1995)</td>\n",
       "      <td>Adventure|Animation|Children|Comedy|Fantasy</td>\n",
       "      <td>1.0</td>\n",
       "      <td>0.03200</td>\n",
       "      <td>007</td>\n",
       "    </tr>\n",
       "    <tr>\n",
       "      <th>1</th>\n",
       "      <td>1</td>\n",
       "      <td>Toy Story (1995)</td>\n",
       "      <td>Adventure|Animation|Children|Comedy|Fantasy</td>\n",
       "      <td>2.0</td>\n",
       "      <td>0.02225</td>\n",
       "      <td>007 (series)</td>\n",
       "    </tr>\n",
       "    <tr>\n",
       "      <th>2</th>\n",
       "      <td>1</td>\n",
       "      <td>Toy Story (1995)</td>\n",
       "      <td>Adventure|Animation|Children|Comedy|Fantasy</td>\n",
       "      <td>3.0</td>\n",
       "      <td>0.07000</td>\n",
       "      <td>18th century</td>\n",
       "    </tr>\n",
       "    <tr>\n",
       "      <th>3</th>\n",
       "      <td>1</td>\n",
       "      <td>Toy Story (1995)</td>\n",
       "      <td>Adventure|Animation|Children|Comedy|Fantasy</td>\n",
       "      <td>4.0</td>\n",
       "      <td>0.05900</td>\n",
       "      <td>1920s</td>\n",
       "    </tr>\n",
       "    <tr>\n",
       "      <th>4</th>\n",
       "      <td>1</td>\n",
       "      <td>Toy Story (1995)</td>\n",
       "      <td>Adventure|Animation|Children|Comedy|Fantasy</td>\n",
       "      <td>5.0</td>\n",
       "      <td>0.12300</td>\n",
       "      <td>1930s</td>\n",
       "    </tr>\n",
       "    <tr>\n",
       "      <th>5</th>\n",
       "      <td>1</td>\n",
       "      <td>Toy Story (1995)</td>\n",
       "      <td>Adventure|Animation|Children|Comedy|Fantasy</td>\n",
       "      <td>6.0</td>\n",
       "      <td>0.13100</td>\n",
       "      <td>1950s</td>\n",
       "    </tr>\n",
       "    <tr>\n",
       "      <th>6</th>\n",
       "      <td>1</td>\n",
       "      <td>Toy Story (1995)</td>\n",
       "      <td>Adventure|Animation|Children|Comedy|Fantasy</td>\n",
       "      <td>7.0</td>\n",
       "      <td>0.06175</td>\n",
       "      <td>1960s</td>\n",
       "    </tr>\n",
       "    <tr>\n",
       "      <th>7</th>\n",
       "      <td>1</td>\n",
       "      <td>Toy Story (1995)</td>\n",
       "      <td>Adventure|Animation|Children|Comedy|Fantasy</td>\n",
       "      <td>8.0</td>\n",
       "      <td>0.19550</td>\n",
       "      <td>1970s</td>\n",
       "    </tr>\n",
       "    <tr>\n",
       "      <th>8</th>\n",
       "      <td>1</td>\n",
       "      <td>Toy Story (1995)</td>\n",
       "      <td>Adventure|Animation|Children|Comedy|Fantasy</td>\n",
       "      <td>9.0</td>\n",
       "      <td>0.26625</td>\n",
       "      <td>1980s</td>\n",
       "    </tr>\n",
       "    <tr>\n",
       "      <th>9</th>\n",
       "      <td>1</td>\n",
       "      <td>Toy Story (1995)</td>\n",
       "      <td>Adventure|Animation|Children|Comedy|Fantasy</td>\n",
       "      <td>10.0</td>\n",
       "      <td>0.03300</td>\n",
       "      <td>19th century</td>\n",
       "    </tr>\n",
       "  </tbody>\n",
       "</table>\n",
       "</div>"
      ],
      "text/plain": [
       "   movieId             title                                       genres  \\\n",
       "0        1  Toy Story (1995)  Adventure|Animation|Children|Comedy|Fantasy   \n",
       "1        1  Toy Story (1995)  Adventure|Animation|Children|Comedy|Fantasy   \n",
       "2        1  Toy Story (1995)  Adventure|Animation|Children|Comedy|Fantasy   \n",
       "3        1  Toy Story (1995)  Adventure|Animation|Children|Comedy|Fantasy   \n",
       "4        1  Toy Story (1995)  Adventure|Animation|Children|Comedy|Fantasy   \n",
       "5        1  Toy Story (1995)  Adventure|Animation|Children|Comedy|Fantasy   \n",
       "6        1  Toy Story (1995)  Adventure|Animation|Children|Comedy|Fantasy   \n",
       "7        1  Toy Story (1995)  Adventure|Animation|Children|Comedy|Fantasy   \n",
       "8        1  Toy Story (1995)  Adventure|Animation|Children|Comedy|Fantasy   \n",
       "9        1  Toy Story (1995)  Adventure|Animation|Children|Comedy|Fantasy   \n",
       "\n",
       "   tagId  relevance           tag  \n",
       "0    1.0    0.03200           007  \n",
       "1    2.0    0.02225  007 (series)  \n",
       "2    3.0    0.07000  18th century  \n",
       "3    4.0    0.05900         1920s  \n",
       "4    5.0    0.12300         1930s  \n",
       "5    6.0    0.13100         1950s  \n",
       "6    7.0    0.06175         1960s  \n",
       "7    8.0    0.19550         1970s  \n",
       "8    9.0    0.26625         1980s  \n",
       "9   10.0    0.03300  19th century  "
      ]
     },
     "execution_count": 22,
     "metadata": {},
     "output_type": "execute_result"
    }
   ],
   "source": [
    "merged_movies.head(10)"
   ]
  },
  {
   "cell_type": "code",
   "execution_count": 7,
   "id": "f28e6774",
   "metadata": {},
   "outputs": [],
   "source": [
    "ratings['timestamp'] = pd.to_datetime(ratings['timestamp'], unit='s')"
   ]
  },
  {
   "cell_type": "code",
   "execution_count": 13,
   "id": "c6439d30",
   "metadata": {},
   "outputs": [
    {
     "data": {
      "text/html": [
       "<div>\n",
       "<style scoped>\n",
       "    .dataframe tbody tr th:only-of-type {\n",
       "        vertical-align: middle;\n",
       "    }\n",
       "\n",
       "    .dataframe tbody tr th {\n",
       "        vertical-align: top;\n",
       "    }\n",
       "\n",
       "    .dataframe thead th {\n",
       "        text-align: right;\n",
       "    }\n",
       "</style>\n",
       "<table border=\"1\" class=\"dataframe\">\n",
       "  <thead>\n",
       "    <tr style=\"text-align: right;\">\n",
       "      <th></th>\n",
       "      <th>userId</th>\n",
       "      <th>movieId</th>\n",
       "      <th>rating</th>\n",
       "    </tr>\n",
       "  </thead>\n",
       "  <tbody>\n",
       "    <tr>\n",
       "      <th>0</th>\n",
       "      <td>1</td>\n",
       "      <td>1</td>\n",
       "      <td>4.0</td>\n",
       "    </tr>\n",
       "    <tr>\n",
       "      <th>1</th>\n",
       "      <td>1</td>\n",
       "      <td>110</td>\n",
       "      <td>4.0</td>\n",
       "    </tr>\n",
       "    <tr>\n",
       "      <th>2</th>\n",
       "      <td>1</td>\n",
       "      <td>158</td>\n",
       "      <td>4.0</td>\n",
       "    </tr>\n",
       "    <tr>\n",
       "      <th>3</th>\n",
       "      <td>1</td>\n",
       "      <td>260</td>\n",
       "      <td>4.5</td>\n",
       "    </tr>\n",
       "    <tr>\n",
       "      <th>4</th>\n",
       "      <td>1</td>\n",
       "      <td>356</td>\n",
       "      <td>5.0</td>\n",
       "    </tr>\n",
       "  </tbody>\n",
       "</table>\n",
       "</div>"
      ],
      "text/plain": [
       "   userId  movieId  rating\n",
       "0       1        1     4.0\n",
       "1       1      110     4.0\n",
       "2       1      158     4.0\n",
       "3       1      260     4.5\n",
       "4       1      356     5.0"
      ]
     },
     "execution_count": 13,
     "metadata": {},
     "output_type": "execute_result"
    }
   ],
   "source": [
    "ratings[[\"userId\", \"movieId\", \"rating\"]].head()"
   ]
  },
  {
   "cell_type": "code",
   "execution_count": 9,
   "id": "a59fec50",
   "metadata": {},
   "outputs": [],
   "source": [
    "tags['timestamp'] = pd.to_datetime(tags['timestamp'], unit='s')"
   ]
  },
  {
   "cell_type": "code",
   "execution_count": 10,
   "id": "fea4a605",
   "metadata": {
    "collapsed": true
   },
   "outputs": [
    {
     "data": {
      "text/html": [
       "<div>\n",
       "<style scoped>\n",
       "    .dataframe tbody tr th:only-of-type {\n",
       "        vertical-align: middle;\n",
       "    }\n",
       "\n",
       "    .dataframe tbody tr th {\n",
       "        vertical-align: top;\n",
       "    }\n",
       "\n",
       "    .dataframe thead th {\n",
       "        text-align: right;\n",
       "    }\n",
       "</style>\n",
       "<table border=\"1\" class=\"dataframe\">\n",
       "  <thead>\n",
       "    <tr style=\"text-align: right;\">\n",
       "      <th></th>\n",
       "      <th>userId</th>\n",
       "      <th>movieId</th>\n",
       "      <th>tag</th>\n",
       "      <th>timestamp</th>\n",
       "    </tr>\n",
       "  </thead>\n",
       "  <tbody>\n",
       "    <tr>\n",
       "      <th>0</th>\n",
       "      <td>10</td>\n",
       "      <td>260</td>\n",
       "      <td>good vs evil</td>\n",
       "      <td>2015-05-03 15:22:38</td>\n",
       "    </tr>\n",
       "    <tr>\n",
       "      <th>1</th>\n",
       "      <td>10</td>\n",
       "      <td>260</td>\n",
       "      <td>Harrison Ford</td>\n",
       "      <td>2015-05-03 15:21:45</td>\n",
       "    </tr>\n",
       "    <tr>\n",
       "      <th>2</th>\n",
       "      <td>10</td>\n",
       "      <td>260</td>\n",
       "      <td>sci-fi</td>\n",
       "      <td>2015-05-03 15:22:18</td>\n",
       "    </tr>\n",
       "    <tr>\n",
       "      <th>3</th>\n",
       "      <td>14</td>\n",
       "      <td>1221</td>\n",
       "      <td>Al Pacino</td>\n",
       "      <td>2011-07-25 13:32:36</td>\n",
       "    </tr>\n",
       "    <tr>\n",
       "      <th>4</th>\n",
       "      <td>14</td>\n",
       "      <td>1221</td>\n",
       "      <td>mafia</td>\n",
       "      <td>2011-07-25 13:32:26</td>\n",
       "    </tr>\n",
       "  </tbody>\n",
       "</table>\n",
       "</div>"
      ],
      "text/plain": [
       "   userId  movieId            tag           timestamp\n",
       "0      10      260   good vs evil 2015-05-03 15:22:38\n",
       "1      10      260  Harrison Ford 2015-05-03 15:21:45\n",
       "2      10      260         sci-fi 2015-05-03 15:22:18\n",
       "3      14     1221      Al Pacino 2011-07-25 13:32:36\n",
       "4      14     1221          mafia 2011-07-25 13:32:26"
      ]
     },
     "execution_count": 10,
     "metadata": {},
     "output_type": "execute_result"
    }
   ],
   "source": [
    "tags.head()"
   ]
  },
  {
   "cell_type": "markdown",
   "id": "e0ca4160",
   "metadata": {},
   "source": [
    "Задача 1"
   ]
  },
  {
   "cell_type": "code",
   "execution_count": 11,
   "id": "9c411308",
   "metadata": {},
   "outputs": [],
   "source": [
    "# Агрегируем данные по фильмам: считаем среднюю оценку и количество оценок для каждого фильма\n",
    "agg_ratings = ratings.groupby('movieId').agg({\n",
    "    'rating': ['mean', 'count']\n",
    "})\n",
    "agg_ratings.columns = ['vote_average', 'vote_count']  # Переименовываем столбцы для удобства\n",
    "agg_ratings.reset_index(inplace=True)"
   ]
  },
  {
   "cell_type": "code",
   "execution_count": null,
   "id": "f5b63095",
   "metadata": {},
   "outputs": [],
   "source": [
    "movies_with_ratings = movies.merge(agg_ratings, on='movieId')"
   ]
  },
  {
   "cell_type": "markdown",
   "id": "559dab63",
   "metadata": {},
   "source": [
    "Продвижение фильмов"
   ]
  },
  {
   "cell_type": "code",
   "execution_count": 59,
   "id": "94762af4",
   "metadata": {},
   "outputs": [],
   "source": [
    "#Создаем дополнительный столюец flag, где 1 - продвижение, 0 - сохранение и -1 снижение \n",
    "movies_with_ratings['flag'] = 0"
   ]
  },
  {
   "cell_type": "markdown",
   "id": "836d91bf",
   "metadata": {},
   "source": [
    "Присваем значения колнки флаг выбранным фильмам"
   ]
  },
  {
   "cell_type": "code",
   "execution_count": 63,
   "id": "8bd2af03",
   "metadata": {},
   "outputs": [],
   "source": [
    "movies_with_ratings.loc[movies_with_ratings['title'] == 'Ouija Japan (2021)', 'vote_count'] = 1\n"
   ]
  },
  {
   "cell_type": "code",
   "execution_count": 64,
   "id": "29800808",
   "metadata": {},
   "outputs": [],
   "source": [
    "movies_with_ratings.loc[movies_with_ratings['title'] == 'Ouija Japan (2021)', 'flag'] = 1\n"
   ]
  },
  {
   "cell_type": "code",
   "execution_count": 74,
   "id": "8d183165",
   "metadata": {},
   "outputs": [],
   "source": [
    "movies_with_ratings.loc[movies_with_ratings['title'] == 'Godfather: Part II, The (1974)', 'flag'] = -1"
   ]
  },
  {
   "cell_type": "code",
   "execution_count": 80,
   "id": "3f49b34a",
   "metadata": {
    "collapsed": true
   },
   "outputs": [
    {
     "data": {
      "text/html": [
       "<div>\n",
       "<style scoped>\n",
       "    .dataframe tbody tr th:only-of-type {\n",
       "        vertical-align: middle;\n",
       "    }\n",
       "\n",
       "    .dataframe tbody tr th {\n",
       "        vertical-align: top;\n",
       "    }\n",
       "\n",
       "    .dataframe thead th {\n",
       "        text-align: right;\n",
       "    }\n",
       "</style>\n",
       "<table border=\"1\" class=\"dataframe\">\n",
       "  <thead>\n",
       "    <tr style=\"text-align: right;\">\n",
       "      <th></th>\n",
       "      <th>movieId</th>\n",
       "      <th>title</th>\n",
       "      <th>genres</th>\n",
       "      <th>vote_average</th>\n",
       "      <th>vote_count</th>\n",
       "      <th>score</th>\n",
       "      <th>flag</th>\n",
       "    </tr>\n",
       "  </thead>\n",
       "  <tbody>\n",
       "    <tr>\n",
       "      <th>314</th>\n",
       "      <td>318</td>\n",
       "      <td>Shawshank Redemption, The (1994)</td>\n",
       "      <td>Crime|Drama</td>\n",
       "      <td>4.416792</td>\n",
       "      <td>122296</td>\n",
       "      <td>4.413779</td>\n",
       "      <td>0</td>\n",
       "    </tr>\n",
       "    <tr>\n",
       "      <th>39322</th>\n",
       "      <td>159817</td>\n",
       "      <td>Planet Earth (2006)</td>\n",
       "      <td>Documentary</td>\n",
       "      <td>4.448093</td>\n",
       "      <td>3015</td>\n",
       "      <td>4.332929</td>\n",
       "      <td>0</td>\n",
       "    </tr>\n",
       "    <tr>\n",
       "      <th>840</th>\n",
       "      <td>858</td>\n",
       "      <td>Godfather, The (1972)</td>\n",
       "      <td>Crime|Drama</td>\n",
       "      <td>4.326603</td>\n",
       "      <td>75004</td>\n",
       "      <td>4.322012</td>\n",
       "      <td>0</td>\n",
       "    </tr>\n",
       "    <tr>\n",
       "      <th>44066</th>\n",
       "      <td>170705</td>\n",
       "      <td>Band of Brothers (2001)</td>\n",
       "      <td>Action|Drama|War</td>\n",
       "      <td>4.423986</td>\n",
       "      <td>2835</td>\n",
       "      <td>4.304177</td>\n",
       "      <td>0</td>\n",
       "    </tr>\n",
       "    <tr>\n",
       "      <th>58750</th>\n",
       "      <td>202439</td>\n",
       "      <td>Parasite (2019)</td>\n",
       "      <td>Comedy|Drama</td>\n",
       "      <td>4.329946</td>\n",
       "      <td>12399</td>\n",
       "      <td>4.302586</td>\n",
       "      <td>0</td>\n",
       "    </tr>\n",
       "    <tr>\n",
       "      <th>44214</th>\n",
       "      <td>171011</td>\n",
       "      <td>Planet Earth II (2016)</td>\n",
       "      <td>Documentary</td>\n",
       "      <td>4.451739</td>\n",
       "      <td>2041</td>\n",
       "      <td>4.287475</td>\n",
       "      <td>0</td>\n",
       "    </tr>\n",
       "    <tr>\n",
       "      <th>49</th>\n",
       "      <td>50</td>\n",
       "      <td>Usual Suspects, The (1995)</td>\n",
       "      <td>Crime|Mystery|Thriller</td>\n",
       "      <td>4.267865</td>\n",
       "      <td>72893</td>\n",
       "      <td>4.263353</td>\n",
       "      <td>0</td>\n",
       "    </tr>\n",
       "    <tr>\n",
       "      <th>1190</th>\n",
       "      <td>1221</td>\n",
       "      <td>Godfather: Part II, The (1974)</td>\n",
       "      <td>Crime|Drama</td>\n",
       "      <td>4.269510</td>\n",
       "      <td>47271</td>\n",
       "      <td>4.262556</td>\n",
       "      <td>-1</td>\n",
       "    </tr>\n",
       "    <tr>\n",
       "      <th>1173</th>\n",
       "      <td>1203</td>\n",
       "      <td>12 Angry Men (1957)</td>\n",
       "      <td>Drama</td>\n",
       "      <td>4.267158</td>\n",
       "      <td>22730</td>\n",
       "      <td>4.252809</td>\n",
       "      <td>0</td>\n",
       "    </tr>\n",
       "    <tr>\n",
       "      <th>522</th>\n",
       "      <td>527</td>\n",
       "      <td>Schindler's List (1993)</td>\n",
       "      <td>Drama|War</td>\n",
       "      <td>4.242337</td>\n",
       "      <td>84232</td>\n",
       "      <td>4.238509</td>\n",
       "      <td>0</td>\n",
       "    </tr>\n",
       "  </tbody>\n",
       "</table>\n",
       "</div>"
      ],
      "text/plain": [
       "       movieId                             title                  genres  \\\n",
       "314        318  Shawshank Redemption, The (1994)             Crime|Drama   \n",
       "39322   159817               Planet Earth (2006)             Documentary   \n",
       "840        858             Godfather, The (1972)             Crime|Drama   \n",
       "44066   170705           Band of Brothers (2001)        Action|Drama|War   \n",
       "58750   202439                   Parasite (2019)            Comedy|Drama   \n",
       "44214   171011            Planet Earth II (2016)             Documentary   \n",
       "49          50        Usual Suspects, The (1995)  Crime|Mystery|Thriller   \n",
       "1190      1221    Godfather: Part II, The (1974)             Crime|Drama   \n",
       "1173      1203               12 Angry Men (1957)                   Drama   \n",
       "522        527           Schindler's List (1993)               Drama|War   \n",
       "\n",
       "       vote_average  vote_count     score  flag  \n",
       "314        4.416792      122296  4.413779     0  \n",
       "39322      4.448093        3015  4.332929     0  \n",
       "840        4.326603       75004  4.322012     0  \n",
       "44066      4.423986        2835  4.304177     0  \n",
       "58750      4.329946       12399  4.302586     0  \n",
       "44214      4.451739        2041  4.287475     0  \n",
       "49         4.267865       72893  4.263353     0  \n",
       "1190       4.269510       47271  4.262556    -1  \n",
       "1173       4.267158       22730  4.252809     0  \n",
       "522        4.242337       84232  4.238509     0  "
      ]
     },
     "execution_count": 80,
     "metadata": {},
     "output_type": "execute_result"
    }
   ],
   "source": [
    "movies_with_ratings.head(10)"
   ]
  },
  {
   "cell_type": "code",
   "execution_count": 81,
   "id": "9402dcb7",
   "metadata": {},
   "outputs": [],
   "source": [
    "m = movies_with_ratings['vote_count'].quantile(0.9)"
   ]
  },
  {
   "cell_type": "code",
   "execution_count": 82,
   "id": "ec7e8fe0",
   "metadata": {},
   "outputs": [],
   "source": [
    "C = movies_with_ratings['vote_average'].mean()"
   ]
  },
  {
   "cell_type": "markdown",
   "id": "a9e202c6",
   "metadata": {},
   "source": [
    "Добавляем условия для фильтрации фильмов с учетом колонки flag"
   ]
  },
  {
   "cell_type": "code",
   "execution_count": 83,
   "id": "66cb0db8",
   "metadata": {},
   "outputs": [],
   "source": [
    "qualified_movies = movies_with_ratings[(movies_with_ratings['vote_count'] >= m) | (movies_with_ratings['flag'] == 1)].copy()"
   ]
  },
  {
   "cell_type": "markdown",
   "id": "0ce1cb8e",
   "metadata": {},
   "source": [
    "Функция для подбора лучших фильмов в случае холодного старта"
   ]
  },
  {
   "cell_type": "code",
   "execution_count": 54,
   "id": "1459e9ec",
   "metadata": {},
   "outputs": [],
   "source": [
    "def weighted_rating(x, m=m, C=C):\n",
    "    v = x['vote_count']\n",
    "    R = x['vote_average']\n",
    "    # Calculation based on the IMDB formula\n",
    "    return (v/(v+m) * R) + (m/(m+v) * C) "
   ]
  },
  {
   "cell_type": "markdown",
   "id": "6e26950f",
   "metadata": {},
   "source": [
    "Доработанная функция для продвижения"
   ]
  },
  {
   "cell_type": "code",
   "execution_count": 88,
   "id": "c686a459",
   "metadata": {},
   "outputs": [],
   "source": [
    "def weights_films(x, m=m, C=C):\n",
    "    flag = x['flag']\n",
    "    v = x['vote_count']\n",
    "    R = x['vote_average']\n",
    "    \n",
    "    if flag == 1:\n",
    "        return (v/(v+m) * R) + (m/(m+v) * C) * 1000\n",
    "    elif flag == -1:\n",
    "        return ((v/(v+m) * R) + (m/(m+v) * C)) * -1\n",
    "    else:\n",
    "        return (v/(v+m) * R) + (m/(m+v) * C) "
   ]
  },
  {
   "cell_type": "code",
   "execution_count": 89,
   "id": "b1cada94",
   "metadata": {
    "collapsed": true
   },
   "outputs": [
    {
     "name": "stdout",
     "output_type": "stream",
     "text": [
      "                                                   title  vote_average  \\\n",
      "83235                                 Ouija Japan (2021)      0.500000   \n",
      "314                     Shawshank Redemption, The (1994)      4.416792   \n",
      "39322                                Planet Earth (2006)      4.448093   \n",
      "840                                Godfather, The (1972)      4.326603   \n",
      "44066                            Band of Brothers (2001)      4.423986   \n",
      "58750                                    Parasite (2019)      4.329946   \n",
      "44214                             Planet Earth II (2016)      4.451739   \n",
      "49                            Usual Suspects, The (1995)      4.267865   \n",
      "1173                                 12 Angry Men (1957)      4.267158   \n",
      "522                              Schindler's List (1993)      4.242337   \n",
      "2867                                   Fight Club (1999)      4.236019   \n",
      "1930         Seven Samurai (Shichinin no samurai) (1954)      4.250818   \n",
      "5509   Spirited Away (Sen to Chihiro no kamikakushi) ...      4.226035   \n",
      "883                                   Rear Window (1954)      4.223028   \n",
      "1164              One Flew Over the Cuckoo's Nest (1975)      4.212801   \n",
      "734    Dr. Strangelove or: How I Learned to Stop Worr...      4.199991   \n",
      "292                                  Pulp Fiction (1994)      4.191778   \n",
      "891                                    Casablanca (1942)      4.195889   \n",
      "1182                                   Goodfellas (1990)      4.191918   \n",
      "12221                            Dark Knight, The (2008)      4.187539   \n",
      "\n",
      "       vote_count        score                       genres  \n",
      "83235           1  3001.296228                Action|Horror  \n",
      "314        122296     4.413779                  Crime|Drama  \n",
      "39322        3015     4.332929                  Documentary  \n",
      "840         75004     4.322012                  Crime|Drama  \n",
      "44066        2835     4.304177             Action|Drama|War  \n",
      "58750       12399     4.302586                 Comedy|Drama  \n",
      "44214        2041     4.287475                  Documentary  \n",
      "49          72893     4.263353       Crime|Mystery|Thriller  \n",
      "1173        22730     4.252809                        Drama  \n",
      "522         84232     4.238509                    Drama|War  \n",
      "2867        86207     4.232298  Action|Crime|Drama|Thriller  \n",
      "1930        17120     4.232085       Action|Adventure|Drama  \n",
      "5509        35375     4.217081  Adventure|Animation|Fantasy  \n",
      "883         26064     4.210937             Mystery|Thriller  \n",
      "1164        49316     4.206435                        Drama  \n",
      "734         34324     4.190963                   Comedy|War  \n",
      "292        108756     4.188934  Comedy|Crime|Drama|Thriller  \n",
      "891         34813     4.187018                Drama|Romance  \n",
      "1182        44592     4.185004                  Crime|Drama  \n",
      "12221       65349     4.182830      Action|Crime|Drama|IMAX  \n"
     ]
    }
   ],
   "source": [
    "# Применяем нашу функцию к каждой строке\n",
    "qualified_movies['score'] = qualified_movies.apply(weights_films, axis=1)\n",
    "\n",
    "# Сортируем фильмы по рассчитанному взвешенному рейтингу\n",
    "qualified_movies = qualified_movies.sort_values('score', ascending=False)\n",
    "\n",
    "# Выводим топ-10 фильмов с их названием, средней оценкой, количеством оценок и итоговым рейтингом\n",
    "print(qualified_movies[['title', 'vote_average', 'vote_count', 'score', 'genres']].head(20))"
   ]
  },
  {
   "cell_type": "markdown",
   "id": "49a075e3",
   "metadata": {},
   "source": [
    "Первоначальный топ"
   ]
  },
  {
   "cell_type": "markdown",
   "id": "54ab5104",
   "metadata": {},
   "source": [
    "Shawshank Redemption, The (1994)      4.416792      122296   \n",
    "840                     Godfather, The (1972)      4.326603       75004   \n",
    "49                 Usual Suspects, The (1995)      4.267865       72893   \n",
    "522                   Schindler's List (1993)      4.242337       84232   \n",
    "2867                        Fight Club (1999)      4.236019       86207   \n",
    "1190           Godfather: Part II, The (1974)      4.269510       47271   \n",
    "292                       Pulp Fiction (1994)      4.191778      108756   \n",
    "1164   One Flew Over the Cuckoo's Nest (1975)      4.212801       49316   \n",
    "12221                 Dark Knight, The (2008)      4.187539       65349   \n",
    "2480                       Matrix, The (1999)      4.160631      107056   "
   ]
  },
  {
   "cell_type": "markdown",
   "id": "f84a7ee1",
   "metadata": {},
   "source": [
    "Задача 2"
   ]
  },
  {
   "cell_type": "markdown",
   "id": "df7d4fa7",
   "metadata": {},
   "source": [
    "Выбираем фильмы с релевантными тегами"
   ]
  },
  {
   "cell_type": "code",
   "execution_count": 18,
   "id": "ab909c38",
   "metadata": {},
   "outputs": [],
   "source": [
    "merged_movies_rel = merged_movies[merged_movies['relevance'] > 0.6]"
   ]
  },
  {
   "cell_type": "code",
   "execution_count": 19,
   "id": "efc1cdfd",
   "metadata": {},
   "outputs": [
    {
     "data": {
      "text/plain": [
       "(425860, 6)"
      ]
     },
     "execution_count": 19,
     "metadata": {},
     "output_type": "execute_result"
    }
   ],
   "source": [
    "merged_movies_rel.shape"
   ]
  },
  {
   "cell_type": "code",
   "execution_count": 5,
   "id": "63280678",
   "metadata": {},
   "outputs": [],
   "source": [
    "# Создаем экземпляр MinMaxScaler\n",
    "scaler = MinMaxScaler()"
   ]
  },
  {
   "cell_type": "code",
   "execution_count": 6,
   "id": "2e1d0ca1",
   "metadata": {},
   "outputs": [],
   "source": [
    "def get_recommendations(user_ratings: dict, ratings_df: pd.DataFrame, movies_df: pd.DataFrame, top_n: int):\n",
    "\n",
    "    # 1. Создаем DataFrame с оценками текущего пользователя\n",
    "    user_ratings_series = pd.Series(user_ratings)\n",
    "    user_df = pd.DataFrame(user_ratings_series, columns=['rating'])\n",
    "    user_df['userId'] = 'current_user'\n",
    "    user_df = user_df.reset_index().rename(columns={'index': 'movieId'})\n",
    "    user_df['movieId'] = pd.to_numeric(user_df['movieId'])\n",
    "\n",
    "    # Объединяем оценки текущего пользователя с общим датасетом оценок\n",
    "    all_ratings_df = pd.concat([ratings_df, user_df], ignore_index=True)\n",
    "\n",
    "    #Нормализация оценки\n",
    "    all_ratings_df['normalized_rating'] = scaler.fit_transform(all_ratings_df[['rating']])\n",
    "    all_ratings_df['rating'] = all_ratings_df['normalized_rating']\n",
    "    all_ratings_df.drop(columns=['normalized_rating'], inplace=True)\n",
    "\n",
    "    \n",
    "    # 2. Создаем матрицу взаимодействия пользователь-фильм\n",
    "    user_movie_matrix = all_ratings_df.pivot_table(index='userId', columns='movieId', values='rating').fillna(0)\n",
    "\n",
    "    # Находим вектор текущего пользователя\n",
    "    current_user_vector = user_movie_matrix.loc['current_user']\n",
    "\n",
    "    # Рассчитываем сходство между текущим пользователем и другими пользователями\n",
    "    user_similarity = cosine_similarity(current_user_vector.values.reshape(1, -1), user_movie_matrix.drop('current_user').values)[0]\n",
    "    user_similarity_df = pd.DataFrame(user_similarity, index=user_movie_matrix.drop('current_user').index, columns=['similarity'])\n",
    "\n",
    "    # 3. Получаем фильмы, которые смотрели похожие пользователи, и взвешиваем их оценки\n",
    "    similar_users_ratings = all_ratings_df[all_ratings_df['userId'].isin(user_similarity_df.nlargest(5, 'similarity').index)]\n",
    "    weighted_ratings = similar_users_ratings.groupby('movieId')['rating'].mean() \n",
    "\n",
    "    # 4. Исключаем фильмы, которые уже смотрел текущий пользователь\n",
    "    rated_movie_ids = user_ratings.keys()\n",
    "    recommendations = weighted_ratings[~weighted_ratings.index.isin(rated_movie_ids)].sort_values(ascending=False)\n",
    "\n",
    "    # 5. Объединяем с информацией о фильмах для получения названия и других деталей\n",
    "    recommendation_df = pd.DataFrame(recommendations).reset_index().rename(columns={'rating': 'predicted_rating'})\n",
    "    recommended_movies_info = pd.merge(recommendation_df, movies_df, on='movieId', how='inner')\n",
    "\n",
    "    return recommended_movies_info.head(top_n)"
   ]
  },
  {
   "cell_type": "code",
   "execution_count": 15,
   "id": "953deca6",
   "metadata": {},
   "outputs": [],
   "source": [
    "user_watched = {16: 5, 13: 4, 2: 3, 288: 5}\n",
    "top_recommendations = get_recommendations(user_watched, ratings[['userId', 'movieId', 'rating']][:1000], \n",
    "                                          movies[['movieId', 'title', 'genres']][:1000], top_n=3)"
   ]
  },
  {
   "cell_type": "markdown",
   "id": "d8a04dbd",
   "metadata": {},
   "source": [
    "predicted_rating нормализован поэтому 1 значит высшую оценку"
   ]
  },
  {
   "cell_type": "code",
   "execution_count": 16,
   "id": "9ca56542",
   "metadata": {},
   "outputs": [
    {
     "name": "stdout",
     "output_type": "stream",
     "text": [
      "Рекомендации для пользователя:\n",
      "+----+-----------+--------------------+-----------------------+-------------+\n",
      "|    |   movieId |   predicted_rating | title                 | genres      |\n",
      "+====+===========+====================+=======================+=============+\n",
      "|  0 |       457 |                  1 | Fugitive, The (1993)  | Thriller    |\n",
      "+----+-----------+--------------------+-----------------------+-------------+\n",
      "|  1 |       141 |                  1 | Birdcage, The (1996)  | Comedy      |\n",
      "+----+-----------+--------------------+-----------------------+-------------+\n",
      "|  2 |       858 |                  1 | Godfather, The (1972) | Crime|Drama |\n",
      "+----+-----------+--------------------+-----------------------+-------------+\n"
     ]
    }
   ],
   "source": [
    "from tabulate import tabulate\n",
    "\n",
    "print(\"Рекомендации для пользователя:\")\n",
    "print(tabulate(top_recommendations, headers='keys', tablefmt='grid'))"
   ]
  },
  {
   "cell_type": "code",
   "execution_count": null,
   "id": "fb6c1260",
   "metadata": {},
   "outputs": [],
   "source": []
  }
 ],
 "metadata": {
  "kernelspec": {
   "display_name": "Python 3 (ipykernel)",
   "language": "python",
   "name": "python3"
  },
  "language_info": {
   "codemirror_mode": {
    "name": "ipython",
    "version": 3
   },
   "file_extension": ".py",
   "mimetype": "text/x-python",
   "name": "python",
   "nbconvert_exporter": "python",
   "pygments_lexer": "ipython3",
   "version": "3.12.3"
  }
 },
 "nbformat": 4,
 "nbformat_minor": 5
}
