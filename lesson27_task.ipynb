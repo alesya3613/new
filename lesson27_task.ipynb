{
 "cells": [
  {
   "cell_type": "code",
   "execution_count": 3,
   "id": "f4b411e2",
   "metadata": {},
   "outputs": [],
   "source": [
    "import pandas as pd"
   ]
  },
  {
   "cell_type": "code",
   "execution_count": 4,
   "id": "5bdd2d4f",
   "metadata": {},
   "outputs": [],
   "source": [
    "movies = pd.read_csv('D:/ml-latest/ml-latest/movies.csv')"
   ]
  },
  {
   "cell_type": "code",
   "execution_count": 5,
   "id": "0d262fa7",
   "metadata": {},
   "outputs": [],
   "source": [
    "genome_scores = pd.read_csv('D:/ml-latest/ml-latest/genome-scores.csv')\n",
    "genome_tags = pd.read_csv('D:/ml-latest/ml-latest/genome-tags.csv')\n",
    "ratings = pd.read_csv('D:/ml-latest/ml-latest/ratings.csv')\n",
    "tags = pd.read_csv('D:/ml-latest/ml-latest/tags.csv')"
   ]
  },
  {
   "cell_type": "code",
   "execution_count": 6,
   "id": "286e618d",
   "metadata": {},
   "outputs": [],
   "source": [
    "merged_genome = genome_scores.merge(genome_tags, on='tagId', how='left')"
   ]
  },
  {
   "cell_type": "code",
   "execution_count": 7,
   "id": "4ea6e621",
   "metadata": {},
   "outputs": [],
   "source": [
    "merged_movies = movies.merge(merged_genome, on='movieId', how='left')"
   ]
  },
  {
   "cell_type": "code",
   "execution_count": 8,
   "id": "a77a5f45",
   "metadata": {},
   "outputs": [
    {
     "data": {
      "text/html": [
       "<div>\n",
       "<style scoped>\n",
       "    .dataframe tbody tr th:only-of-type {\n",
       "        vertical-align: middle;\n",
       "    }\n",
       "\n",
       "    .dataframe tbody tr th {\n",
       "        vertical-align: top;\n",
       "    }\n",
       "\n",
       "    .dataframe thead th {\n",
       "        text-align: right;\n",
       "    }\n",
       "</style>\n",
       "<table border=\"1\" class=\"dataframe\">\n",
       "  <thead>\n",
       "    <tr style=\"text-align: right;\">\n",
       "      <th></th>\n",
       "      <th>movieId</th>\n",
       "      <th>title</th>\n",
       "      <th>genres</th>\n",
       "      <th>tagId</th>\n",
       "      <th>relevance</th>\n",
       "      <th>tag</th>\n",
       "    </tr>\n",
       "  </thead>\n",
       "  <tbody>\n",
       "    <tr>\n",
       "      <th>0</th>\n",
       "      <td>1</td>\n",
       "      <td>Toy Story (1995)</td>\n",
       "      <td>Adventure|Animation|Children|Comedy|Fantasy</td>\n",
       "      <td>1.0</td>\n",
       "      <td>0.03200</td>\n",
       "      <td>007</td>\n",
       "    </tr>\n",
       "    <tr>\n",
       "      <th>1</th>\n",
       "      <td>1</td>\n",
       "      <td>Toy Story (1995)</td>\n",
       "      <td>Adventure|Animation|Children|Comedy|Fantasy</td>\n",
       "      <td>2.0</td>\n",
       "      <td>0.02225</td>\n",
       "      <td>007 (series)</td>\n",
       "    </tr>\n",
       "    <tr>\n",
       "      <th>2</th>\n",
       "      <td>1</td>\n",
       "      <td>Toy Story (1995)</td>\n",
       "      <td>Adventure|Animation|Children|Comedy|Fantasy</td>\n",
       "      <td>3.0</td>\n",
       "      <td>0.07000</td>\n",
       "      <td>18th century</td>\n",
       "    </tr>\n",
       "    <tr>\n",
       "      <th>3</th>\n",
       "      <td>1</td>\n",
       "      <td>Toy Story (1995)</td>\n",
       "      <td>Adventure|Animation|Children|Comedy|Fantasy</td>\n",
       "      <td>4.0</td>\n",
       "      <td>0.05900</td>\n",
       "      <td>1920s</td>\n",
       "    </tr>\n",
       "    <tr>\n",
       "      <th>4</th>\n",
       "      <td>1</td>\n",
       "      <td>Toy Story (1995)</td>\n",
       "      <td>Adventure|Animation|Children|Comedy|Fantasy</td>\n",
       "      <td>5.0</td>\n",
       "      <td>0.12300</td>\n",
       "      <td>1930s</td>\n",
       "    </tr>\n",
       "    <tr>\n",
       "      <th>5</th>\n",
       "      <td>1</td>\n",
       "      <td>Toy Story (1995)</td>\n",
       "      <td>Adventure|Animation|Children|Comedy|Fantasy</td>\n",
       "      <td>6.0</td>\n",
       "      <td>0.13100</td>\n",
       "      <td>1950s</td>\n",
       "    </tr>\n",
       "    <tr>\n",
       "      <th>6</th>\n",
       "      <td>1</td>\n",
       "      <td>Toy Story (1995)</td>\n",
       "      <td>Adventure|Animation|Children|Comedy|Fantasy</td>\n",
       "      <td>7.0</td>\n",
       "      <td>0.06175</td>\n",
       "      <td>1960s</td>\n",
       "    </tr>\n",
       "    <tr>\n",
       "      <th>7</th>\n",
       "      <td>1</td>\n",
       "      <td>Toy Story (1995)</td>\n",
       "      <td>Adventure|Animation|Children|Comedy|Fantasy</td>\n",
       "      <td>8.0</td>\n",
       "      <td>0.19550</td>\n",
       "      <td>1970s</td>\n",
       "    </tr>\n",
       "    <tr>\n",
       "      <th>8</th>\n",
       "      <td>1</td>\n",
       "      <td>Toy Story (1995)</td>\n",
       "      <td>Adventure|Animation|Children|Comedy|Fantasy</td>\n",
       "      <td>9.0</td>\n",
       "      <td>0.26625</td>\n",
       "      <td>1980s</td>\n",
       "    </tr>\n",
       "    <tr>\n",
       "      <th>9</th>\n",
       "      <td>1</td>\n",
       "      <td>Toy Story (1995)</td>\n",
       "      <td>Adventure|Animation|Children|Comedy|Fantasy</td>\n",
       "      <td>10.0</td>\n",
       "      <td>0.03300</td>\n",
       "      <td>19th century</td>\n",
       "    </tr>\n",
       "  </tbody>\n",
       "</table>\n",
       "</div>"
      ],
      "text/plain": [
       "   movieId             title                                       genres  \\\n",
       "0        1  Toy Story (1995)  Adventure|Animation|Children|Comedy|Fantasy   \n",
       "1        1  Toy Story (1995)  Adventure|Animation|Children|Comedy|Fantasy   \n",
       "2        1  Toy Story (1995)  Adventure|Animation|Children|Comedy|Fantasy   \n",
       "3        1  Toy Story (1995)  Adventure|Animation|Children|Comedy|Fantasy   \n",
       "4        1  Toy Story (1995)  Adventure|Animation|Children|Comedy|Fantasy   \n",
       "5        1  Toy Story (1995)  Adventure|Animation|Children|Comedy|Fantasy   \n",
       "6        1  Toy Story (1995)  Adventure|Animation|Children|Comedy|Fantasy   \n",
       "7        1  Toy Story (1995)  Adventure|Animation|Children|Comedy|Fantasy   \n",
       "8        1  Toy Story (1995)  Adventure|Animation|Children|Comedy|Fantasy   \n",
       "9        1  Toy Story (1995)  Adventure|Animation|Children|Comedy|Fantasy   \n",
       "\n",
       "   tagId  relevance           tag  \n",
       "0    1.0    0.03200           007  \n",
       "1    2.0    0.02225  007 (series)  \n",
       "2    3.0    0.07000  18th century  \n",
       "3    4.0    0.05900         1920s  \n",
       "4    5.0    0.12300         1930s  \n",
       "5    6.0    0.13100         1950s  \n",
       "6    7.0    0.06175         1960s  \n",
       "7    8.0    0.19550         1970s  \n",
       "8    9.0    0.26625         1980s  \n",
       "9   10.0    0.03300  19th century  "
      ]
     },
     "execution_count": 8,
     "metadata": {},
     "output_type": "execute_result"
    }
   ],
   "source": [
    "merged_movies.head(10)"
   ]
  },
  {
   "cell_type": "code",
   "execution_count": 9,
   "id": "f28e6774",
   "metadata": {},
   "outputs": [],
   "source": [
    "ratings['timestamp'] = pd.to_datetime(ratings['timestamp'], unit='s')"
   ]
  },
  {
   "cell_type": "code",
   "execution_count": 10,
   "id": "c6439d30",
   "metadata": {},
   "outputs": [
    {
     "data": {
      "text/html": [
       "<div>\n",
       "<style scoped>\n",
       "    .dataframe tbody tr th:only-of-type {\n",
       "        vertical-align: middle;\n",
       "    }\n",
       "\n",
       "    .dataframe tbody tr th {\n",
       "        vertical-align: top;\n",
       "    }\n",
       "\n",
       "    .dataframe thead th {\n",
       "        text-align: right;\n",
       "    }\n",
       "</style>\n",
       "<table border=\"1\" class=\"dataframe\">\n",
       "  <thead>\n",
       "    <tr style=\"text-align: right;\">\n",
       "      <th></th>\n",
       "      <th>userId</th>\n",
       "      <th>movieId</th>\n",
       "      <th>rating</th>\n",
       "      <th>timestamp</th>\n",
       "    </tr>\n",
       "  </thead>\n",
       "  <tbody>\n",
       "    <tr>\n",
       "      <th>0</th>\n",
       "      <td>1</td>\n",
       "      <td>1</td>\n",
       "      <td>4.0</td>\n",
       "      <td>2008-11-03 17:52:19</td>\n",
       "    </tr>\n",
       "    <tr>\n",
       "      <th>1</th>\n",
       "      <td>1</td>\n",
       "      <td>110</td>\n",
       "      <td>4.0</td>\n",
       "      <td>2008-11-05 06:04:46</td>\n",
       "    </tr>\n",
       "    <tr>\n",
       "      <th>2</th>\n",
       "      <td>1</td>\n",
       "      <td>158</td>\n",
       "      <td>4.0</td>\n",
       "      <td>2008-11-03 17:31:43</td>\n",
       "    </tr>\n",
       "    <tr>\n",
       "      <th>3</th>\n",
       "      <td>1</td>\n",
       "      <td>260</td>\n",
       "      <td>4.5</td>\n",
       "      <td>2008-11-03 18:00:04</td>\n",
       "    </tr>\n",
       "    <tr>\n",
       "      <th>4</th>\n",
       "      <td>1</td>\n",
       "      <td>356</td>\n",
       "      <td>5.0</td>\n",
       "      <td>2008-11-03 17:58:39</td>\n",
       "    </tr>\n",
       "  </tbody>\n",
       "</table>\n",
       "</div>"
      ],
      "text/plain": [
       "   userId  movieId  rating           timestamp\n",
       "0       1        1     4.0 2008-11-03 17:52:19\n",
       "1       1      110     4.0 2008-11-05 06:04:46\n",
       "2       1      158     4.0 2008-11-03 17:31:43\n",
       "3       1      260     4.5 2008-11-03 18:00:04\n",
       "4       1      356     5.0 2008-11-03 17:58:39"
      ]
     },
     "execution_count": 10,
     "metadata": {},
     "output_type": "execute_result"
    }
   ],
   "source": [
    "ratings.head()"
   ]
  },
  {
   "cell_type": "code",
   "execution_count": 11,
   "id": "a59fec50",
   "metadata": {},
   "outputs": [],
   "source": [
    "tags['timestamp'] = pd.to_datetime(tags['timestamp'], unit='s')"
   ]
  },
  {
   "cell_type": "code",
   "execution_count": 12,
   "id": "fea4a605",
   "metadata": {},
   "outputs": [
    {
     "data": {
      "text/html": [
       "<div>\n",
       "<style scoped>\n",
       "    .dataframe tbody tr th:only-of-type {\n",
       "        vertical-align: middle;\n",
       "    }\n",
       "\n",
       "    .dataframe tbody tr th {\n",
       "        vertical-align: top;\n",
       "    }\n",
       "\n",
       "    .dataframe thead th {\n",
       "        text-align: right;\n",
       "    }\n",
       "</style>\n",
       "<table border=\"1\" class=\"dataframe\">\n",
       "  <thead>\n",
       "    <tr style=\"text-align: right;\">\n",
       "      <th></th>\n",
       "      <th>userId</th>\n",
       "      <th>movieId</th>\n",
       "      <th>tag</th>\n",
       "      <th>timestamp</th>\n",
       "    </tr>\n",
       "  </thead>\n",
       "  <tbody>\n",
       "    <tr>\n",
       "      <th>0</th>\n",
       "      <td>10</td>\n",
       "      <td>260</td>\n",
       "      <td>good vs evil</td>\n",
       "      <td>2015-05-03 15:22:38</td>\n",
       "    </tr>\n",
       "    <tr>\n",
       "      <th>1</th>\n",
       "      <td>10</td>\n",
       "      <td>260</td>\n",
       "      <td>Harrison Ford</td>\n",
       "      <td>2015-05-03 15:21:45</td>\n",
       "    </tr>\n",
       "    <tr>\n",
       "      <th>2</th>\n",
       "      <td>10</td>\n",
       "      <td>260</td>\n",
       "      <td>sci-fi</td>\n",
       "      <td>2015-05-03 15:22:18</td>\n",
       "    </tr>\n",
       "    <tr>\n",
       "      <th>3</th>\n",
       "      <td>14</td>\n",
       "      <td>1221</td>\n",
       "      <td>Al Pacino</td>\n",
       "      <td>2011-07-25 13:32:36</td>\n",
       "    </tr>\n",
       "    <tr>\n",
       "      <th>4</th>\n",
       "      <td>14</td>\n",
       "      <td>1221</td>\n",
       "      <td>mafia</td>\n",
       "      <td>2011-07-25 13:32:26</td>\n",
       "    </tr>\n",
       "  </tbody>\n",
       "</table>\n",
       "</div>"
      ],
      "text/plain": [
       "   userId  movieId            tag           timestamp\n",
       "0      10      260   good vs evil 2015-05-03 15:22:38\n",
       "1      10      260  Harrison Ford 2015-05-03 15:21:45\n",
       "2      10      260         sci-fi 2015-05-03 15:22:18\n",
       "3      14     1221      Al Pacino 2011-07-25 13:32:36\n",
       "4      14     1221          mafia 2011-07-25 13:32:26"
      ]
     },
     "execution_count": 12,
     "metadata": {},
     "output_type": "execute_result"
    }
   ],
   "source": [
    "tags.head()"
   ]
  },
  {
   "cell_type": "markdown",
   "id": "efd3c77f",
   "metadata": {},
   "source": [
    "Обработка данных"
   ]
  },
  {
   "cell_type": "code",
   "execution_count": null,
   "id": "296bc2e4",
   "metadata": {},
   "outputs": [],
   "source": []
  },
  {
   "cell_type": "markdown",
   "id": "e0ca4160",
   "metadata": {},
   "source": [
    "Задача 1"
   ]
  },
  {
   "cell_type": "code",
   "execution_count": 13,
   "id": "9c411308",
   "metadata": {},
   "outputs": [],
   "source": [
    "# Агрегируем данные по фильмам: считаем среднюю оценку и количество оценок для каждого фильма\n",
    "agg_ratings = ratings.groupby('movieId').agg({\n",
    "    'rating': ['mean', 'count']\n",
    "})\n",
    "agg_ratings.columns = ['vote_average', 'vote_count']  # Переименовываем столбцы для удобства\n",
    "agg_ratings.reset_index(inplace=True)"
   ]
  },
  {
   "cell_type": "code",
   "execution_count": 29,
   "id": "8ec21b63",
   "metadata": {},
   "outputs": [],
   "source": [
    "movies_with_ratings = movies.merge(agg_ratings, on='movieId')"
   ]
  },
  {
   "cell_type": "code",
   "execution_count": 30,
   "id": "ec7e8fe0",
   "metadata": {},
   "outputs": [],
   "source": [
    "C = movies_with_ratings['vote_average'].mean()"
   ]
  },
  {
   "cell_type": "code",
   "execution_count": 38,
   "id": "9402dcb7",
   "metadata": {},
   "outputs": [],
   "source": [
    "m = movies_with_ratings['vote_count'].quantile(0.90)"
   ]
  },
  {
   "cell_type": "code",
   "execution_count": 45,
   "id": "c038c9ce",
   "metadata": {},
   "outputs": [],
   "source": [
    "def has_sequel(title):\n",
    "    sequel_keywords = [\"II\", \"III\", \"Part\", \"Returns\", \"Revenge\", \"Resurrection\", \"Final\", \"Chapter\"]\n",
    "    return any(keyword in title for keyword in sequel_keywords)"
   ]
  },
  {
   "cell_type": "code",
   "execution_count": 41,
   "id": "66cb0db8",
   "metadata": {},
   "outputs": [],
   "source": [
    "# Фильтруем фильмы, у которых количество оценок больше порогового значения m\n",
    "qualified_movies = movies_with_ratings[movies_with_ratings['vote_count'] >= m].copy()"
   ]
  },
  {
   "cell_type": "code",
   "execution_count": 46,
   "id": "59a27a80",
   "metadata": {},
   "outputs": [],
   "source": [
    "#Убираем сиквелы\n",
    "qualified_movies = qualified_movies[~qualified_movies['title'].apply(has_sequel)]"
   ]
  },
  {
   "cell_type": "code",
   "execution_count": 25,
   "id": "1459e9ec",
   "metadata": {},
   "outputs": [],
   "source": [
    "def weighted_rating(x, m=m, C=C):\n",
    "    v = x['vote_count']\n",
    "    R = x['vote_average']\n",
    "    # Calculation based on the IMDB formula\n",
    "    return (v/(v+m) * R) + (m/(m+v) * C)"
   ]
  },
  {
   "cell_type": "code",
   "execution_count": 47,
   "id": "b1cada94",
   "metadata": {},
   "outputs": [
    {
     "name": "stdout",
     "output_type": "stream",
     "text": [
      "                                                  title  vote_average  \\\n",
      "314                    Shawshank Redemption, The (1994)      4.416792   \n",
      "49                           Usual Suspects, The (1995)      4.267865   \n",
      "522                             Schindler's List (1993)      4.242337   \n",
      "2867                                  Fight Club (1999)      4.236019   \n",
      "292                                 Pulp Fiction (1994)      4.191778   \n",
      "1164             One Flew Over the Cuckoo's Nest (1975)      4.212801   \n",
      "2480                                 Matrix, The (1999)      4.160631   \n",
      "585                    Silence of the Lambs, The (1991)      4.150287   \n",
      "1182                                  Goodfellas (1990)      4.191918   \n",
      "734   Dr. Strangelove or: How I Learned to Stop Worr...      4.199991   \n",
      "\n",
      "      vote_count     score                       genres  \n",
      "314       122296  4.374471                  Crime|Drama  \n",
      "49         72893  4.207519       Crime|Mystery|Thriller  \n",
      "522        84232  4.191025                    Drama|War  \n",
      "2867       86207  4.186146  Action|Crime|Drama|Thriller  \n",
      "292       108756  4.153636  Comedy|Crime|Drama|Thriller  \n",
      "1164       49316  4.130839                        Drama  \n",
      "2480      107056  4.123206       Action|Sci-Fi|Thriller  \n",
      "585       101802  4.111467        Crime|Horror|Thriller  \n",
      "1182       44592  4.104067                  Crime|Drama  \n",
      "734        34324  4.088033                   Comedy|War  \n"
     ]
    }
   ],
   "source": [
    "# Применяем нашу функцию к каждой строке\n",
    "qualified_movies['score'] = qualified_movies.apply(weighted_rating, axis=1)\n",
    "\n",
    "# Сортируем фильмы по рассчитанному взвешенному рейтингу\n",
    "qualified_movies = qualified_movies.sort_values('score', ascending=False)\n",
    "\n",
    "# Выводим топ-10 фильмов с их названием, средней оценкой, количеством оценок и итоговым рейтингом\n",
    "print(qualified_movies[['title', 'vote_average', 'vote_count', 'score', 'genres']].head(10))"
   ]
  },
  {
   "cell_type": "markdown",
   "id": "50d08a0e",
   "metadata": {},
   "source": [
    "Shawshank Redemption, The (1994)      4.416792      122296   \n",
    "840                     Godfather, The (1972)      4.326603       75004   \n",
    "49                 Usual Suspects, The (1995)      4.267865       72893   \n",
    "522                   Schindler's List (1993)      4.242337       84232   \n",
    "2867                        Fight Club (1999)      4.236019       86207   \n",
    "1190           Godfather: Part II, The (1974)      4.269510       47271   \n",
    "292                       Pulp Fiction (1994)      4.191778      108756   \n",
    "1164   One Flew Over the Cuckoo's Nest (1975)      4.212801       49316   \n",
    "12221                 Dark Knight, The (2008)      4.187539       65349   \n",
    "2480                       Matrix, The (1999)      4.160631      107056   "
   ]
  },
  {
   "cell_type": "markdown",
   "id": "f84a7ee1",
   "metadata": {},
   "source": [
    "Задача 2"
   ]
  },
  {
   "cell_type": "code",
   "execution_count": null,
   "id": "0ff52294",
   "metadata": {},
   "outputs": [],
   "source": [
    "filtered_movies = merged_movies[merged_movies['relevance'] >= 0.6]"
   ]
  },
  {
   "cell_type": "code",
   "execution_count": null,
   "id": "319b8ec6",
   "metadata": {},
   "outputs": [],
   "source": [
    "vectorizer = TfidfVectorizer()\n",
    "tfidf_matrix = vectorizer.fit_transform(movies['tag'])"
   ]
  }
 ],
 "metadata": {
  "kernelspec": {
   "display_name": "Python 3 (ipykernel)",
   "language": "python",
   "name": "python3"
  },
  "language_info": {
   "codemirror_mode": {
    "name": "ipython",
    "version": 3
   },
   "file_extension": ".py",
   "mimetype": "text/x-python",
   "name": "python",
   "nbconvert_exporter": "python",
   "pygments_lexer": "ipython3",
   "version": "3.12.3"
  }
 },
 "nbformat": 4,
 "nbformat_minor": 5
}
