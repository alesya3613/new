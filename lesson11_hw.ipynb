{
  "cells": [
    {
      "cell_type": "code",
      "execution_count": 2,
      "id": "7ea6b0f8",
      "metadata": {
        "colab": {
          "base_uri": "https://localhost:8080/"
        },
        "id": "7ea6b0f8",
        "outputId": "e2008bd9-88d1-4931-ff71-ba828f58715e"
      },
      "outputs": [
        {
          "output_type": "stream",
          "name": "stdout",
          "text": [
            "Requirement already satisfied: sqlalchemy in /usr/local/lib/python3.11/dist-packages (2.0.37)\n",
            "Requirement already satisfied: greenlet!=0.4.17 in /usr/local/lib/python3.11/dist-packages (from sqlalchemy) (3.1.1)\n",
            "Requirement already satisfied: typing-extensions>=4.6.0 in /usr/local/lib/python3.11/dist-packages (from sqlalchemy) (4.12.2)\n"
          ]
        }
      ],
      "source": [
        "!pip install sqlalchemy"
      ]
    },
    {
      "cell_type": "code",
      "execution_count": 1,
      "id": "9fe31ab2",
      "metadata": {
        "id": "9fe31ab2"
      },
      "outputs": [],
      "source": [
        "import sqlalchemy as db\n",
        "\n",
        "engine = db.create_engine('sqlite:///mydb.db')\n",
        "conn = engine.connect()\n",
        "metadata = db.MetaData()"
      ]
    },
    {
      "cell_type": "code",
      "execution_count": 9,
      "id": "1e97bf7a",
      "metadata": {
        "scrolled": false,
        "collapsed": true,
        "colab": {
          "base_uri": "https://localhost:8080/"
        },
        "id": "1e97bf7a",
        "outputId": "a8b07823-8ed6-4a4b-f161-41df7677b402"
      },
      "outputs": [
        {
          "output_type": "execute_result",
          "data": {
            "text/plain": [
              "['ARRAY',\n",
              " 'AdaptedConnection',\n",
              " 'Alias',\n",
              " 'AliasedReturnsRows',\n",
              " 'Any',\n",
              " 'AssertionPool',\n",
              " 'AsyncAdaptedQueuePool',\n",
              " 'BIGINT',\n",
              " 'BINARY',\n",
              " 'BLANK_SCHEMA',\n",
              " 'BLOB',\n",
              " 'BOOLEAN',\n",
              " 'BaseDDLElement',\n",
              " 'BaseRow',\n",
              " 'BigInteger',\n",
              " 'BinaryExpression',\n",
              " 'BindParameter',\n",
              " 'BindTyping',\n",
              " 'Boolean',\n",
              " 'BooleanClauseList',\n",
              " 'CHAR',\n",
              " 'CLOB',\n",
              " 'CTE',\n",
              " 'CacheKey',\n",
              " 'Case',\n",
              " 'Cast',\n",
              " 'CheckConstraint',\n",
              " 'ChunkedIteratorResult',\n",
              " 'ClauseElement',\n",
              " 'ClauseList',\n",
              " 'CollectionAggregate',\n",
              " 'Column',\n",
              " 'ColumnClause',\n",
              " 'ColumnCollection',\n",
              " 'ColumnDefault',\n",
              " 'ColumnElement',\n",
              " 'ColumnExpressionArgument',\n",
              " 'ColumnOperators',\n",
              " 'Compiled',\n",
              " 'CompoundSelect',\n",
              " 'Computed',\n",
              " 'Connection',\n",
              " 'Constraint',\n",
              " 'CreateEnginePlugin',\n",
              " 'CursorResult',\n",
              " 'DATE',\n",
              " 'DATETIME',\n",
              " 'DDL',\n",
              " 'DDLElement',\n",
              " 'DECIMAL',\n",
              " 'DOUBLE',\n",
              " 'DOUBLE_PRECISION',\n",
              " 'Date',\n",
              " 'DateTime',\n",
              " 'DefaultClause',\n",
              " 'Delete',\n",
              " 'Dialect',\n",
              " 'Double',\n",
              " 'Engine',\n",
              " 'Enum',\n",
              " 'ExceptionContext',\n",
              " 'Executable',\n",
              " 'ExecutableDDLElement',\n",
              " 'ExecutionContext',\n",
              " 'Exists',\n",
              " 'Extract',\n",
              " 'FLOAT',\n",
              " 'FallbackAsyncAdaptedQueuePool',\n",
              " 'False_',\n",
              " 'FetchedValue',\n",
              " 'Float',\n",
              " 'ForeignKey',\n",
              " 'ForeignKeyConstraint',\n",
              " 'FromClause',\n",
              " 'FromGrouping',\n",
              " 'FrozenResult',\n",
              " 'Function',\n",
              " 'FunctionElement',\n",
              " 'FunctionFilter',\n",
              " 'GenerativeSelect',\n",
              " 'Grouping',\n",
              " 'HasCTE',\n",
              " 'HasPrefixes',\n",
              " 'HasSuffixes',\n",
              " 'INT',\n",
              " 'INTEGER',\n",
              " 'Identity',\n",
              " 'Index',\n",
              " 'Insert',\n",
              " 'Inspector',\n",
              " 'Integer',\n",
              " 'Interval',\n",
              " 'IteratorResult',\n",
              " 'JSON',\n",
              " 'Join',\n",
              " 'LABEL_STYLE_DEFAULT',\n",
              " 'LABEL_STYLE_DISAMBIGUATE_ONLY',\n",
              " 'LABEL_STYLE_NONE',\n",
              " 'LABEL_STYLE_TABLENAME_PLUS_COL',\n",
              " 'Label',\n",
              " 'LambdaElement',\n",
              " 'LargeBinary',\n",
              " 'Lateral',\n",
              " 'MappingResult',\n",
              " 'MergedResult',\n",
              " 'MetaData',\n",
              " 'NCHAR',\n",
              " 'NUMERIC',\n",
              " 'NVARCHAR',\n",
              " 'NestedTransaction',\n",
              " 'NotNullable',\n",
              " 'Null',\n",
              " 'NullPool',\n",
              " 'Nullable',\n",
              " 'Numeric',\n",
              " 'Operators',\n",
              " 'Over',\n",
              " 'PickleType',\n",
              " 'Pool',\n",
              " 'PoolProxiedConnection',\n",
              " 'PoolResetState',\n",
              " 'PrimaryKeyConstraint',\n",
              " 'QueuePool',\n",
              " 'REAL',\n",
              " 'ReleaseSavepointClause',\n",
              " 'Result',\n",
              " 'ResultProxy',\n",
              " 'ReturnsRows',\n",
              " 'RollbackToSavepointClause',\n",
              " 'RootTransaction',\n",
              " 'Row',\n",
              " 'RowMapping',\n",
              " 'SMALLINT',\n",
              " 'SQLColumnExpression',\n",
              " 'SavepointClause',\n",
              " 'ScalarResult',\n",
              " 'ScalarSelect',\n",
              " 'Select',\n",
              " 'SelectBase',\n",
              " 'SelectLabelStyle',\n",
              " 'Selectable',\n",
              " 'Sequence',\n",
              " 'SingletonThreadPool',\n",
              " 'SmallInteger',\n",
              " 'StatementLambdaElement',\n",
              " 'StaticPool',\n",
              " 'String',\n",
              " 'Subquery',\n",
              " 'TEXT',\n",
              " 'TIME',\n",
              " 'TIMESTAMP',\n",
              " 'Table',\n",
              " 'TableClause',\n",
              " 'TableSample',\n",
              " 'TableValuedAlias',\n",
              " 'Text',\n",
              " 'TextAsFrom',\n",
              " 'TextClause',\n",
              " 'TextualSelect',\n",
              " 'Time',\n",
              " 'Transaction',\n",
              " 'True_',\n",
              " 'TryCast',\n",
              " 'Tuple',\n",
              " 'TupleType',\n",
              " 'TwoPhaseTransaction',\n",
              " 'TypeClause',\n",
              " 'TypeCoerce',\n",
              " 'TypeCompiler',\n",
              " 'TypeDecorator',\n",
              " 'URL',\n",
              " 'UUID',\n",
              " 'UnaryExpression',\n",
              " 'Unicode',\n",
              " 'UnicodeText',\n",
              " 'UniqueConstraint',\n",
              " 'Update',\n",
              " 'UpdateBase',\n",
              " 'Uuid',\n",
              " 'VARBINARY',\n",
              " 'VARCHAR',\n",
              " 'Values',\n",
              " 'ValuesBase',\n",
              " 'Visitable',\n",
              " 'WithinGroup',\n",
              " '__builtins__',\n",
              " '__cached__',\n",
              " '__doc__',\n",
              " '__file__',\n",
              " '__getattr__',\n",
              " '__go',\n",
              " '__loader__',\n",
              " '__name__',\n",
              " '__package__',\n",
              " '__path__',\n",
              " '__spec__',\n",
              " '__version__',\n",
              " '_util',\n",
              " 'alias',\n",
              " 'all_',\n",
              " 'and_',\n",
              " 'annotations',\n",
              " 'any_',\n",
              " 'asc',\n",
              " 'between',\n",
              " 'bindparam',\n",
              " 'bitwise_not',\n",
              " 'case',\n",
              " 'cast',\n",
              " 'collate',\n",
              " 'column',\n",
              " 'create_engine',\n",
              " 'create_mock_engine',\n",
              " 'create_pool_from_url',\n",
              " 'cte',\n",
              " 'custom_op',\n",
              " 'cyextension',\n",
              " 'delete',\n",
              " 'desc',\n",
              " 'dialects',\n",
              " 'distinct',\n",
              " 'engine',\n",
              " 'engine_from_config',\n",
              " 'event',\n",
              " 'exc',\n",
              " 'except_',\n",
              " 'except_all',\n",
              " 'exists',\n",
              " 'extract',\n",
              " 'false',\n",
              " 'func',\n",
              " 'funcfilter',\n",
              " 'insert',\n",
              " 'insert_sentinel',\n",
              " 'inspect',\n",
              " 'inspection',\n",
              " 'intersect',\n",
              " 'intersect_all',\n",
              " 'join',\n",
              " 'label',\n",
              " 'lambda_stmt',\n",
              " 'lateral',\n",
              " 'literal',\n",
              " 'literal_column',\n",
              " 'log',\n",
              " 'make_url',\n",
              " 'modifier',\n",
              " 'not_',\n",
              " 'null',\n",
              " 'nulls_first',\n",
              " 'nulls_last',\n",
              " 'nullsfirst',\n",
              " 'nullslast',\n",
              " 'or_',\n",
              " 'outerjoin',\n",
              " 'outparam',\n",
              " 'over',\n",
              " 'pool',\n",
              " 'quoted_name',\n",
              " 'result_tuple',\n",
              " 'schema',\n",
              " 'select',\n",
              " 'sql',\n",
              " 'table',\n",
              " 'tablesample',\n",
              " 'text',\n",
              " 'true',\n",
              " 'try_cast',\n",
              " 'tuple_',\n",
              " 'type_coerce',\n",
              " 'types',\n",
              " 'union',\n",
              " 'union_all',\n",
              " 'update',\n",
              " 'util',\n",
              " 'values',\n",
              " 'within_group']"
            ]
          },
          "metadata": {},
          "execution_count": 9
        }
      ],
      "source": [
        "dir(db)"
      ]
    },
    {
      "cell_type": "code",
      "source": [
        "teams = db.Table(\n",
        "    'Team', metadata,\n",
        "    db.Column('team_id', db.Integer, primary_key=True),\n",
        "    db.Column('team_name', db.Text),\n",
        "    db.Column('team_coach', db.Text)\n",
        ")"
      ],
      "metadata": {
        "id": "Zx0qAhJNcZxU"
      },
      "id": "Zx0qAhJNcZxU",
      "execution_count": 2,
      "outputs": []
    },
    {
      "cell_type": "code",
      "execution_count": 3,
      "id": "b002d24f",
      "metadata": {
        "id": "b002d24f"
      },
      "outputs": [],
      "source": [
        "players = db.Table(\n",
        "    'Player', metadata,\n",
        "    db.Column('player_id', db.Integer, primary_key=True),\n",
        "    db.Column('player_name', db.Text),\n",
        "    db.Column('player_age', db.Integer),\n",
        "    db.Column('player_position', db.Text),\n",
        "    db.Column('player_team', db.ForeignKey(\"Team.team_id\"))\n",
        ")"
      ]
    },
    {
      "cell_type": "code",
      "source": [
        "matches = db.Table(\n",
        "    'Match', metadata,\n",
        "    db.Column('match_id', db.Integer, primary_key=True),\n",
        "    db.Column('match_date', db.Date),\n",
        "    db.Column('home_team', db.ForeignKey(\"Team.team_id\")),\n",
        "    db.Column('away_team', db.ForeignKey(\"Team.team_id\")),\n",
        "    db.Column('match_score', db.Text)\n",
        ")"
      ],
      "metadata": {
        "id": "Q24U3ItScaSW"
      },
      "id": "Q24U3ItScaSW",
      "execution_count": 4,
      "outputs": []
    },
    {
      "cell_type": "code",
      "source": [
        "statistics = db.Table(\n",
        "    'Stat', metadata,\n",
        "    db.Column('stat_id', db.Integer, primary_key=True),\n",
        "    db.Column('stat_pl', db.ForeignKey(\"Player.player_id\")),\n",
        "    db.Column('stat_match', db.ForeignKey(\"Match.match_id\")),\n",
        "    db.Column('stat_goals', db.Integer),\n",
        "    db.Column('stat_assists', db.Integer),\n",
        "    db.Column('stat_yelcard', db.Integer),\n",
        "    db.Column('stat_redcard', db.Integer),\n",
        "    extend_existing=True\n",
        ")"
      ],
      "metadata": {
        "id": "SwNUrUUWeIEy"
      },
      "id": "SwNUrUUWeIEy",
      "execution_count": 5,
      "outputs": []
    },
    {
      "cell_type": "code",
      "source": [
        "basketball = db.Table(\n",
        "    'Players', metadata,\n",
        "    db.Column('bb_id', db.Integer, primary_key=True),\n",
        "    db.Column('bb_name', db.Text),\n",
        "    db.Column('bb_age', db.Integer),\n",
        "    db.Column('bb_position', db.Text),\n",
        "    db.Column('bb_team', db.Text)\n",
        ")"
      ],
      "metadata": {
        "id": "OuvpMnXZDxmV"
      },
      "id": "OuvpMnXZDxmV",
      "execution_count": 6,
      "outputs": []
    },
    {
      "cell_type": "code",
      "source": [
        "metadata.create_all(engine)"
      ],
      "metadata": {
        "id": "H5pLfwrahj8w"
      },
      "id": "H5pLfwrahj8w",
      "execution_count": 7,
      "outputs": []
    },
    {
      "cell_type": "code",
      "source": [
        "insertion1 = teams.insert().values([\n",
        "    {'team_name': 'Barcelona', 'team_coach': 'Hansi Flick'},\n",
        "    {'team_name': 'Atlético Madrid', 'team_coach': 'Diego Simeone'},\n",
        "    {'team_name': 'Real Madrid', 'team_coach': 'Carlo Ancelotti'}\n",
        "])\n",
        "conn.execute(insertion1)"
      ],
      "metadata": {
        "colab": {
          "base_uri": "https://localhost:8080/"
        },
        "id": "rHXcj-nNiPJt",
        "outputId": "c8702c6a-6c45-45cb-8769-693e12fe4f1d"
      },
      "id": "rHXcj-nNiPJt",
      "execution_count": 8,
      "outputs": [
        {
          "output_type": "execute_result",
          "data": {
            "text/plain": [
              "<sqlalchemy.engine.cursor.CursorResult at 0x7c46cc1b2510>"
            ]
          },
          "metadata": {},
          "execution_count": 8
        }
      ]
    },
    {
      "cell_type": "code",
      "source": [
        "insertion2 = players.insert().values([\n",
        "    {'player_name': 'Lamine Yamal', 'player_age': 17, 'player_position': 'Winger', 'player_team': 1},\n",
        "    {'player_name': 'Jude Bellingham', 'player_age': 21, 'player_position': 'Midfielder', 'player_team': 3},\n",
        "    {'player_name': 'Julián Alvarez', 'player_age': 25, 'player_position': 'Forward', 'player_team': 2},\n",
        "])\n",
        "conn.execute(insertion2)"
      ],
      "metadata": {
        "colab": {
          "base_uri": "https://localhost:8080/"
        },
        "id": "kbR78_6szQKF",
        "outputId": "59aeb8dd-472d-4733-e794-8c29fcd9f81a"
      },
      "id": "kbR78_6szQKF",
      "execution_count": 9,
      "outputs": [
        {
          "output_type": "execute_result",
          "data": {
            "text/plain": [
              "<sqlalchemy.engine.cursor.CursorResult at 0x7c46cc1b27b0>"
            ]
          },
          "metadata": {},
          "execution_count": 9
        }
      ]
    },
    {
      "cell_type": "code",
      "source": [
        "from datetime import datetime, date\n",
        "\n",
        "insertion3 = matches.insert().values([\n",
        "    {'match_date': date(2025, 1, 12), 'home_team': 1, 'away_team': 3, 'match_score': '2-5'},\n",
        "    {'match_date': date(2024, 12, 18), 'home_team': 3, 'away_team': 2, 'match_score': '1-1'},\n",
        "    {'match_date': date(2025, 1, 27), 'home_team': 2, 'away_team': 1, 'match_score': '2-1'}\n",
        "])\n",
        "conn.execute(insertion3)"
      ],
      "metadata": {
        "colab": {
          "base_uri": "https://localhost:8080/"
        },
        "id": "XPljFoBlpdVq",
        "outputId": "2c158c02-b443-4eb6-ab4c-a009d19769c3"
      },
      "id": "XPljFoBlpdVq",
      "execution_count": 10,
      "outputs": [
        {
          "output_type": "execute_result",
          "data": {
            "text/plain": [
              "<sqlalchemy.engine.cursor.CursorResult at 0x7c46cc1b2580>"
            ]
          },
          "metadata": {},
          "execution_count": 10
        }
      ]
    },
    {
      "cell_type": "code",
      "source": [
        "insertion4 = statistics.insert().values([\n",
        "    {'stat_pl': 1, 'stat_match': 1, 'stat_goals': 1, 'stat_assists': 2, 'stat_yelcard': 0, 'stat_redcard': 0},\n",
        "    {'stat_pl': 1, 'stat_match': 3, 'stat_goals': 0, 'stat_assists': 1, 'stat_yelcard': 1, 'stat_redcard': 0},\n",
        "    {'stat_pl': 2, 'stat_match': 1, 'stat_goals': 1, 'stat_assists': 0, 'stat_yelcard': 1, 'stat_redcard': 0},\n",
        "    {'stat_pl': 2, 'stat_match': 2, 'stat_goals': 0, 'stat_assists': 0, 'stat_yelcard': 1, 'stat_redcard': 0},\n",
        "    {'stat_pl': 3, 'stat_match': 2, 'stat_goals': 1, 'stat_assists': 0, 'stat_yelcard': 0, 'stat_redcard': 0},\n",
        "    {'stat_pl': 3, 'stat_match': 3, 'stat_goals': 0, 'stat_assists': 1, 'stat_yelcard': 0, 'stat_redcard': 1}\n",
        "])\n",
        "conn.execute(insertion4)"
      ],
      "metadata": {
        "colab": {
          "base_uri": "https://localhost:8080/"
        },
        "id": "H5TXLCXl7LoL",
        "outputId": "ef43700e-3760-4269-92b5-05c14d263073"
      },
      "id": "H5TXLCXl7LoL",
      "execution_count": 11,
      "outputs": [
        {
          "output_type": "execute_result",
          "data": {
            "text/plain": [
              "<sqlalchemy.engine.cursor.CursorResult at 0x7c46cc1b2820>"
            ]
          },
          "metadata": {},
          "execution_count": 11
        }
      ]
    },
    {
      "cell_type": "code",
      "source": [
        "insertion5 = basketball.insert().values([\n",
        "    {'bb_name': 'Stephen Curry', 'bb_age': 36, 'bb_position': 'Point guard', 'bb_team': 'Warriors'},\n",
        "    {'bb_name': 'Nikola Jokić', 'bb_age': 29, 'bb_position': 'Center', 'bb_team': 'Nuggets'},\n",
        "    {'bb_name': 'Giannis Antetokounmpo', 'bb_age': 30, 'bb_position': 'Power forward', 'bb_team': 'Bucks'},\n",
        "])\n",
        "conn.execute(insertion5)"
      ],
      "metadata": {
        "colab": {
          "base_uri": "https://localhost:8080/"
        },
        "id": "FXCJ_SaZF2yq",
        "outputId": "8d16337a-22cd-4309-985d-c15f805f3e70"
      },
      "id": "FXCJ_SaZF2yq",
      "execution_count": 13,
      "outputs": [
        {
          "output_type": "execute_result",
          "data": {
            "text/plain": [
              "<sqlalchemy.engine.cursor.CursorResult at 0x7c46ab53dda0>"
            ]
          },
          "metadata": {},
          "execution_count": 13
        }
      ]
    },
    {
      "cell_type": "code",
      "source": [
        "select_all_query = db.select(statistics)\n",
        "select_result = conn.execute(select_all_query)\n",
        "select_result.fetchall()"
      ],
      "metadata": {
        "colab": {
          "base_uri": "https://localhost:8080/"
        },
        "id": "RgpQS52182fb",
        "outputId": "b4493ffa-1296-4c4b-9130-0b322693baed"
      },
      "id": "RgpQS52182fb",
      "execution_count": 15,
      "outputs": [
        {
          "output_type": "execute_result",
          "data": {
            "text/plain": [
              "[(1, 1, 1, 1, 2, 0, 0),\n",
              " (2, 1, 3, 0, 1, 1, 0),\n",
              " (3, 2, 1, 1, 0, 1, 0),\n",
              " (4, 2, 2, 0, 0, 1, 0),\n",
              " (5, 3, 2, 1, 0, 0, 0),\n",
              " (6, 3, 3, 0, 1, 0, 1)]"
            ]
          },
          "metadata": {},
          "execution_count": 15
        }
      ]
    },
    {
      "cell_type": "markdown",
      "source": [
        "функция GROUP BY"
      ],
      "metadata": {
        "id": "hBQdRhb8rQdk"
      },
      "id": "hBQdRhb8rQdk"
    },
    {
      "cell_type": "code",
      "source": [
        "from sqlalchemy import func\n",
        "\n",
        "select_all_query = db.select(statistics.columns.stat_pl,\n",
        "                             db.func.sum(statistics.columns.stat_assists)).group_by(statistics.columns.stat_pl)\n",
        "select_result = conn.execute(select_all_query)\n",
        "select_result.fetchall()"
      ],
      "metadata": {
        "colab": {
          "base_uri": "https://localhost:8080/"
        },
        "id": "tMG_Vx29VAUT",
        "outputId": "e09b0fe8-fd3f-4fef-fe87-88c6858c6fb9"
      },
      "id": "tMG_Vx29VAUT",
      "execution_count": 16,
      "outputs": [
        {
          "output_type": "execute_result",
          "data": {
            "text/plain": [
              "[(1, 3), (2, 0), (3, 1)]"
            ]
          },
          "metadata": {},
          "execution_count": 16
        }
      ]
    },
    {
      "cell_type": "markdown",
      "source": [
        "функция  HAVING"
      ],
      "metadata": {
        "id": "XHFwcv4FrJJc"
      },
      "id": "XHFwcv4FrJJc"
    },
    {
      "cell_type": "code",
      "source": [
        "select_all_query = (db.select(statistics.columns.stat_pl,\n",
        "                             db.func.sum(statistics.columns.stat_assists))\n",
        "                    .group_by(statistics.columns.stat_pl).having(db.func.sum(statistics.columns.stat_assists) > 0))\n",
        "select_result = conn.execute(select_all_query)\n",
        "select_result.fetchall()"
      ],
      "metadata": {
        "colab": {
          "base_uri": "https://localhost:8080/"
        },
        "id": "mXakyB0hZ7nR",
        "outputId": "c79d78ce-93c5-48df-8f5f-f2f5e9ce3c1c"
      },
      "id": "mXakyB0hZ7nR",
      "execution_count": 17,
      "outputs": [
        {
          "output_type": "execute_result",
          "data": {
            "text/plain": [
              "[(1, 3), (3, 1)]"
            ]
          },
          "metadata": {},
          "execution_count": 17
        }
      ]
    },
    {
      "cell_type": "markdown",
      "source": [
        "функция JOIN"
      ],
      "metadata": {
        "id": "1q_94d1jrCJu"
      },
      "id": "1q_94d1jrCJu"
    },
    {
      "cell_type": "code",
      "source": [
        "select_all_query = db.select(players.c.player_name, teams.c.team_name).join(teams, players.c.player_team == teams.c.team_id)\n",
        "select_result = conn.execute(select_all_query)\n",
        "select_result.fetchall()"
      ],
      "metadata": {
        "colab": {
          "base_uri": "https://localhost:8080/"
        },
        "id": "ZDSOqRAUag63",
        "outputId": "7bcb9a59-d8a0-473f-bebc-ce2b36df973e"
      },
      "id": "ZDSOqRAUag63",
      "execution_count": 19,
      "outputs": [
        {
          "output_type": "execute_result",
          "data": {
            "text/plain": [
              "[('Lamine Yamal', 'Barcelona'),\n",
              " ('Jude Bellingham', 'Real Madrid'),\n",
              " ('Julián Alvarez', 'Atlético Madrid')]"
            ]
          },
          "metadata": {},
          "execution_count": 19
        }
      ]
    },
    {
      "cell_type": "markdown",
      "source": [
        "функция  LEFT JOIN"
      ],
      "metadata": {
        "id": "Pa_VSsBIqt5r"
      },
      "id": "Pa_VSsBIqt5r"
    },
    {
      "cell_type": "code",
      "source": [
        "select_all_query = db.select(players.c.player_name,\n",
        "                             statistics).select_from(statistics).join(players,\n",
        "                                                                      players.c.player_id == statistics.c.stat_pl, isouter=True)\n",
        "select_result = conn.execute(select_all_query)\n",
        "select_result.fetchall()"
      ],
      "metadata": {
        "colab": {
          "base_uri": "https://localhost:8080/"
        },
        "id": "hIfjLHYPzyUP",
        "outputId": "bb59b3ae-3404-4b98-9b9e-6d40a0ef6b87"
      },
      "id": "hIfjLHYPzyUP",
      "execution_count": 22,
      "outputs": [
        {
          "output_type": "execute_result",
          "data": {
            "text/plain": [
              "[('Lamine Yamal', 1, 1, 1, 1, 2, 0, 0),\n",
              " ('Lamine Yamal', 2, 1, 3, 0, 1, 1, 0),\n",
              " ('Jude Bellingham', 3, 2, 1, 1, 0, 1, 0),\n",
              " ('Jude Bellingham', 4, 2, 2, 0, 0, 1, 0),\n",
              " ('Julián Alvarez', 5, 3, 2, 1, 0, 0, 0),\n",
              " ('Julián Alvarez', 6, 3, 3, 0, 1, 0, 1)]"
            ]
          },
          "metadata": {},
          "execution_count": 22
        }
      ]
    },
    {
      "cell_type": "markdown",
      "source": [
        "фуннкция UNION"
      ],
      "metadata": {
        "id": "BJuZA8avqka8"
      },
      "id": "BJuZA8avqka8"
    },
    {
      "cell_type": "code",
      "source": [
        "query1 = db.select(players.c.player_name, players.c.player_age)\n",
        "query2 = db.select(basketball.c.bb_name, basketball.c.bb_age)\n",
        "\n",
        "union_query = query1.union(query2)\n",
        "select_result = conn.execute(union_query)\n",
        "select_result.fetchall()"
      ],
      "metadata": {
        "colab": {
          "base_uri": "https://localhost:8080/"
        },
        "id": "rbpxBs083V_3",
        "outputId": "31ffcc0e-d0b6-4cdc-c2ac-26273b889c06"
      },
      "id": "rbpxBs083V_3",
      "execution_count": 14,
      "outputs": [
        {
          "output_type": "execute_result",
          "data": {
            "text/plain": [
              "[('Giannis Antetokounmpo', 30),\n",
              " ('Jude Bellingham', 21),\n",
              " ('Julián Alvarez', 25),\n",
              " ('Lamine Yamal', 17),\n",
              " ('Nikola Jokić', 29),\n",
              " ('Stephen Curry', 36)]"
            ]
          },
          "metadata": {},
          "execution_count": 14
        }
      ]
    }
  ],
  "metadata": {
    "kernelspec": {
      "display_name": "Python 3 (ipykernel)",
      "language": "python",
      "name": "python3"
    },
    "language_info": {
      "codemirror_mode": {
        "name": "ipython",
        "version": 3
      },
      "file_extension": ".py",
      "mimetype": "text/x-python",
      "name": "python",
      "nbconvert_exporter": "python",
      "pygments_lexer": "ipython3",
      "version": "3.12.3"
    },
    "colab": {
      "provenance": []
    }
  },
  "nbformat": 4,
  "nbformat_minor": 5
}