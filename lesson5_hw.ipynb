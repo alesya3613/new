{
 "cells": [
  {
   "cell_type": "code",
   "execution_count": 1,
   "id": "c80922da",
   "metadata": {},
   "outputs": [
    {
     "data": {
      "text/plain": [
       "['Robin', 'Singh']"
      ]
     },
     "execution_count": 1,
     "metadata": {},
     "output_type": "execute_result"
    }
   ],
   "source": [
    "#Напишите функцию для разделения строки и \n",
    "#преобразования ее в список слов.\n",
    "\n",
    "st = 'Robin Singh'\n",
    "\n",
    "def spis(st):\n",
    "    new_lst = st.split(' ')\n",
    "    \n",
    "    return new_lst\n",
    "\n",
    "spis(st)"
   ]
  },
  {
   "cell_type": "code",
   "execution_count": 7,
   "id": "5ae72481",
   "metadata": {},
   "outputs": [
    {
     "name": "stdout",
     "output_type": "stream",
     "text": [
      "Введите время поездки: 7\n"
     ]
    },
    {
     "data": {
      "text/plain": [
       "'time = 7 ----> litres = 3'"
      ]
     },
     "execution_count": 7,
     "metadata": {},
     "output_type": "execute_result"
    }
   ],
   "source": [
    "#дано время в часах, и вам нужно вернуть количество\n",
    "#литров, которое выпьет Натан, округленное до наименьшего значения.\n",
    "\n",
    "from math import floor\n",
    "\n",
    "hours = int(input('Введите время поездки: '))\n",
    "\n",
    "def count_water(time) -> int:\n",
    "    \n",
    "    norm = time * 0.5 \n",
    "    \n",
    "    return f'time = {time} ----> litres = {floor(norm)}'\n",
    "\n",
    "count_water(hours)"
   ]
  },
  {
   "cell_type": "code",
   "execution_count": 12,
   "id": "18957623",
   "metadata": {},
   "outputs": [
    {
     "name": "stdout",
     "output_type": "stream",
     "text": [
      "Введите длинну списка: 7\n"
     ]
    },
    {
     "data": {
      "text/plain": [
       "'n = 7 --> [7, 6, 5, 4, 3, 2, 1]'"
      ]
     },
     "execution_count": 12,
     "metadata": {},
     "output_type": "execute_result"
    }
   ],
   "source": [
    "#Создайте функцию, которая возвращает \n",
    "#список целых чисел от n до 1,где n>0.\n",
    "\n",
    "num = int(input('Введите длинну списка: '))\n",
    "\n",
    "def num_lst(n):\n",
    "    lst = []\n",
    "    \n",
    "    if n <= 0:\n",
    "        return 'Ошибочный размер листа'\n",
    "    else:\n",
    "        for i in range(num, 0, -1):\n",
    "            lst.append(i)\n",
    "        return f'n = {n} --> {lst}' \n",
    "    \n",
    "num_lst(num)    "
   ]
  },
  {
   "cell_type": "code",
   "execution_count": 14,
   "id": "4677a0c6",
   "metadata": {},
   "outputs": [
    {
     "name": "stdout",
     "output_type": "stream",
     "text": [
      "Введите год: 1800\n"
     ]
    },
    {
     "data": {
      "text/plain": [
       "'Век: 18'"
      ]
     },
     "execution_count": 14,
     "metadata": {},
     "output_type": "execute_result"
    }
   ],
   "source": [
    "#Учитывая год, верните столетие, в котором он находится.\n",
    "\n",
    "year = int(input('Введите год: '))\n",
    "\n",
    "def century(year):\n",
    "    \n",
    "    if year % 100 != 0:\n",
    "        cent = year // 100 + 1\n",
    "    else:\n",
    "        cent = year // 100\n",
    "        \n",
    "    return f'Век: {cent}'\n",
    "\n",
    "century(year)"
   ]
  },
  {
   "cell_type": "code",
   "execution_count": 24,
   "id": "da02b5bf",
   "metadata": {},
   "outputs": [
    {
     "name": "stdout",
     "output_type": "stream",
     "text": [
      "12345\n"
     ]
    },
    {
     "data": {
      "text/plain": [
       "['5', '4', '3', '2', '1']"
      ]
     },
     "execution_count": 24,
     "metadata": {},
     "output_type": "execute_result"
    }
   ],
   "source": [
    "#Учитывая случайное неотрицательное число, \n",
    "#вам необходимо вернуть\n",
    "#цифры этого числа в массиве в обратном порядке\n",
    "\n",
    "num = input()\n",
    "\n",
    "def lst_rev(st: str):\n",
    "    lst = []\n",
    "    \n",
    "    for i in st:\n",
    "        lst.append(i)\n",
    "        \n",
    "    lst.reverse()\n",
    "    return lst\n",
    "\n",
    "lst_rev(num)\n"
   ]
  },
  {
   "cell_type": "code",
   "execution_count": 54,
   "id": "a68b7641",
   "metadata": {},
   "outputs": [
    {
     "name": "stdout",
     "output_type": "stream",
     "text": [
      "Введите порядок матрицы: 4\n",
      "[1, 2, 3, 4]\n",
      "[8, 7, 6, 5]\n",
      "[9, 10, 11, 12]\n",
      "[16, 15, 14, 13]\n"
     ]
    }
   ],
   "source": [
    "#Получить квадратные матрицы порядка n,\n",
    "#элементами которых являются заданные\n",
    "#действительные числа 1, 2, ..., n*n\n",
    "\n",
    "n = int(input('Введите порядок матрицы: '))\n",
    "\n",
    "def matrix1(n: int):\n",
    "    matrix = [[0] * n for _ in range(n)]\n",
    "    count = 1\n",
    "    \n",
    "    if n <= 0:\n",
    "        return 'Введено неверное значение'\n",
    "    else:\n",
    "        for i in range(n):\n",
    "            for j in range(n):\n",
    "            \n",
    "                if i % 2 == 0:\n",
    "                    matrix[i][j] = count\n",
    "                else:\n",
    "                    matrix[i][n - 1 - j] = count\n",
    "                \n",
    "                count += 1    \n",
    "    \n",
    "            \n",
    "        return matrix    \n",
    "\n",
    "print(*matrix1(n), sep='\\n')"
   ]
  },
  {
   "cell_type": "code",
   "execution_count": 57,
   "id": "35fe52e3",
   "metadata": {},
   "outputs": [
    {
     "name": "stdout",
     "output_type": "stream",
     "text": [
      "Введите порядок матрицы: 4\n",
      "[1, 8, 9, 16]\n",
      "[2, 7, 10, 15]\n",
      "[3, 6, 11, 14]\n",
      "[4, 5, 12, 13]\n"
     ]
    }
   ],
   "source": [
    "n = int(input('Введите порядок матрицы: '))\n",
    "\n",
    "def matrix1(n: int):\n",
    "    matrix = [[0] * n for _ in range(n)]\n",
    "    count = 1\n",
    "    \n",
    "    if n <= 0:\n",
    "        return 'Введено неверное значение'\n",
    "    else:\n",
    "        for i in range(n):\n",
    "            for j in range(n):\n",
    "            \n",
    "                if i % 2 == 0:\n",
    "                    matrix[j][i] = count\n",
    "                else:\n",
    "                    matrix[n - 1 - j][i] = count\n",
    "                \n",
    "                count += 1    \n",
    "    \n",
    "            \n",
    "        return matrix    \n",
    "\n",
    "print(*matrix1(n), sep='\\n')"
   ]
  },
  {
   "cell_type": "code",
   "execution_count": null,
   "id": "8e747d33",
   "metadata": {},
   "outputs": [],
   "source": []
  }
 ],
 "metadata": {
  "kernelspec": {
   "display_name": "Python 3 (ipykernel)",
   "language": "python",
   "name": "python3"
  },
  "language_info": {
   "codemirror_mode": {
    "name": "ipython",
    "version": 3
   },
   "file_extension": ".py",
   "mimetype": "text/x-python",
   "name": "python",
   "nbconvert_exporter": "python",
   "pygments_lexer": "ipython3",
   "version": "3.12.3"
  }
 },
 "nbformat": 4,
 "nbformat_minor": 5
}
