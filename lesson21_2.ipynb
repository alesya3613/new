{
  "nbformat": 4,
  "nbformat_minor": 0,
  "metadata": {
    "colab": {
      "provenance": []
    },
    "kernelspec": {
      "name": "python3",
      "display_name": "Python 3"
    },
    "language_info": {
      "name": "python"
    }
  },
  "cells": [
    {
      "cell_type": "code",
      "execution_count": 1,
      "metadata": {
        "id": "Zair8adxRsTW"
      },
      "outputs": [],
      "source": [
        "import numpy as np\n",
        "import pandas as pd\n",
        "import matplotlib.pyplot as plt\n",
        "from sklearn.datasets import load_linnerud\n",
        "from sklearn.preprocessing import LabelEncoder\n",
        "from sklearn.model_selection import train_test_split\n",
        "from sklearn.metrics import accuracy_score, mean_absolute_percentage_error\n",
        "from sklearn.tree import DecisionTreeClassifier, DecisionTreeRegressor, plot_tree\n",
        "from mlxtend.plotting import plot_decision_regions\n",
        "from copy import deepcopy\n",
        "from pprint import pprint"
      ]
    },
    {
      "cell_type": "code",
      "source": [],
      "metadata": {
        "id": "HWv7UCslgdNc"
      },
      "execution_count": null,
      "outputs": []
    },
    {
      "cell_type": "code",
      "source": [
        "df_titanic = pd.read_csv('/train.csv')\n",
        "df_boston = pd.read_csv('/BostonHousing.csv')"
      ],
      "metadata": {
        "id": "E3BG0ybBT5SK"
      },
      "execution_count": 2,
      "outputs": []
    },
    {
      "cell_type": "code",
      "source": [
        "df_titanic_factorized = pd.DataFrame(df_titanic)\n",
        "df_titanic = df_titanic_factorized\n",
        "for column in df_titanic_factorized.select_dtypes(include=['object']).columns:\n",
        "    df_titanic_factorized[column], unique = pd.factorize(df_titanic_factorized[column])"
      ],
      "metadata": {
        "id": "D6DwhFEcyQTl"
      },
      "execution_count": 3,
      "outputs": []
    },
    {
      "cell_type": "code",
      "source": [
        "df_titanic_factorized.corr()"
      ],
      "metadata": {
        "colab": {
          "base_uri": "https://localhost:8080/",
          "height": 445
        },
        "id": "V3f4SPnDJCFQ",
        "outputId": "b630c522-a6d7-4e12-e4b7-56c481dca3d8"
      },
      "execution_count": null,
      "outputs": [
        {
          "output_type": "execute_result",
          "data": {
            "text/plain": [
              "             PassengerId  Survived    Pclass      Name       Sex       Age  \\\n",
              "PassengerId     1.000000 -0.005007 -0.035144  1.000000 -0.042939  0.036847   \n",
              "Survived       -0.005007  1.000000 -0.338481 -0.005007  0.543351 -0.077221   \n",
              "Pclass         -0.035144 -0.338481  1.000000 -0.035144 -0.131900 -0.369226   \n",
              "Name            1.000000 -0.005007 -0.035144  1.000000 -0.042939  0.036847   \n",
              "Sex            -0.042939  0.543351 -0.131900 -0.042939  1.000000 -0.093254   \n",
              "Age             0.036847 -0.077221 -0.369226  0.036847 -0.093254  1.000000   \n",
              "SibSp          -0.057527 -0.035322  0.083081 -0.057527  0.114631 -0.308247   \n",
              "Parch          -0.001652  0.081629  0.018443 -0.001652  0.245489 -0.189119   \n",
              "Ticket          0.760875 -0.047298 -0.017489  0.760875 -0.132709  0.133553   \n",
              "Fare            0.012658  0.257307 -0.549500  0.012658  0.182333  0.096067   \n",
              "Cabin           0.241918  0.270495 -0.623554  0.241918  0.082104  0.231448   \n",
              "Embarked       -0.030323  0.101849  0.050992 -0.030323  0.111249  0.002626   \n",
              "\n",
              "                SibSp     Parch    Ticket      Fare     Cabin  Embarked  \n",
              "PassengerId -0.057527 -0.001652  0.760875  0.012658  0.241918 -0.030323  \n",
              "Survived    -0.035322  0.081629 -0.047298  0.257307  0.270495  0.101849  \n",
              "Pclass       0.083081  0.018443 -0.017489 -0.549500 -0.623554  0.050992  \n",
              "Name        -0.057527 -0.001652  0.760875  0.012658  0.241918 -0.030323  \n",
              "Sex          0.114631  0.245489 -0.132709  0.182333  0.082104  0.111249  \n",
              "Age         -0.308247 -0.189119  0.133553  0.096067  0.231448  0.002626  \n",
              "SibSp        1.000000  0.414838 -0.303229  0.159651 -0.058893 -0.058008  \n",
              "Parch        0.414838  1.000000 -0.273002  0.216225 -0.003678 -0.076625  \n",
              "Ticket      -0.303229 -0.273002  1.000000 -0.142578  0.212438 -0.020135  \n",
              "Fare         0.159651  0.216225 -0.142578  1.000000  0.397105  0.058462  \n",
              "Cabin       -0.058893 -0.003678  0.212438  0.397105  1.000000  0.017855  \n",
              "Embarked    -0.058008 -0.076625 -0.020135  0.058462  0.017855  1.000000  "
            ],
            "text/html": [
              "\n",
              "  <div id=\"df-62d3e348-1549-478f-b515-22eda6592389\" class=\"colab-df-container\">\n",
              "    <div>\n",
              "<style scoped>\n",
              "    .dataframe tbody tr th:only-of-type {\n",
              "        vertical-align: middle;\n",
              "    }\n",
              "\n",
              "    .dataframe tbody tr th {\n",
              "        vertical-align: top;\n",
              "    }\n",
              "\n",
              "    .dataframe thead th {\n",
              "        text-align: right;\n",
              "    }\n",
              "</style>\n",
              "<table border=\"1\" class=\"dataframe\">\n",
              "  <thead>\n",
              "    <tr style=\"text-align: right;\">\n",
              "      <th></th>\n",
              "      <th>PassengerId</th>\n",
              "      <th>Survived</th>\n",
              "      <th>Pclass</th>\n",
              "      <th>Name</th>\n",
              "      <th>Sex</th>\n",
              "      <th>Age</th>\n",
              "      <th>SibSp</th>\n",
              "      <th>Parch</th>\n",
              "      <th>Ticket</th>\n",
              "      <th>Fare</th>\n",
              "      <th>Cabin</th>\n",
              "      <th>Embarked</th>\n",
              "    </tr>\n",
              "  </thead>\n",
              "  <tbody>\n",
              "    <tr>\n",
              "      <th>PassengerId</th>\n",
              "      <td>1.000000</td>\n",
              "      <td>-0.005007</td>\n",
              "      <td>-0.035144</td>\n",
              "      <td>1.000000</td>\n",
              "      <td>-0.042939</td>\n",
              "      <td>0.036847</td>\n",
              "      <td>-0.057527</td>\n",
              "      <td>-0.001652</td>\n",
              "      <td>0.760875</td>\n",
              "      <td>0.012658</td>\n",
              "      <td>0.241918</td>\n",
              "      <td>-0.030323</td>\n",
              "    </tr>\n",
              "    <tr>\n",
              "      <th>Survived</th>\n",
              "      <td>-0.005007</td>\n",
              "      <td>1.000000</td>\n",
              "      <td>-0.338481</td>\n",
              "      <td>-0.005007</td>\n",
              "      <td>0.543351</td>\n",
              "      <td>-0.077221</td>\n",
              "      <td>-0.035322</td>\n",
              "      <td>0.081629</td>\n",
              "      <td>-0.047298</td>\n",
              "      <td>0.257307</td>\n",
              "      <td>0.270495</td>\n",
              "      <td>0.101849</td>\n",
              "    </tr>\n",
              "    <tr>\n",
              "      <th>Pclass</th>\n",
              "      <td>-0.035144</td>\n",
              "      <td>-0.338481</td>\n",
              "      <td>1.000000</td>\n",
              "      <td>-0.035144</td>\n",
              "      <td>-0.131900</td>\n",
              "      <td>-0.369226</td>\n",
              "      <td>0.083081</td>\n",
              "      <td>0.018443</td>\n",
              "      <td>-0.017489</td>\n",
              "      <td>-0.549500</td>\n",
              "      <td>-0.623554</td>\n",
              "      <td>0.050992</td>\n",
              "    </tr>\n",
              "    <tr>\n",
              "      <th>Name</th>\n",
              "      <td>1.000000</td>\n",
              "      <td>-0.005007</td>\n",
              "      <td>-0.035144</td>\n",
              "      <td>1.000000</td>\n",
              "      <td>-0.042939</td>\n",
              "      <td>0.036847</td>\n",
              "      <td>-0.057527</td>\n",
              "      <td>-0.001652</td>\n",
              "      <td>0.760875</td>\n",
              "      <td>0.012658</td>\n",
              "      <td>0.241918</td>\n",
              "      <td>-0.030323</td>\n",
              "    </tr>\n",
              "    <tr>\n",
              "      <th>Sex</th>\n",
              "      <td>-0.042939</td>\n",
              "      <td>0.543351</td>\n",
              "      <td>-0.131900</td>\n",
              "      <td>-0.042939</td>\n",
              "      <td>1.000000</td>\n",
              "      <td>-0.093254</td>\n",
              "      <td>0.114631</td>\n",
              "      <td>0.245489</td>\n",
              "      <td>-0.132709</td>\n",
              "      <td>0.182333</td>\n",
              "      <td>0.082104</td>\n",
              "      <td>0.111249</td>\n",
              "    </tr>\n",
              "    <tr>\n",
              "      <th>Age</th>\n",
              "      <td>0.036847</td>\n",
              "      <td>-0.077221</td>\n",
              "      <td>-0.369226</td>\n",
              "      <td>0.036847</td>\n",
              "      <td>-0.093254</td>\n",
              "      <td>1.000000</td>\n",
              "      <td>-0.308247</td>\n",
              "      <td>-0.189119</td>\n",
              "      <td>0.133553</td>\n",
              "      <td>0.096067</td>\n",
              "      <td>0.231448</td>\n",
              "      <td>0.002626</td>\n",
              "    </tr>\n",
              "    <tr>\n",
              "      <th>SibSp</th>\n",
              "      <td>-0.057527</td>\n",
              "      <td>-0.035322</td>\n",
              "      <td>0.083081</td>\n",
              "      <td>-0.057527</td>\n",
              "      <td>0.114631</td>\n",
              "      <td>-0.308247</td>\n",
              "      <td>1.000000</td>\n",
              "      <td>0.414838</td>\n",
              "      <td>-0.303229</td>\n",
              "      <td>0.159651</td>\n",
              "      <td>-0.058893</td>\n",
              "      <td>-0.058008</td>\n",
              "    </tr>\n",
              "    <tr>\n",
              "      <th>Parch</th>\n",
              "      <td>-0.001652</td>\n",
              "      <td>0.081629</td>\n",
              "      <td>0.018443</td>\n",
              "      <td>-0.001652</td>\n",
              "      <td>0.245489</td>\n",
              "      <td>-0.189119</td>\n",
              "      <td>0.414838</td>\n",
              "      <td>1.000000</td>\n",
              "      <td>-0.273002</td>\n",
              "      <td>0.216225</td>\n",
              "      <td>-0.003678</td>\n",
              "      <td>-0.076625</td>\n",
              "    </tr>\n",
              "    <tr>\n",
              "      <th>Ticket</th>\n",
              "      <td>0.760875</td>\n",
              "      <td>-0.047298</td>\n",
              "      <td>-0.017489</td>\n",
              "      <td>0.760875</td>\n",
              "      <td>-0.132709</td>\n",
              "      <td>0.133553</td>\n",
              "      <td>-0.303229</td>\n",
              "      <td>-0.273002</td>\n",
              "      <td>1.000000</td>\n",
              "      <td>-0.142578</td>\n",
              "      <td>0.212438</td>\n",
              "      <td>-0.020135</td>\n",
              "    </tr>\n",
              "    <tr>\n",
              "      <th>Fare</th>\n",
              "      <td>0.012658</td>\n",
              "      <td>0.257307</td>\n",
              "      <td>-0.549500</td>\n",
              "      <td>0.012658</td>\n",
              "      <td>0.182333</td>\n",
              "      <td>0.096067</td>\n",
              "      <td>0.159651</td>\n",
              "      <td>0.216225</td>\n",
              "      <td>-0.142578</td>\n",
              "      <td>1.000000</td>\n",
              "      <td>0.397105</td>\n",
              "      <td>0.058462</td>\n",
              "    </tr>\n",
              "    <tr>\n",
              "      <th>Cabin</th>\n",
              "      <td>0.241918</td>\n",
              "      <td>0.270495</td>\n",
              "      <td>-0.623554</td>\n",
              "      <td>0.241918</td>\n",
              "      <td>0.082104</td>\n",
              "      <td>0.231448</td>\n",
              "      <td>-0.058893</td>\n",
              "      <td>-0.003678</td>\n",
              "      <td>0.212438</td>\n",
              "      <td>0.397105</td>\n",
              "      <td>1.000000</td>\n",
              "      <td>0.017855</td>\n",
              "    </tr>\n",
              "    <tr>\n",
              "      <th>Embarked</th>\n",
              "      <td>-0.030323</td>\n",
              "      <td>0.101849</td>\n",
              "      <td>0.050992</td>\n",
              "      <td>-0.030323</td>\n",
              "      <td>0.111249</td>\n",
              "      <td>0.002626</td>\n",
              "      <td>-0.058008</td>\n",
              "      <td>-0.076625</td>\n",
              "      <td>-0.020135</td>\n",
              "      <td>0.058462</td>\n",
              "      <td>0.017855</td>\n",
              "      <td>1.000000</td>\n",
              "    </tr>\n",
              "  </tbody>\n",
              "</table>\n",
              "</div>\n",
              "    <div class=\"colab-df-buttons\">\n",
              "\n",
              "  <div class=\"colab-df-container\">\n",
              "    <button class=\"colab-df-convert\" onclick=\"convertToInteractive('df-62d3e348-1549-478f-b515-22eda6592389')\"\n",
              "            title=\"Convert this dataframe to an interactive table.\"\n",
              "            style=\"display:none;\">\n",
              "\n",
              "  <svg xmlns=\"http://www.w3.org/2000/svg\" height=\"24px\" viewBox=\"0 -960 960 960\">\n",
              "    <path d=\"M120-120v-720h720v720H120Zm60-500h600v-160H180v160Zm220 220h160v-160H400v160Zm0 220h160v-160H400v160ZM180-400h160v-160H180v160Zm440 0h160v-160H620v160ZM180-180h160v-160H180v160Zm440 0h160v-160H620v160Z\"/>\n",
              "  </svg>\n",
              "    </button>\n",
              "\n",
              "  <style>\n",
              "    .colab-df-container {\n",
              "      display:flex;\n",
              "      gap: 12px;\n",
              "    }\n",
              "\n",
              "    .colab-df-convert {\n",
              "      background-color: #E8F0FE;\n",
              "      border: none;\n",
              "      border-radius: 50%;\n",
              "      cursor: pointer;\n",
              "      display: none;\n",
              "      fill: #1967D2;\n",
              "      height: 32px;\n",
              "      padding: 0 0 0 0;\n",
              "      width: 32px;\n",
              "    }\n",
              "\n",
              "    .colab-df-convert:hover {\n",
              "      background-color: #E2EBFA;\n",
              "      box-shadow: 0px 1px 2px rgba(60, 64, 67, 0.3), 0px 1px 3px 1px rgba(60, 64, 67, 0.15);\n",
              "      fill: #174EA6;\n",
              "    }\n",
              "\n",
              "    .colab-df-buttons div {\n",
              "      margin-bottom: 4px;\n",
              "    }\n",
              "\n",
              "    [theme=dark] .colab-df-convert {\n",
              "      background-color: #3B4455;\n",
              "      fill: #D2E3FC;\n",
              "    }\n",
              "\n",
              "    [theme=dark] .colab-df-convert:hover {\n",
              "      background-color: #434B5C;\n",
              "      box-shadow: 0px 1px 3px 1px rgba(0, 0, 0, 0.15);\n",
              "      filter: drop-shadow(0px 1px 2px rgba(0, 0, 0, 0.3));\n",
              "      fill: #FFFFFF;\n",
              "    }\n",
              "  </style>\n",
              "\n",
              "    <script>\n",
              "      const buttonEl =\n",
              "        document.querySelector('#df-62d3e348-1549-478f-b515-22eda6592389 button.colab-df-convert');\n",
              "      buttonEl.style.display =\n",
              "        google.colab.kernel.accessAllowed ? 'block' : 'none';\n",
              "\n",
              "      async function convertToInteractive(key) {\n",
              "        const element = document.querySelector('#df-62d3e348-1549-478f-b515-22eda6592389');\n",
              "        const dataTable =\n",
              "          await google.colab.kernel.invokeFunction('convertToInteractive',\n",
              "                                                    [key], {});\n",
              "        if (!dataTable) return;\n",
              "\n",
              "        const docLinkHtml = 'Like what you see? Visit the ' +\n",
              "          '<a target=\"_blank\" href=https://colab.research.google.com/notebooks/data_table.ipynb>data table notebook</a>'\n",
              "          + ' to learn more about interactive tables.';\n",
              "        element.innerHTML = '';\n",
              "        dataTable['output_type'] = 'display_data';\n",
              "        await google.colab.output.renderOutput(dataTable, element);\n",
              "        const docLink = document.createElement('div');\n",
              "        docLink.innerHTML = docLinkHtml;\n",
              "        element.appendChild(docLink);\n",
              "      }\n",
              "    </script>\n",
              "  </div>\n",
              "\n",
              "\n",
              "<div id=\"df-a7ace17d-982c-43f2-aaba-f0c703137a55\">\n",
              "  <button class=\"colab-df-quickchart\" onclick=\"quickchart('df-a7ace17d-982c-43f2-aaba-f0c703137a55')\"\n",
              "            title=\"Suggest charts\"\n",
              "            style=\"display:none;\">\n",
              "\n",
              "<svg xmlns=\"http://www.w3.org/2000/svg\" height=\"24px\"viewBox=\"0 0 24 24\"\n",
              "     width=\"24px\">\n",
              "    <g>\n",
              "        <path d=\"M19 3H5c-1.1 0-2 .9-2 2v14c0 1.1.9 2 2 2h14c1.1 0 2-.9 2-2V5c0-1.1-.9-2-2-2zM9 17H7v-7h2v7zm4 0h-2V7h2v10zm4 0h-2v-4h2v4z\"/>\n",
              "    </g>\n",
              "</svg>\n",
              "  </button>\n",
              "\n",
              "<style>\n",
              "  .colab-df-quickchart {\n",
              "      --bg-color: #E8F0FE;\n",
              "      --fill-color: #1967D2;\n",
              "      --hover-bg-color: #E2EBFA;\n",
              "      --hover-fill-color: #174EA6;\n",
              "      --disabled-fill-color: #AAA;\n",
              "      --disabled-bg-color: #DDD;\n",
              "  }\n",
              "\n",
              "  [theme=dark] .colab-df-quickchart {\n",
              "      --bg-color: #3B4455;\n",
              "      --fill-color: #D2E3FC;\n",
              "      --hover-bg-color: #434B5C;\n",
              "      --hover-fill-color: #FFFFFF;\n",
              "      --disabled-bg-color: #3B4455;\n",
              "      --disabled-fill-color: #666;\n",
              "  }\n",
              "\n",
              "  .colab-df-quickchart {\n",
              "    background-color: var(--bg-color);\n",
              "    border: none;\n",
              "    border-radius: 50%;\n",
              "    cursor: pointer;\n",
              "    display: none;\n",
              "    fill: var(--fill-color);\n",
              "    height: 32px;\n",
              "    padding: 0;\n",
              "    width: 32px;\n",
              "  }\n",
              "\n",
              "  .colab-df-quickchart:hover {\n",
              "    background-color: var(--hover-bg-color);\n",
              "    box-shadow: 0 1px 2px rgba(60, 64, 67, 0.3), 0 1px 3px 1px rgba(60, 64, 67, 0.15);\n",
              "    fill: var(--button-hover-fill-color);\n",
              "  }\n",
              "\n",
              "  .colab-df-quickchart-complete:disabled,\n",
              "  .colab-df-quickchart-complete:disabled:hover {\n",
              "    background-color: var(--disabled-bg-color);\n",
              "    fill: var(--disabled-fill-color);\n",
              "    box-shadow: none;\n",
              "  }\n",
              "\n",
              "  .colab-df-spinner {\n",
              "    border: 2px solid var(--fill-color);\n",
              "    border-color: transparent;\n",
              "    border-bottom-color: var(--fill-color);\n",
              "    animation:\n",
              "      spin 1s steps(1) infinite;\n",
              "  }\n",
              "\n",
              "  @keyframes spin {\n",
              "    0% {\n",
              "      border-color: transparent;\n",
              "      border-bottom-color: var(--fill-color);\n",
              "      border-left-color: var(--fill-color);\n",
              "    }\n",
              "    20% {\n",
              "      border-color: transparent;\n",
              "      border-left-color: var(--fill-color);\n",
              "      border-top-color: var(--fill-color);\n",
              "    }\n",
              "    30% {\n",
              "      border-color: transparent;\n",
              "      border-left-color: var(--fill-color);\n",
              "      border-top-color: var(--fill-color);\n",
              "      border-right-color: var(--fill-color);\n",
              "    }\n",
              "    40% {\n",
              "      border-color: transparent;\n",
              "      border-right-color: var(--fill-color);\n",
              "      border-top-color: var(--fill-color);\n",
              "    }\n",
              "    60% {\n",
              "      border-color: transparent;\n",
              "      border-right-color: var(--fill-color);\n",
              "    }\n",
              "    80% {\n",
              "      border-color: transparent;\n",
              "      border-right-color: var(--fill-color);\n",
              "      border-bottom-color: var(--fill-color);\n",
              "    }\n",
              "    90% {\n",
              "      border-color: transparent;\n",
              "      border-bottom-color: var(--fill-color);\n",
              "    }\n",
              "  }\n",
              "</style>\n",
              "\n",
              "  <script>\n",
              "    async function quickchart(key) {\n",
              "      const quickchartButtonEl =\n",
              "        document.querySelector('#' + key + ' button');\n",
              "      quickchartButtonEl.disabled = true;  // To prevent multiple clicks.\n",
              "      quickchartButtonEl.classList.add('colab-df-spinner');\n",
              "      try {\n",
              "        const charts = await google.colab.kernel.invokeFunction(\n",
              "            'suggestCharts', [key], {});\n",
              "      } catch (error) {\n",
              "        console.error('Error during call to suggestCharts:', error);\n",
              "      }\n",
              "      quickchartButtonEl.classList.remove('colab-df-spinner');\n",
              "      quickchartButtonEl.classList.add('colab-df-quickchart-complete');\n",
              "    }\n",
              "    (() => {\n",
              "      let quickchartButtonEl =\n",
              "        document.querySelector('#df-a7ace17d-982c-43f2-aaba-f0c703137a55 button');\n",
              "      quickchartButtonEl.style.display =\n",
              "        google.colab.kernel.accessAllowed ? 'block' : 'none';\n",
              "    })();\n",
              "  </script>\n",
              "</div>\n",
              "    </div>\n",
              "  </div>\n"
            ],
            "application/vnd.google.colaboratory.intrinsic+json": {
              "type": "dataframe",
              "summary": "{\n  \"name\": \"df_titanic_factorized\",\n  \"rows\": 12,\n  \"fields\": [\n    {\n      \"column\": \"PassengerId\",\n      \"properties\": {\n        \"dtype\": \"number\",\n        \"std\": 0.42160400195054343,\n        \"min\": -0.0575268337844415,\n        \"max\": 1.0,\n        \"num_unique_values\": 11,\n        \"samples\": [\n          -0.0575268337844415,\n          1.0,\n          0.24191775677782093\n        ],\n        \"semantic_type\": \"\",\n        \"description\": \"\"\n      }\n    },\n    {\n      \"column\": \"Survived\",\n      \"properties\": {\n        \"dtype\": \"number\",\n        \"std\": 0.34661738611443765,\n        \"min\": -0.33848103596101514,\n        \"max\": 1.0,\n        \"num_unique_values\": 12,\n        \"samples\": [\n          0.2704946336991044,\n          0.2573065223849626,\n          -0.0050066607670665175\n        ],\n        \"semantic_type\": \"\",\n        \"description\": \"\"\n      }\n    },\n    {\n      \"column\": \"Pclass\",\n      \"properties\": {\n        \"dtype\": \"number\",\n        \"std\": 0.4152549316578642,\n        \"min\": -0.6235537138778974,\n        \"max\": 1.0,\n        \"num_unique_values\": 12,\n        \"samples\": [\n          -0.6235537138778974,\n          -0.5494996199439076,\n          -0.03514399403038102\n        ],\n        \"semantic_type\": \"\",\n        \"description\": \"\"\n      }\n    },\n    {\n      \"column\": \"Name\",\n      \"properties\": {\n        \"dtype\": \"number\",\n        \"std\": 0.42160400195054343,\n        \"min\": -0.0575268337844415,\n        \"max\": 1.0,\n        \"num_unique_values\": 11,\n        \"samples\": [\n          -0.0575268337844415,\n          1.0,\n          0.24191775677782093\n        ],\n        \"semantic_type\": \"\",\n        \"description\": \"\"\n      }\n    },\n    {\n      \"column\": \"Sex\",\n      \"properties\": {\n        \"dtype\": \"number\",\n        \"std\": 0.3285867965392644,\n        \"min\": -0.13270887003694923,\n        \"max\": 1.0,\n        \"num_unique_values\": 11,\n        \"samples\": [\n          0.11463081038942237,\n          -0.04293888007878871,\n          0.0821041881448959\n        ],\n        \"semantic_type\": \"\",\n        \"description\": \"\"\n      }\n    },\n    {\n      \"column\": \"Age\",\n      \"properties\": {\n        \"dtype\": \"number\",\n        \"std\": 0.3495796272626399,\n        \"min\": -0.36922601531551735,\n        \"max\": 1.0,\n        \"num_unique_values\": 12,\n        \"samples\": [\n          0.2314483727068693,\n          0.09606669176903912,\n          0.036847197861327674\n        ],\n        \"semantic_type\": \"\",\n        \"description\": \"\"\n      }\n    },\n    {\n      \"column\": \"SibSp\",\n      \"properties\": {\n        \"dtype\": \"number\",\n        \"std\": 0.35068300203063163,\n        \"min\": -0.30824675892365666,\n        \"max\": 1.0,\n        \"num_unique_values\": 11,\n        \"samples\": [\n          1.0,\n          -0.0575268337844415,\n          -0.058893094132276516\n        ],\n        \"semantic_type\": \"\",\n        \"description\": \"\"\n      }\n    },\n    {\n      \"column\": \"Parch\",\n      \"properties\": {\n        \"dtype\": \"number\",\n        \"std\": 0.3346201158847855,\n        \"min\": -0.2730019644571773,\n        \"max\": 1.0,\n        \"num_unique_values\": 11,\n        \"samples\": [\n          0.41483769862015624,\n          -0.0016520124027188366,\n          -0.0036783199917636246\n        ],\n        \"semantic_type\": \"\",\n        \"description\": \"\"\n      }\n    },\n    {\n      \"column\": \"Ticket\",\n      \"properties\": {\n        \"dtype\": \"number\",\n        \"std\": 0.43873450502932804,\n        \"min\": -0.3032289323385202,\n        \"max\": 1.0,\n        \"num_unique_values\": 11,\n        \"samples\": [\n          -0.3032289323385202,\n          0.7608752796143613,\n          0.21243782717392523\n        ],\n        \"semantic_type\": \"\",\n        \"description\": \"\"\n      }\n    },\n    {\n      \"column\": \"Fare\",\n      \"properties\": {\n        \"dtype\": \"number\",\n        \"std\": 0.359758478556367,\n        \"min\": -0.5494996199439076,\n        \"max\": 1.0,\n        \"num_unique_values\": 11,\n        \"samples\": [\n          0.159651043242161,\n          0.012658219287491099,\n          0.3971047427188143\n        ],\n        \"semantic_type\": \"\",\n        \"description\": \"\"\n      }\n    },\n    {\n      \"column\": \"Cabin\",\n      \"properties\": {\n        \"dtype\": \"number\",\n        \"std\": 0.37045122224689075,\n        \"min\": -0.6235537138778974,\n        \"max\": 1.0,\n        \"num_unique_values\": 11,\n        \"samples\": [\n          -0.058893094132276516,\n          0.24191775677782093,\n          1.0\n        ],\n        \"semantic_type\": \"\",\n        \"description\": \"\"\n      }\n    },\n    {\n      \"column\": \"Embarked\",\n      \"properties\": {\n        \"dtype\": \"number\",\n        \"std\": 0.29148734847485963,\n        \"min\": -0.07662541970630037,\n        \"max\": 1.0,\n        \"num_unique_values\": 11,\n        \"samples\": [\n          -0.058007943699018454,\n          -0.030322774062983546,\n          0.01785480359814509\n        ],\n        \"semantic_type\": \"\",\n        \"description\": \"\"\n      }\n    }\n  ]\n}"
            }
          },
          "metadata": {},
          "execution_count": 4
        }
      ]
    },
    {
      "cell_type": "code",
      "source": [
        "df_titanic = df_titanic_factorized.drop(columns = ['PassengerId', 'Name'] )"
      ],
      "metadata": {
        "id": "BJn2mGM3JqDZ"
      },
      "execution_count": 4,
      "outputs": []
    },
    {
      "cell_type": "code",
      "source": [
        "X = df_titanic.drop(columns=['Survived'])\n",
        "y = df_titanic['Survived']\n",
        "\n",
        "X_train, X_test, y_train, y_test = train_test_split(X, y, train_size = 0.8, random_state=3, stratify=y)"
      ],
      "metadata": {
        "id": "AiedyZaS6Gr5"
      },
      "execution_count": 5,
      "outputs": []
    },
    {
      "cell_type": "code",
      "source": [
        "\n",
        "class DecisionTree:\n",
        "    def __init__(self, max_depth=None):\n",
        "        self.max_depth = max_depth\n",
        "        self.tree = None\n",
        "        self.cnt = 0\n",
        "\n",
        "    def gini_index(self, labels):\n",
        "        _, counts = np.unique(labels, return_counts=True)\n",
        "        probabilities = counts / counts.sum()\n",
        "        gini = 1 - np.sum(probabilities ** 2)\n",
        "        return gini\n",
        "\n",
        "    def entropy(self, labels):\n",
        "        _, counts = np.unique(labels, return_counts=True)\n",
        "        probabilities = counts / counts.sum()\n",
        "        ent = -np.sum(probabilities * np.log2(probabilities))\n",
        "        return ent\n",
        "\n",
        "    #Вторая функция\n",
        "    def chosen_feature(self, X, y):\n",
        "        ind = []\n",
        "        for i in range(X.shape[1]):\n",
        "            feature = X.iloc[:, i]\n",
        "            _, gini = self.find_optimal_split(feature, y)\n",
        "            ind.append(gini)\n",
        "        min_index = ind.index(min(ind))\n",
        "        column_name = X.columns[min_index]\n",
        "\n",
        "        #print(f'Фича для разбиения {column_name}')\n",
        "        return column_name\n",
        "\n",
        "    #Третья функция\n",
        "    def find_optimal_split(self, feature, labels):\n",
        "        self.cnt += 1\n",
        "        sorted_indices = np.argsort(feature)\n",
        "        feature = np.array(feature)[sorted_indices]\n",
        "        labels = np.array(labels)[sorted_indices]\n",
        "\n",
        "        min_gini = float(\"inf\") #представление положительной бесконечности\n",
        "        optimal_threshold = None\n",
        "\n",
        "        for i in range(1, len(feature)):\n",
        "            threshold = (feature[i - 1] + feature[i]) / 2\n",
        "\n",
        "            left_labels = labels[:i]\n",
        "            right_labels = labels[i:]\n",
        "\n",
        "            gini_left = self.gini_index(left_labels)\n",
        "            gini_right = self.gini_index(right_labels)\n",
        "\n",
        "            gini_total = (len(left_labels) * gini_left + len(right_labels) * gini_right) / len(labels)\n",
        "\n",
        "            if gini_total < min_gini:\n",
        "                min_gini = gini_total\n",
        "                optimal_threshold = threshold\n",
        "\n",
        "        #print(f'Оптимальные {self.cnt}: {optimal_threshold}, {min_gini}')\n",
        "\n",
        "        return optimal_threshold, min_gini\n",
        "\n",
        "    def split_data(self, feature, labels, optimal_threshold):\n",
        "\n",
        "        left_data = []\n",
        "        left_labels = []\n",
        "        right_data = []\n",
        "        right_labels = []\n",
        "\n",
        "        for i in range(len(feature)):\n",
        "            if feature[i] <= optimal_threshold:\n",
        "                left_data.append(feature[i])\n",
        "                left_labels.append(labels[i])\n",
        "            else:\n",
        "                right_data.append(feature[i])\n",
        "                right_labels.append(labels[i])\n",
        "\n",
        "        return (left_data, left_labels), (right_data, right_labels)\n",
        "\n",
        "    #Запускается 1 после метода fit\n",
        "    def build_tree(self, X, y, depth=0):\n",
        "        # Базовый случай: если глубина превышена или все метки одинаковы\n",
        "        if len(set(y)) == 1 or (self.max_depth and depth >= self.max_depth):\n",
        "            return {\"label\": y.iloc[0]}\n",
        "\n",
        "        # Выбор лучшего признака\n",
        "        best_feature = self.chosen_feature(X, y)\n",
        "        feature_index = X.columns.get_loc(best_feature)\n",
        "\n",
        "        # Оптимальный порог для разделения\n",
        "        threshold, _ = self.find_optimal_split(X.iloc[:, feature_index].values, y)\n",
        "\n",
        "        # Разделение данных\n",
        "        left_indices = X.iloc[:, feature_index].values <= threshold\n",
        "        right_indices = X.iloc[:, feature_index].values >= threshold  #right_indices = ~left_indices другая форма записи\n",
        "\n",
        "\n",
        "        left_tree = self.build_tree(X[left_indices], y[left_indices], depth + 1)\n",
        "        right_tree = self.build_tree(X[right_indices], y[right_indices], depth + 1)\n",
        "\n",
        "        tree = {\n",
        "            \"feature\": best_feature,\n",
        "            \"threshold\": threshold,\n",
        "            \"left\": left_tree,\n",
        "            \"right\": right_tree,\n",
        "        }\n",
        "\n",
        "        print(f'Фича {tree[\"feature\"]}')\n",
        "        print(f'Порог {tree[\"threshold\"]}')\n",
        "        print(f'Левая часть {tree[\"left\"]}')\n",
        "        print(f'Правая часть {tree[\"right\"]}')\n",
        "\n",
        "        return tree\n",
        "\n",
        "    def fit(self, X, y):\n",
        "        self.tree = self.build_tree(X, y)\n",
        "\n",
        "    def predict_sample(self, sample, tree):\n",
        "        if \"label\" in tree:\n",
        "            return tree[\"label\"]\n",
        "\n",
        "        feature = tree[\"feature\"]\n",
        "        threshold = tree[\"threshold\"]\n",
        "        if sample[feature] <= threshold:\n",
        "            return self.predict_sample(sample, tree[\"left\"])\n",
        "        else:\n",
        "            return self.predict_sample(sample, tree[\"right\"])\n",
        "\n",
        "    def predict(self, X, y):\n",
        "        predictions = np.array([self.predict_sample(sample, self.tree)\n",
        "                                for _, sample in X.iterrows()])\n",
        "\n",
        "        acc = accuracy_score(y, predictions)\n",
        "        #print(f'Точность модели: {acc}')\n",
        "        return predictions\n",
        "\n",
        ""
      ],
      "metadata": {
        "id": "WMSfn8Rkpac0"
      },
      "execution_count": 50,
      "outputs": []
    },
    {
      "cell_type": "code",
      "source": [
        "tree = DecisionTree(max_depth=3)"
      ],
      "metadata": {
        "id": "KVPJNnM5smEm"
      },
      "execution_count": 31,
      "outputs": []
    },
    {
      "cell_type": "code",
      "source": [
        "tree.fit(X_train, y_train)"
      ],
      "metadata": {
        "colab": {
          "base_uri": "https://localhost:8080/"
        },
        "collapsed": true,
        "id": "i9sS_kZzmVaj",
        "outputId": "618f145c-ed7e-4af5-dd9d-5062d8b9f6c6"
      },
      "execution_count": 32,
      "outputs": [
        {
          "output_type": "stream",
          "name": "stdout",
          "text": [
            "Оптимальные 1: 2.0, 0.415606288979131\n",
            "Оптимальные 2: 0.5, 0.3447544862076387\n",
            "Оптимальные 3: nan, 0.4947729200441328\n",
            "Оптимальные 4: 2.0, 0.46528072914898677\n",
            "Оптимальные 5: 0.0, 0.4623345188319751\n"
          ]
        },
        {
          "output_type": "stream",
          "name": "stderr",
          "text": [
            "/usr/local/lib/python3.11/dist-packages/numpy/_core/fromnumeric.py:57: FutureWarning: The behavior of Series.argsort in the presence of NA values is deprecated. In a future version, NA values will be ordered last instead of set to -1.\n",
            "  return bound(*args, **kwds)\n"
          ]
        },
        {
          "output_type": "stream",
          "name": "stdout",
          "text": [
            "Оптимальные 6: 564.5, 0.46809911577384283\n",
            "Оптимальные 7: 10.5, 0.4344112901326172\n",
            "Оптимальные 8: -0.5, 0.43084301222765\n",
            "Оптимальные 9: 0.0, 0.4610225156556375\n",
            "Фича для разбиения Sex\n",
            "Оптимальные 10: 0.5, 0.3447544862076387\n",
            "Оптимальные 11: 1.0, 0.2981016053141172\n",
            "Оптимальные 12: 0.0, 0.31641056100551807\n",
            "Оптимальные 13: 33.5, 0.24152968069618927\n",
            "Оптимальные 14: 0.0, 0.3157305467437955\n"
          ]
        },
        {
          "output_type": "stream",
          "name": "stderr",
          "text": [
            "/usr/local/lib/python3.11/dist-packages/numpy/_core/fromnumeric.py:57: FutureWarning: The behavior of Series.argsort in the presence of NA values is deprecated. In a future version, NA values will be ordered last instead of set to -1.\n",
            "  return bound(*args, **kwds)\n"
          ]
        },
        {
          "output_type": "stream",
          "name": "stdout",
          "text": [
            "Оптимальные 15: 1.0, 0.31176861412003176\n",
            "Оптимальные 16: 648.5, 0.31781797125144773\n",
            "Оптимальные 17: 26.26875, 0.30540016221398275\n",
            "Оптимальные 18: 34.5, 0.294772019948422\n",
            "Оптимальные 19: 2.0, 0.3162351104318314\n",
            "Фича для разбиения Age\n",
            "Оптимальные 20: 6.5, 0.2970245770703824\n",
            "Оптимальные 21: 2.5, 0.3\n",
            "Оптимальные 22: 0.0, 0.31111111111111106\n",
            "Оптимальные 23: 1.0, 0.3428571428571429\n",
            "Оптимальные 24: 2.0, 0.08571428571428573\n",
            "Оптимальные 25: 2.0, 0.375\n",
            "Оптимальные 26: 67.0, 0.15\n",
            "Оптимальные 27: 20.825, 0.3\n",
            "Оптимальные 28: -1.0, 0.23516483516483505\n",
            "Оптимальные 29: 0.0, 0.31111111111111106\n",
            "Фича для разбиения SibSp\n",
            "Оптимальные 30: 2.0, 0.08571428571428573\n",
            "Оптимальные 31: 3.0, 0.14285714285714285\n",
            "Оптимальные 32: 0.0, 0.14285714285714285\n",
            "Оптимальные 33: 2.5, 0.14285714285714285\n",
            "Оптимальные 34: 4.0, 0.19047619047619047\n",
            "Оптимальные 35: 2.0, 0.0\n",
            "Оптимальные 36: 20.0, 0.21428571428571427\n",
            "Оптимальные 37: 31.331249999999997, 0.21428571428571427\n",
            "Оптимальные 38: -1.0, 0.14285714285714285\n",
            "Оптимальные 39: 0.0, 0.14285714285714285\n",
            "Фича для разбиения Parch\n",
            "Оптимальные 40: 2.0, 0.0\n",
            "Фича Parch\n",
            "Порог 2.0\n",
            "Левая часть {'label': np.int64(0)}\n",
            "Правая часть {'label': np.int64(0)}\n",
            "Фича SibSp\n",
            "Порог 2.0\n",
            "Левая часть {'label': np.int64(1)}\n",
            "Правая часть {'feature': 'Parch', 'threshold': np.float64(2.0), 'left': {'label': np.int64(0)}, 'right': {'label': np.int64(0)}}\n",
            "Оптимальные 41: 1.0, 0.26785237883503793\n",
            "Оптимальные 42: 0.0, 0.3067871906142261\n",
            "Оптимальные 43: 25.0, 0.304785267372895\n",
            "Оптимальные 44: 2.0, 0.304970395488167\n",
            "Оптимальные 45: 0.0, 0.30274596922507313\n",
            "Оптимальные 46: 163.0, 0.30274389973935434\n",
            "Оптимальные 47: 26.26875, 0.2924340642624793\n",
            "Оптимальные 48: 33.0, 0.2792225665883801\n",
            "Оптимальные 49: 0.0, 0.3001648782437583\n",
            "Фича для разбиения Pclass\n",
            "Оптимальные 50: 1.0, 0.26785237883503793\n",
            "Оптимальные 51: 1.0, 0.4456917846748355\n",
            "Оптимальные 52: 0.0, 0.4456917846748355\n",
            "Оптимальные 53: 50.0, 0.44588744588744594\n",
            "Оптимальные 54: 0.0, 0.4444505848761168\n",
            "Оптимальные 55: 0.0, 0.4472860472860474\n",
            "Оптимальные 56: 163.5, 0.397599180207876\n",
            "Оптимальные 57: 32.25, 0.4592807192807192\n",
            "Оптимальные 58: 33.0, 0.4394637620444073\n",
            "Оптимальные 59: 0.0, 0.4472860472860474\n",
            "Фича для разбиения Ticket\n",
            "Оптимальные 60: 163.5, 0.397599180207876\n",
            "Фича Ticket\n",
            "Порог 163.5\n",
            "Левая часть {'label': np.int64(0)}\n",
            "Правая часть {'label': np.int64(1)}\n",
            "Оптимальные 61: 1.0, 0.26785237883503793\n",
            "Оптимальные 62: 0.0, 0.3067871906142261\n",
            "Оптимальные 63: 25.0, 0.304785267372895\n",
            "Оптимальные 64: 2.0, 0.304970395488167\n",
            "Оптимальные 65: 0.0, 0.30274596922507313\n",
            "Оптимальные 66: 163.0, 0.30274389973935434\n",
            "Оптимальные 67: 26.26875, 0.2924340642624793\n",
            "Оптимальные 68: 33.0, 0.2792225665883801\n",
            "Оптимальные 69: 0.0, 0.3001648782437583\n",
            "Фича для разбиения Pclass\n",
            "Оптимальные 70: 1.0, 0.26785237883503793\n",
            "Фича Pclass\n",
            "Порог 1.0\n",
            "Левая часть {'label': np.int64(0)}\n",
            "Правая часть {'label': np.int64(0)}\n",
            "Фича Pclass\n",
            "Порог 1.0\n",
            "Левая часть {'feature': 'Ticket', 'threshold': np.float64(163.5), 'left': {'label': np.int64(0)}, 'right': {'label': np.int64(1)}}\n",
            "Правая часть {'feature': 'Pclass', 'threshold': np.float64(1.0), 'left': {'label': np.int64(0)}, 'right': {'label': np.int64(0)}}\n",
            "Фича Age\n",
            "Порог 6.5\n",
            "Левая часть {'feature': 'SibSp', 'threshold': np.float64(2.0), 'left': {'label': np.int64(1)}, 'right': {'feature': 'Parch', 'threshold': np.float64(2.0), 'left': {'label': np.int64(0)}, 'right': {'label': np.int64(0)}}}\n",
            "Правая часть {'feature': 'Pclass', 'threshold': np.float64(1.0), 'left': {'feature': 'Ticket', 'threshold': np.float64(163.5), 'left': {'label': np.int64(0)}, 'right': {'label': np.int64(1)}}, 'right': {'feature': 'Pclass', 'threshold': np.float64(1.0), 'left': {'label': np.int64(0)}, 'right': {'label': np.int64(0)}}}\n",
            "Оптимальные 71: 2.0, 0.2874503169193657\n",
            "Оптимальные 72: 1.0, 0.384271428345027\n",
            "Оптимальные 73: 30.0, 0.3422598307615728\n",
            "Оптимальные 74: 2.5, 0.36008890790662296\n",
            "Оптимальные 75: 3.0, 0.37040785345612787\n",
            "Оптимальные 76: 227.5, 0.37419296987087525\n",
            "Оптимальные 77: 48.2, 0.3599001650936049\n",
            "Оптимальные 78: -1.0, 0.3455731661693721\n",
            "Оптимальные 79: 0.0, 0.37962950506504517\n",
            "Фича для разбиения Pclass\n",
            "Оптимальные 80: 2.0, 0.2874503169193657\n",
            "Оптимальные 81: 1.0, 0.11036168132942319\n",
            "Оптимальные 82: 1.0, 0.11233595800524943\n",
            "Оптимальные 83: 19.0, 0.08674531575294932\n",
            "Оптимальные 84: 1.0, 0.11197691197691188\n",
            "Оптимальные 85: 2.0, 0.11250971250971249\n",
            "Оптимальные 86: 312.5, 0.11174930129178508\n",
            "Оптимальные 87: 13.0, 0.10826179470247273\n"
          ]
        },
        {
          "output_type": "stream",
          "name": "stderr",
          "text": [
            "/usr/local/lib/python3.11/dist-packages/numpy/_core/fromnumeric.py:57: FutureWarning: The behavior of Series.argsort in the presence of NA values is deprecated. In a future version, NA values will be ordered last instead of set to -1.\n",
            "  return bound(*args, **kwds)\n",
            "/usr/local/lib/python3.11/dist-packages/numpy/_core/fromnumeric.py:57: FutureWarning: The behavior of Series.argsort in the presence of NA values is deprecated. In a future version, NA values will be ordered last instead of set to -1.\n",
            "  return bound(*args, **kwds)\n"
          ]
        },
        {
          "output_type": "stream",
          "name": "stdout",
          "text": [
            "Оптимальные 88: 129.5, 0.11310822510822516\n",
            "Оптимальные 89: 0.0, 0.11021184934228417\n",
            "Фича для разбиения Age\n",
            "Оптимальные 90: 2.0, 0.10039324543141337\n",
            "Оптимальные 91: 1.5, 0.0\n",
            "Оптимальные 92: 1.0, 0.0\n",
            "Оптимальные 93: 2.0, 0.0\n",
            "Оптимальные 94: 1.0, 0.0\n",
            "Оптимальные 95: 1.5, 0.0\n",
            "Оптимальные 96: 344.5, 0.0\n",
            "Оптимальные 97: 88.775, 0.0\n",
            "Оптимальные 98: 26.0, 0.0\n",
            "Оптимальные 99: 0.0, 0.0\n",
            "Фича для разбиения Pclass\n",
            "Оптимальные 100: 1.5, 0.0\n",
            "Фича Pclass\n",
            "Порог 1.5\n",
            "Левая часть {'label': np.int64(0)}\n",
            "Правая часть {'label': np.int64(1)}\n",
            "Оптимальные 101: 2.0, 0.11712432240291494\n",
            "Оптимальные 102: 1.0, 0.11914537075827401\n",
            "Оптимальные 103: 2.0, 0.10647783897193806\n",
            "Оптимальные 104: 1.0, 0.11909128260629934\n",
            "Оптимальные 105: 2.0, 0.11940416296734743\n",
            "Оптимальные 106: 312.5, 0.11816545973228007\n",
            "Оптимальные 107: 26.0, 0.11673313065108368\n",
            "Оптимальные 108: 54.0, 0.11977651275563986\n",
            "Оптимальные 109: 0.0, 0.11681471092410786\n",
            "Фича для разбиения Age\n",
            "Оптимальные 110: 2.0, 0.10647783897193806\n",
            "Фича Age\n",
            "Порог 2.0\n",
            "Левая часть {'label': np.int64(0)}\n",
            "Правая часть {'label': np.int64(1)}\n",
            "Фича Age\n",
            "Порог 2.0\n",
            "Левая часть {'feature': 'Pclass', 'threshold': np.float64(1.5), 'left': {'label': np.int64(0)}, 'right': {'label': np.int64(1)}}\n",
            "Правая часть {'feature': 'Age', 'threshold': np.float64(2.0), 'left': {'label': np.int64(0)}, 'right': {'label': np.int64(1)}}\n",
            "Оптимальные 111: 3.0, 0.3784606866002214\n",
            "Оптимальные 112: 1.0, 0.44830613284186543\n",
            "Оптимальные 113: 34.0, 0.41523724880264656\n",
            "Оптимальные 114: 2.0, 0.41324373301117484\n",
            "Оптимальные 115: 1.0, 0.4429891813612744\n",
            "Оптимальные 116: 227.5, 0.4486039270749054\n",
            "Оптимальные 117: 27.825, 0.4421361531109858\n"
          ]
        },
        {
          "output_type": "stream",
          "name": "stderr",
          "text": [
            "/usr/local/lib/python3.11/dist-packages/numpy/_core/fromnumeric.py:57: FutureWarning: The behavior of Series.argsort in the presence of NA values is deprecated. In a future version, NA values will be ordered last instead of set to -1.\n",
            "  return bound(*args, **kwds)\n",
            "/usr/local/lib/python3.11/dist-packages/numpy/_core/fromnumeric.py:57: FutureWarning: The behavior of Series.argsort in the presence of NA values is deprecated. In a future version, NA values will be ordered last instead of set to -1.\n",
            "  return bound(*args, **kwds)\n"
          ]
        },
        {
          "output_type": "stream",
          "name": "stdout",
          "text": [
            "Оптимальные 118: -1.0, 0.44340172682150264\n",
            "Оптимальные 119: 1.0, 0.44860541115671065\n",
            "Фича для разбиения Pclass\n",
            "Оптимальные 120: 3.0, 0.3784606866002214\n",
            "Оптимальные 121: 3.0, 0.3784606866002214\n",
            "Оптимальные 122: 1.0, 0.44830613284186543\n",
            "Оптимальные 123: 34.0, 0.41523724880264656\n",
            "Оптимальные 124: 2.0, 0.41324373301117484\n",
            "Оптимальные 125: 1.0, 0.4429891813612744\n",
            "Оптимальные 126: 227.5, 0.4486039270749054\n",
            "Оптимальные 127: 27.825, 0.4421361531109858\n",
            "Оптимальные 128: -1.0, 0.44340172682150264\n",
            "Оптимальные 129: 1.0, 0.44860541115671065\n",
            "Фича для разбиения Pclass\n",
            "Оптимальные 130: 3.0, 0.3784606866002214\n",
            "Фича Pclass\n",
            "Порог 3.0\n",
            "Левая часть {'label': np.int64(1)}\n",
            "Правая часть {'label': np.int64(1)}\n",
            "Оптимальные 131: 3.0, 0.4786062378167642\n",
            "Оптимальные 132: 1.0, 0.4786062378167642\n",
            "Оптимальные 133: nan, 0.441358024691358\n",
            "Оптимальные 134: 2.5, 0.4610313662945243\n",
            "Оптимальные 135: 1.0, 0.4624218774785064\n",
            "Оптимальные 136: 164.0, 0.4870380044403813\n",
            "Оптимальные 137: 23.35, 0.41097367073597973\n",
            "Оптимальные 138: -1.0, 0.4721043114114399\n",
            "Оптимальные 139: 0.0, 0.4438271604938271\n",
            "Фича для разбиения Fare\n",
            "Оптимальные 140: 23.35, 0.41097367073597973\n",
            "Фича Fare\n",
            "Порог 23.35\n",
            "Левая часть {'label': np.int64(1)}\n",
            "Правая часть {'label': np.int64(0)}\n",
            "Фича Pclass\n",
            "Порог 3.0\n",
            "Левая часть {'feature': 'Pclass', 'threshold': np.float64(3.0), 'left': {'label': np.int64(1)}, 'right': {'label': np.int64(1)}}\n",
            "Правая часть {'feature': 'Fare', 'threshold': np.float64(23.35), 'left': {'label': np.int64(1)}, 'right': {'label': np.int64(0)}}\n",
            "Фича Pclass\n",
            "Порог 2.0\n",
            "Левая часть {'feature': 'Age', 'threshold': np.float64(2.0), 'left': {'feature': 'Pclass', 'threshold': np.float64(1.5), 'left': {'label': np.int64(0)}, 'right': {'label': np.int64(1)}}, 'right': {'feature': 'Age', 'threshold': np.float64(2.0), 'left': {'label': np.int64(0)}, 'right': {'label': np.int64(1)}}}\n",
            "Правая часть {'feature': 'Pclass', 'threshold': np.float64(3.0), 'left': {'feature': 'Pclass', 'threshold': np.float64(3.0), 'left': {'label': np.int64(1)}, 'right': {'label': np.int64(1)}}, 'right': {'feature': 'Fare', 'threshold': np.float64(23.35), 'left': {'label': np.int64(1)}, 'right': {'label': np.int64(0)}}}\n",
            "Фича Sex\n",
            "Порог 0.5\n",
            "Левая часть {'feature': 'Age', 'threshold': np.float64(6.5), 'left': {'feature': 'SibSp', 'threshold': np.float64(2.0), 'left': {'label': np.int64(1)}, 'right': {'feature': 'Parch', 'threshold': np.float64(2.0), 'left': {'label': np.int64(0)}, 'right': {'label': np.int64(0)}}}, 'right': {'feature': 'Pclass', 'threshold': np.float64(1.0), 'left': {'feature': 'Ticket', 'threshold': np.float64(163.5), 'left': {'label': np.int64(0)}, 'right': {'label': np.int64(1)}}, 'right': {'feature': 'Pclass', 'threshold': np.float64(1.0), 'left': {'label': np.int64(0)}, 'right': {'label': np.int64(0)}}}}\n",
            "Правая часть {'feature': 'Pclass', 'threshold': np.float64(2.0), 'left': {'feature': 'Age', 'threshold': np.float64(2.0), 'left': {'feature': 'Pclass', 'threshold': np.float64(1.5), 'left': {'label': np.int64(0)}, 'right': {'label': np.int64(1)}}, 'right': {'feature': 'Age', 'threshold': np.float64(2.0), 'left': {'label': np.int64(0)}, 'right': {'label': np.int64(1)}}}, 'right': {'feature': 'Pclass', 'threshold': np.float64(3.0), 'left': {'feature': 'Pclass', 'threshold': np.float64(3.0), 'left': {'label': np.int64(1)}, 'right': {'label': np.int64(1)}}, 'right': {'feature': 'Fare', 'threshold': np.float64(23.35), 'left': {'label': np.int64(1)}, 'right': {'label': np.int64(0)}}}}\n"
          ]
        },
        {
          "output_type": "stream",
          "name": "stderr",
          "text": [
            "/usr/local/lib/python3.11/dist-packages/numpy/_core/fromnumeric.py:57: FutureWarning: The behavior of Series.argsort in the presence of NA values is deprecated. In a future version, NA values will be ordered last instead of set to -1.\n",
            "  return bound(*args, **kwds)\n"
          ]
        }
      ]
    },
    {
      "cell_type": "code",
      "source": [
        "tree.predict(X_test, y_test) #глубина 3"
      ],
      "metadata": {
        "id": "q_yJhJ9TsuUQ",
        "colab": {
          "base_uri": "https://localhost:8080/"
        },
        "outputId": "088e9fcc-e5cd-4cc4-bf45-b15cd8e216e6"
      },
      "execution_count": 30,
      "outputs": [
        {
          "output_type": "stream",
          "name": "stdout",
          "text": [
            "Точность модели: 0.8379888268156425\n"
          ]
        },
        {
          "output_type": "execute_result",
          "data": {
            "text/plain": [
              "array([0, 1, 0, 0, 1, 0, 0, 1, 0, 1, 0, 0, 1, 0, 0, 1, 0, 0, 0, 0, 1, 0,\n",
              "       0, 1, 0, 0, 0, 0, 0, 0, 1, 0, 0, 1, 0, 0, 0, 1, 0, 0, 0, 1, 0, 0,\n",
              "       0, 0, 0, 0, 0, 1, 1, 0, 0, 0, 1, 1, 1, 0, 0, 1, 0, 1, 1, 0, 0, 0,\n",
              "       0, 1, 1, 0, 1, 0, 0, 0, 0, 0, 1, 0, 1, 0, 0, 0, 1, 1, 1, 0, 0, 0,\n",
              "       1, 1, 1, 0, 0, 1, 0, 1, 0, 0, 1, 1, 0, 0, 1, 1, 1, 1, 1, 0, 1, 0,\n",
              "       0, 1, 0, 0, 1, 0, 0, 0, 0, 1, 0, 0, 0, 0, 0, 1, 0, 1, 1, 0, 0, 0,\n",
              "       1, 0, 1, 1, 1, 1, 0, 0, 1, 1, 0, 0, 0, 1, 0, 0, 0, 1, 1, 1, 1, 1,\n",
              "       0, 0, 0, 1, 0, 1, 0, 0, 1, 0, 1, 1, 1, 0, 0, 0, 1, 0, 0, 1, 1, 0,\n",
              "       0, 0, 1])"
            ]
          },
          "metadata": {},
          "execution_count": 30
        }
      ]
    },
    {
      "cell_type": "code",
      "source": [
        "tree.predict(X_test, y_test) #глубина 4"
      ],
      "metadata": {
        "colab": {
          "base_uri": "https://localhost:8080/"
        },
        "id": "nyqouRaprb7Q",
        "outputId": "7377cc76-f7e4-4380-9cd3-07114a4e45ac"
      },
      "execution_count": 33,
      "outputs": [
        {
          "output_type": "stream",
          "name": "stdout",
          "text": [
            "Точность модели: 0.7877094972067039\n"
          ]
        },
        {
          "output_type": "execute_result",
          "data": {
            "text/plain": [
              "array([0, 1, 0, 0, 1, 0, 0, 1, 0, 1, 1, 0, 1, 0, 0, 1, 0, 0, 1, 0, 1, 0,\n",
              "       0, 1, 0, 0, 0, 0, 1, 0, 1, 1, 0, 1, 0, 0, 1, 1, 0, 1, 0, 1, 0, 0,\n",
              "       0, 0, 0, 0, 0, 1, 1, 0, 1, 0, 1, 1, 1, 0, 0, 1, 0, 1, 1, 0, 1, 0,\n",
              "       1, 1, 1, 0, 1, 0, 0, 0, 0, 0, 1, 1, 1, 0, 0, 0, 1, 1, 1, 0, 0, 0,\n",
              "       1, 1, 1, 0, 0, 1, 0, 1, 1, 0, 1, 1, 1, 1, 1, 1, 1, 1, 1, 0, 1, 0,\n",
              "       1, 1, 0, 0, 1, 1, 0, 0, 0, 1, 0, 0, 1, 0, 0, 1, 1, 1, 1, 0, 0, 1,\n",
              "       1, 0, 1, 1, 1, 1, 1, 1, 1, 1, 0, 0, 0, 1, 0, 1, 0, 1, 1, 1, 1, 1,\n",
              "       0, 0, 1, 1, 0, 1, 1, 0, 1, 0, 1, 1, 1, 0, 0, 0, 1, 0, 0, 1, 1, 0,\n",
              "       0, 0, 1])"
            ]
          },
          "metadata": {},
          "execution_count": 33
        }
      ]
    },
    {
      "cell_type": "markdown",
      "source": [
        "**RandomForest**"
      ],
      "metadata": {
        "id": "TJql8EYlu_Wk"
      }
    },
    {
      "cell_type": "code",
      "source": [
        "import random\n",
        "\n",
        "class RandomForest:\n",
        "    def __init__(self, n_trees=10, max_depth=None, sample_size=None):\n",
        "        self.n_trees = n_trees\n",
        "        self.max_depth = max_depth\n",
        "        self.sample_size = sample_size\n",
        "        self.trees = []\n",
        "\n",
        "    def fit(self, X, y):\n",
        "        self.trees = []\n",
        "        for _ in range(self.n_trees):\n",
        "            sample_indices = random.sample(range(len(X)), self.sample_size or len(X))\n",
        "            sample_X = X.iloc[sample_indices]\n",
        "            sample_y = y.iloc[sample_indices]\n",
        "\n",
        "            tree = DecisionTree(max_depth=self.max_depth)\n",
        "            tree.fit(sample_X, sample_y)\n",
        "            self.trees.append(tree)\n",
        "\n",
        "    def predict(self, X, y):\n",
        "        tree_predictions = [tree.predict(X, y) for tree in self.trees]\n",
        "        # Усреднение предсказаний деревьев (например, для классификации)\n",
        "        pred = np.array([max(set(preds), key=preds.count) for preds in zip(*tree_predictions)])\n",
        "        acc = accuracy_score(y, pred)\n",
        "        print(f'Точность модели: {acc}')\n",
        "        return pred\n"
      ],
      "metadata": {
        "id": "asbik4Muu7Oa"
      },
      "execution_count": 46,
      "outputs": []
    },
    {
      "cell_type": "code",
      "source": [
        "X_trainf, X_testf, y_trainf, y_testf = train_test_split(X, y, train_size = 0.8, random_state=3, stratify=y)"
      ],
      "metadata": {
        "id": "yl48ObPj1y9R"
      },
      "execution_count": 54,
      "outputs": []
    },
    {
      "cell_type": "code",
      "source": [
        "ftree = RandomForest(max_depth = 3)"
      ],
      "metadata": {
        "id": "aa7cXMAhrtg3"
      },
      "execution_count": 51,
      "outputs": []
    },
    {
      "cell_type": "code",
      "source": [
        "ftree.fit(X_trainf, y_trainf)"
      ],
      "metadata": {
        "colab": {
          "base_uri": "https://localhost:8080/"
        },
        "collapsed": true,
        "id": "N5v6tQSqxyIy",
        "outputId": "c906c1dc-4ab2-4f7a-a3de-a70fc51e7c97"
      },
      "execution_count": 55,
      "outputs": [
        {
          "output_type": "stream",
          "name": "stderr",
          "text": [
            "/usr/local/lib/python3.11/dist-packages/numpy/_core/fromnumeric.py:57: FutureWarning: The behavior of Series.argsort in the presence of NA values is deprecated. In a future version, NA values will be ordered last instead of set to -1.\n",
            "  return bound(*args, **kwds)\n",
            "/usr/local/lib/python3.11/dist-packages/numpy/_core/fromnumeric.py:57: FutureWarning: The behavior of Series.argsort in the presence of NA values is deprecated. In a future version, NA values will be ordered last instead of set to -1.\n",
            "  return bound(*args, **kwds)\n",
            "/usr/local/lib/python3.11/dist-packages/numpy/_core/fromnumeric.py:57: FutureWarning: The behavior of Series.argsort in the presence of NA values is deprecated. In a future version, NA values will be ordered last instead of set to -1.\n",
            "  return bound(*args, **kwds)\n"
          ]
        },
        {
          "output_type": "stream",
          "name": "stdout",
          "text": [
            "Фича Age\n",
            "Порог 5.5\n",
            "Левая часть {'label': np.int64(1)}\n",
            "Правая часть {'label': np.int64(0)}\n",
            "Фича Age\n",
            "Порог 27.0\n",
            "Левая часть {'label': np.int64(1)}\n",
            "Правая часть {'label': np.int64(1)}\n",
            "Фича Cabin\n",
            "Порог 34.5\n",
            "Левая часть {'feature': 'Age', 'threshold': np.float64(5.5), 'left': {'label': np.int64(1)}, 'right': {'label': np.int64(0)}}\n",
            "Правая часть {'feature': 'Age', 'threshold': np.float64(27.0), 'left': {'label': np.int64(1)}, 'right': {'label': np.int64(1)}}\n"
          ]
        },
        {
          "output_type": "stream",
          "name": "stderr",
          "text": [
            "/usr/local/lib/python3.11/dist-packages/numpy/_core/fromnumeric.py:57: FutureWarning: The behavior of Series.argsort in the presence of NA values is deprecated. In a future version, NA values will be ordered last instead of set to -1.\n",
            "  return bound(*args, **kwds)\n",
            "/usr/local/lib/python3.11/dist-packages/numpy/_core/fromnumeric.py:57: FutureWarning: The behavior of Series.argsort in the presence of NA values is deprecated. In a future version, NA values will be ordered last instead of set to -1.\n",
            "  return bound(*args, **kwds)\n",
            "/usr/local/lib/python3.11/dist-packages/numpy/_core/fromnumeric.py:57: FutureWarning: The behavior of Series.argsort in the presence of NA values is deprecated. In a future version, NA values will be ordered last instead of set to -1.\n",
            "  return bound(*args, **kwds)\n"
          ]
        },
        {
          "output_type": "stream",
          "name": "stdout",
          "text": [
            "Фича Cabin\n",
            "Порог 34.5\n",
            "Левая часть {'label': np.int64(0)}\n",
            "Правая часть {'label': np.int64(1)}\n"
          ]
        },
        {
          "output_type": "stream",
          "name": "stderr",
          "text": [
            "/usr/local/lib/python3.11/dist-packages/numpy/_core/fromnumeric.py:57: FutureWarning: The behavior of Series.argsort in the presence of NA values is deprecated. In a future version, NA values will be ordered last instead of set to -1.\n",
            "  return bound(*args, **kwds)\n"
          ]
        },
        {
          "output_type": "stream",
          "name": "stdout",
          "text": [
            "Фича Sex\n",
            "Порог 0.0\n",
            "Левая часть {'label': np.int64(0)}\n",
            "Правая часть {'label': np.int64(0)}\n",
            "Фича Sex\n",
            "Порог 0.0\n",
            "Левая часть {'feature': 'Cabin', 'threshold': np.float64(34.5), 'left': {'label': np.int64(0)}, 'right': {'label': np.int64(1)}}\n",
            "Правая часть {'feature': 'Sex', 'threshold': np.float64(0.0), 'left': {'label': np.int64(0)}, 'right': {'label': np.int64(0)}}\n",
            "Фича Sex\n",
            "Порог 0.0\n",
            "Левая часть {'feature': 'Cabin', 'threshold': np.float64(34.5), 'left': {'feature': 'Age', 'threshold': np.float64(5.5), 'left': {'label': np.int64(1)}, 'right': {'label': np.int64(0)}}, 'right': {'feature': 'Age', 'threshold': np.float64(27.0), 'left': {'label': np.int64(1)}, 'right': {'label': np.int64(1)}}}\n",
            "Правая часть {'feature': 'Sex', 'threshold': np.float64(0.0), 'left': {'feature': 'Cabin', 'threshold': np.float64(34.5), 'left': {'label': np.int64(0)}, 'right': {'label': np.int64(1)}}, 'right': {'feature': 'Sex', 'threshold': np.float64(0.0), 'left': {'label': np.int64(0)}, 'right': {'label': np.int64(0)}}}\n"
          ]
        },
        {
          "output_type": "stream",
          "name": "stderr",
          "text": [
            "/usr/local/lib/python3.11/dist-packages/numpy/_core/fromnumeric.py:57: FutureWarning: The behavior of Series.argsort in the presence of NA values is deprecated. In a future version, NA values will be ordered last instead of set to -1.\n",
            "  return bound(*args, **kwds)\n",
            "/usr/local/lib/python3.11/dist-packages/numpy/_core/fromnumeric.py:57: FutureWarning: The behavior of Series.argsort in the presence of NA values is deprecated. In a future version, NA values will be ordered last instead of set to -1.\n",
            "  return bound(*args, **kwds)\n"
          ]
        },
        {
          "output_type": "stream",
          "name": "stdout",
          "text": [
            "Фича SibSp\n",
            "Порог 2.0\n",
            "Левая часть {'label': np.int64(1)}\n",
            "Правая часть {'label': np.int64(0)}\n",
            "Фича Cabin\n",
            "Порог 33.0\n",
            "Левая часть {'label': np.int64(0)}\n",
            "Правая часть {'label': np.int64(0)}\n",
            "Фича Age\n",
            "Порог 6.5\n",
            "Левая часть {'feature': 'SibSp', 'threshold': np.float64(2.0), 'left': {'label': np.int64(1)}, 'right': {'label': np.int64(0)}}\n",
            "Правая часть {'feature': 'Cabin', 'threshold': np.float64(33.0), 'left': {'label': np.int64(0)}, 'right': {'label': np.int64(0)}}\n"
          ]
        },
        {
          "output_type": "stream",
          "name": "stderr",
          "text": [
            "/usr/local/lib/python3.11/dist-packages/numpy/_core/fromnumeric.py:57: FutureWarning: The behavior of Series.argsort in the presence of NA values is deprecated. In a future version, NA values will be ordered last instead of set to -1.\n",
            "  return bound(*args, **kwds)\n",
            "/usr/local/lib/python3.11/dist-packages/numpy/_core/fromnumeric.py:57: FutureWarning: The behavior of Series.argsort in the presence of NA values is deprecated. In a future version, NA values will be ordered last instead of set to -1.\n",
            "  return bound(*args, **kwds)\n"
          ]
        },
        {
          "output_type": "stream",
          "name": "stdout",
          "text": [
            "Фича Pclass\n",
            "Порог 3.0\n",
            "Левая часть {'label': np.int64(1)}\n",
            "Правая часть {'label': np.int64(0)}\n",
            "Фича Fare\n",
            "Порог 23.35\n",
            "Левая часть {'label': np.int64(1)}\n",
            "Правая часть {'label': np.int64(0)}\n",
            "Фича Pclass\n",
            "Порог 3.0\n",
            "Левая часть {'feature': 'Pclass', 'threshold': np.float64(3.0), 'left': {'label': np.int64(1)}, 'right': {'label': np.int64(0)}}\n",
            "Правая часть {'feature': 'Fare', 'threshold': np.float64(23.35), 'left': {'label': np.int64(1)}, 'right': {'label': np.int64(0)}}\n",
            "Фича Sex\n",
            "Порог 0.5\n",
            "Левая часть {'feature': 'Age', 'threshold': np.float64(6.5), 'left': {'feature': 'SibSp', 'threshold': np.float64(2.0), 'left': {'label': np.int64(1)}, 'right': {'label': np.int64(0)}}, 'right': {'feature': 'Cabin', 'threshold': np.float64(33.0), 'left': {'label': np.int64(0)}, 'right': {'label': np.int64(0)}}}\n",
            "Правая часть {'feature': 'Pclass', 'threshold': np.float64(3.0), 'left': {'feature': 'Pclass', 'threshold': np.float64(3.0), 'left': {'label': np.int64(1)}, 'right': {'label': np.int64(0)}}, 'right': {'feature': 'Fare', 'threshold': np.float64(23.35), 'left': {'label': np.int64(1)}, 'right': {'label': np.int64(0)}}}\n"
          ]
        },
        {
          "output_type": "stream",
          "name": "stderr",
          "text": [
            "/usr/local/lib/python3.11/dist-packages/numpy/_core/fromnumeric.py:57: FutureWarning: The behavior of Series.argsort in the presence of NA values is deprecated. In a future version, NA values will be ordered last instead of set to -1.\n",
            "  return bound(*args, **kwds)\n",
            "/usr/local/lib/python3.11/dist-packages/numpy/_core/fromnumeric.py:57: FutureWarning: The behavior of Series.argsort in the presence of NA values is deprecated. In a future version, NA values will be ordered last instead of set to -1.\n",
            "  return bound(*args, **kwds)\n",
            "/usr/local/lib/python3.11/dist-packages/numpy/_core/fromnumeric.py:57: FutureWarning: The behavior of Series.argsort in the presence of NA values is deprecated. In a future version, NA values will be ordered last instead of set to -1.\n",
            "  return bound(*args, **kwds)\n",
            "/usr/local/lib/python3.11/dist-packages/numpy/_core/fromnumeric.py:57: FutureWarning: The behavior of Series.argsort in the presence of NA values is deprecated. In a future version, NA values will be ordered last instead of set to -1.\n",
            "  return bound(*args, **kwds)\n"
          ]
        },
        {
          "output_type": "stream",
          "name": "stdout",
          "text": [
            "Фича Sex\n",
            "Порог 1.0\n",
            "Левая часть {'label': np.int64(0)}\n",
            "Правая часть {'label': np.int64(1)}\n",
            "Фича Pclass\n",
            "Порог 2.5\n",
            "Левая часть {'label': np.int64(1)}\n",
            "Правая часть {'label': np.int64(1)}\n",
            "Фича Sex\n",
            "Порог 1.0\n",
            "Левая часть {'feature': 'Sex', 'threshold': np.float64(1.0), 'left': {'label': np.int64(0)}, 'right': {'label': np.int64(1)}}\n",
            "Правая часть {'feature': 'Pclass', 'threshold': np.float64(2.5), 'left': {'label': np.int64(1)}, 'right': {'label': np.int64(1)}}\n"
          ]
        },
        {
          "output_type": "stream",
          "name": "stderr",
          "text": [
            "/usr/local/lib/python3.11/dist-packages/numpy/_core/fromnumeric.py:57: FutureWarning: The behavior of Series.argsort in the presence of NA values is deprecated. In a future version, NA values will be ordered last instead of set to -1.\n",
            "  return bound(*args, **kwds)\n",
            "/usr/local/lib/python3.11/dist-packages/numpy/_core/fromnumeric.py:57: FutureWarning: The behavior of Series.argsort in the presence of NA values is deprecated. In a future version, NA values will be ordered last instead of set to -1.\n",
            "  return bound(*args, **kwds)\n",
            "/usr/local/lib/python3.11/dist-packages/numpy/_core/fromnumeric.py:57: FutureWarning: The behavior of Series.argsort in the presence of NA values is deprecated. In a future version, NA values will be ordered last instead of set to -1.\n",
            "  return bound(*args, **kwds)\n",
            "/usr/local/lib/python3.11/dist-packages/numpy/_core/fromnumeric.py:57: FutureWarning: The behavior of Series.argsort in the presence of NA values is deprecated. In a future version, NA values will be ordered last instead of set to -1.\n",
            "  return bound(*args, **kwds)\n"
          ]
        },
        {
          "output_type": "stream",
          "name": "stdout",
          "text": [
            "Фича Age\n",
            "Порог 3.0\n",
            "Левая часть {'label': np.int64(1)}\n",
            "Правая часть {'label': np.int64(1)}\n",
            "Фича Fare\n",
            "Порог 23.35\n",
            "Левая часть {'label': np.int64(1)}\n",
            "Правая часть {'label': np.int64(1)}\n",
            "Фича Pclass\n",
            "Порог 2.5\n",
            "Левая часть {'feature': 'Age', 'threshold': np.float64(3.0), 'left': {'label': np.int64(1)}, 'right': {'label': np.int64(1)}}\n",
            "Правая часть {'feature': 'Fare', 'threshold': np.float64(23.35), 'left': {'label': np.int64(1)}, 'right': {'label': np.int64(1)}}\n",
            "Фича Sex\n",
            "Порог 1.0\n",
            "Левая часть {'feature': 'Sex', 'threshold': np.float64(1.0), 'left': {'feature': 'Sex', 'threshold': np.float64(1.0), 'left': {'label': np.int64(0)}, 'right': {'label': np.int64(1)}}, 'right': {'feature': 'Pclass', 'threshold': np.float64(2.5), 'left': {'label': np.int64(1)}, 'right': {'label': np.int64(1)}}}\n",
            "Правая часть {'feature': 'Pclass', 'threshold': np.float64(2.5), 'left': {'feature': 'Age', 'threshold': np.float64(3.0), 'left': {'label': np.int64(1)}, 'right': {'label': np.int64(1)}}, 'right': {'feature': 'Fare', 'threshold': np.float64(23.35), 'left': {'label': np.int64(1)}, 'right': {'label': np.int64(1)}}}\n"
          ]
        },
        {
          "output_type": "stream",
          "name": "stderr",
          "text": [
            "/usr/local/lib/python3.11/dist-packages/numpy/_core/fromnumeric.py:57: FutureWarning: The behavior of Series.argsort in the presence of NA values is deprecated. In a future version, NA values will be ordered last instead of set to -1.\n",
            "  return bound(*args, **kwds)\n",
            "/usr/local/lib/python3.11/dist-packages/numpy/_core/fromnumeric.py:57: FutureWarning: The behavior of Series.argsort in the presence of NA values is deprecated. In a future version, NA values will be ordered last instead of set to -1.\n",
            "  return bound(*args, **kwds)\n"
          ]
        },
        {
          "output_type": "stream",
          "name": "stdout",
          "text": [
            "Фича SibSp\n",
            "Порог 2.0\n",
            "Левая часть {'label': np.int64(1)}\n",
            "Правая часть {'label': np.int64(0)}\n",
            "Фича Cabin\n",
            "Порог 33.0\n",
            "Левая часть {'label': np.int64(0)}\n",
            "Правая часть {'label': np.int64(0)}\n",
            "Фича Age\n",
            "Порог 6.5\n",
            "Левая часть {'feature': 'SibSp', 'threshold': np.float64(2.0), 'left': {'label': np.int64(1)}, 'right': {'label': np.int64(0)}}\n",
            "Правая часть {'feature': 'Cabin', 'threshold': np.float64(33.0), 'left': {'label': np.int64(0)}, 'right': {'label': np.int64(0)}}\n"
          ]
        },
        {
          "output_type": "stream",
          "name": "stderr",
          "text": [
            "/usr/local/lib/python3.11/dist-packages/numpy/_core/fromnumeric.py:57: FutureWarning: The behavior of Series.argsort in the presence of NA values is deprecated. In a future version, NA values will be ordered last instead of set to -1.\n",
            "  return bound(*args, **kwds)\n",
            "/usr/local/lib/python3.11/dist-packages/numpy/_core/fromnumeric.py:57: FutureWarning: The behavior of Series.argsort in the presence of NA values is deprecated. In a future version, NA values will be ordered last instead of set to -1.\n",
            "  return bound(*args, **kwds)\n"
          ]
        },
        {
          "output_type": "stream",
          "name": "stdout",
          "text": [
            "Фича Age\n",
            "Порог 2.0\n",
            "Левая часть {'label': np.int64(1)}\n",
            "Правая часть {'label': np.int64(1)}\n",
            "Фича Pclass\n",
            "Порог 2.5\n",
            "Левая часть {'label': np.int64(1)}\n",
            "Правая часть {'label': np.int64(1)}\n",
            "Фича Pclass\n",
            "Порог 2.0\n",
            "Левая часть {'feature': 'Age', 'threshold': np.float64(2.0), 'left': {'label': np.int64(1)}, 'right': {'label': np.int64(1)}}\n",
            "Правая часть {'feature': 'Pclass', 'threshold': np.float64(2.5), 'left': {'label': np.int64(1)}, 'right': {'label': np.int64(1)}}\n",
            "Фича Sex\n",
            "Порог 0.5\n",
            "Левая часть {'feature': 'Age', 'threshold': np.float64(6.5), 'left': {'feature': 'SibSp', 'threshold': np.float64(2.0), 'left': {'label': np.int64(1)}, 'right': {'label': np.int64(0)}}, 'right': {'feature': 'Cabin', 'threshold': np.float64(33.0), 'left': {'label': np.int64(0)}, 'right': {'label': np.int64(0)}}}\n",
            "Правая часть {'feature': 'Pclass', 'threshold': np.float64(2.0), 'left': {'feature': 'Age', 'threshold': np.float64(2.0), 'left': {'label': np.int64(1)}, 'right': {'label': np.int64(1)}}, 'right': {'feature': 'Pclass', 'threshold': np.float64(2.5), 'left': {'label': np.int64(1)}, 'right': {'label': np.int64(1)}}}\n"
          ]
        },
        {
          "output_type": "stream",
          "name": "stderr",
          "text": [
            "/usr/local/lib/python3.11/dist-packages/numpy/_core/fromnumeric.py:57: FutureWarning: The behavior of Series.argsort in the presence of NA values is deprecated. In a future version, NA values will be ordered last instead of set to -1.\n",
            "  return bound(*args, **kwds)\n",
            "/usr/local/lib/python3.11/dist-packages/numpy/_core/fromnumeric.py:57: FutureWarning: The behavior of Series.argsort in the presence of NA values is deprecated. In a future version, NA values will be ordered last instead of set to -1.\n",
            "  return bound(*args, **kwds)\n",
            "/usr/local/lib/python3.11/dist-packages/numpy/_core/fromnumeric.py:57: FutureWarning: The behavior of Series.argsort in the presence of NA values is deprecated. In a future version, NA values will be ordered last instead of set to -1.\n",
            "  return bound(*args, **kwds)\n"
          ]
        },
        {
          "output_type": "stream",
          "name": "stdout",
          "text": [
            "Фича SibSp\n",
            "Порог 2.0\n",
            "Левая часть {'label': np.int64(1)}\n",
            "Правая часть {'label': np.int64(0)}\n",
            "Фича Cabin\n",
            "Порог 33.0\n",
            "Левая часть {'label': np.int64(0)}\n",
            "Правая часть {'label': np.int64(1)}\n",
            "Фича Age\n",
            "Порог 6.5\n",
            "Левая часть {'feature': 'SibSp', 'threshold': np.float64(2.0), 'left': {'label': np.int64(1)}, 'right': {'label': np.int64(0)}}\n",
            "Правая часть {'feature': 'Cabin', 'threshold': np.float64(33.0), 'left': {'label': np.int64(0)}, 'right': {'label': np.int64(1)}}\n"
          ]
        },
        {
          "output_type": "stream",
          "name": "stderr",
          "text": [
            "/usr/local/lib/python3.11/dist-packages/numpy/_core/fromnumeric.py:57: FutureWarning: The behavior of Series.argsort in the presence of NA values is deprecated. In a future version, NA values will be ordered last instead of set to -1.\n",
            "  return bound(*args, **kwds)\n",
            "/usr/local/lib/python3.11/dist-packages/numpy/_core/fromnumeric.py:57: FutureWarning: The behavior of Series.argsort in the presence of NA values is deprecated. In a future version, NA values will be ordered last instead of set to -1.\n",
            "  return bound(*args, **kwds)\n"
          ]
        },
        {
          "output_type": "stream",
          "name": "stdout",
          "text": [
            "Фича Age\n",
            "Порог 6.5\n",
            "Левая часть {'label': np.int64(1)}\n",
            "Правая часть {'label': np.int64(0)}\n"
          ]
        },
        {
          "output_type": "stream",
          "name": "stderr",
          "text": [
            "/usr/local/lib/python3.11/dist-packages/numpy/_core/fromnumeric.py:57: FutureWarning: The behavior of Series.argsort in the presence of NA values is deprecated. In a future version, NA values will be ordered last instead of set to -1.\n",
            "  return bound(*args, **kwds)\n"
          ]
        },
        {
          "output_type": "stream",
          "name": "stdout",
          "text": [
            "Фича Sex\n",
            "Порог 0.0\n",
            "Левая часть {'label': np.int64(0)}\n",
            "Правая часть {'label': np.int64(0)}\n",
            "Фича Sex\n",
            "Порог 0.0\n",
            "Левая часть {'feature': 'Age', 'threshold': np.float64(6.5), 'left': {'label': np.int64(1)}, 'right': {'label': np.int64(0)}}\n",
            "Правая часть {'feature': 'Sex', 'threshold': np.float64(0.0), 'left': {'label': np.int64(0)}, 'right': {'label': np.int64(0)}}\n",
            "Фича Sex\n",
            "Порог 0.0\n",
            "Левая часть {'feature': 'Age', 'threshold': np.float64(6.5), 'left': {'feature': 'SibSp', 'threshold': np.float64(2.0), 'left': {'label': np.int64(1)}, 'right': {'label': np.int64(0)}}, 'right': {'feature': 'Cabin', 'threshold': np.float64(33.0), 'left': {'label': np.int64(0)}, 'right': {'label': np.int64(1)}}}\n",
            "Правая часть {'feature': 'Sex', 'threshold': np.float64(0.0), 'left': {'feature': 'Age', 'threshold': np.float64(6.5), 'left': {'label': np.int64(1)}, 'right': {'label': np.int64(0)}}, 'right': {'feature': 'Sex', 'threshold': np.float64(0.0), 'left': {'label': np.int64(0)}, 'right': {'label': np.int64(0)}}}\n"
          ]
        },
        {
          "output_type": "stream",
          "name": "stderr",
          "text": [
            "/usr/local/lib/python3.11/dist-packages/numpy/_core/fromnumeric.py:57: FutureWarning: The behavior of Series.argsort in the presence of NA values is deprecated. In a future version, NA values will be ordered last instead of set to -1.\n",
            "  return bound(*args, **kwds)\n",
            "/usr/local/lib/python3.11/dist-packages/numpy/_core/fromnumeric.py:57: FutureWarning: The behavior of Series.argsort in the presence of NA values is deprecated. In a future version, NA values will be ordered last instead of set to -1.\n",
            "  return bound(*args, **kwds)\n"
          ]
        },
        {
          "output_type": "stream",
          "name": "stdout",
          "text": [
            "Фича SibSp\n",
            "Порог 2.0\n",
            "Левая часть {'label': np.int64(1)}\n",
            "Правая часть {'label': np.int64(0)}\n",
            "Фича Cabin\n",
            "Порог 33.0\n",
            "Левая часть {'label': np.int64(0)}\n",
            "Правая часть {'label': np.int64(1)}\n",
            "Фича Age\n",
            "Порог 6.5\n",
            "Левая часть {'feature': 'SibSp', 'threshold': np.float64(2.0), 'left': {'label': np.int64(1)}, 'right': {'label': np.int64(0)}}\n",
            "Правая часть {'feature': 'Cabin', 'threshold': np.float64(33.0), 'left': {'label': np.int64(0)}, 'right': {'label': np.int64(1)}}\n"
          ]
        },
        {
          "output_type": "stream",
          "name": "stderr",
          "text": [
            "/usr/local/lib/python3.11/dist-packages/numpy/_core/fromnumeric.py:57: FutureWarning: The behavior of Series.argsort in the presence of NA values is deprecated. In a future version, NA values will be ordered last instead of set to -1.\n",
            "  return bound(*args, **kwds)\n",
            "/usr/local/lib/python3.11/dist-packages/numpy/_core/fromnumeric.py:57: FutureWarning: The behavior of Series.argsort in the presence of NA values is deprecated. In a future version, NA values will be ordered last instead of set to -1.\n",
            "  return bound(*args, **kwds)\n"
          ]
        },
        {
          "output_type": "stream",
          "name": "stdout",
          "text": [
            "Фича Pclass\n",
            "Порог 3.0\n",
            "Левая часть {'label': np.int64(1)}\n",
            "Правая часть {'label': np.int64(0)}\n",
            "Фича Fare\n",
            "Порог 23.35\n",
            "Левая часть {'label': np.int64(0)}\n",
            "Правая часть {'label': np.int64(0)}\n",
            "Фича Pclass\n",
            "Порог 3.0\n",
            "Левая часть {'feature': 'Pclass', 'threshold': np.float64(3.0), 'left': {'label': np.int64(1)}, 'right': {'label': np.int64(0)}}\n",
            "Правая часть {'feature': 'Fare', 'threshold': np.float64(23.35), 'left': {'label': np.int64(0)}, 'right': {'label': np.int64(0)}}\n",
            "Фича Sex\n",
            "Порог 0.5\n",
            "Левая часть {'feature': 'Age', 'threshold': np.float64(6.5), 'left': {'feature': 'SibSp', 'threshold': np.float64(2.0), 'left': {'label': np.int64(1)}, 'right': {'label': np.int64(0)}}, 'right': {'feature': 'Cabin', 'threshold': np.float64(33.0), 'left': {'label': np.int64(0)}, 'right': {'label': np.int64(1)}}}\n",
            "Правая часть {'feature': 'Pclass', 'threshold': np.float64(3.0), 'left': {'feature': 'Pclass', 'threshold': np.float64(3.0), 'left': {'label': np.int64(1)}, 'right': {'label': np.int64(0)}}, 'right': {'feature': 'Fare', 'threshold': np.float64(23.35), 'left': {'label': np.int64(0)}, 'right': {'label': np.int64(0)}}}\n"
          ]
        },
        {
          "output_type": "stream",
          "name": "stderr",
          "text": [
            "/usr/local/lib/python3.11/dist-packages/numpy/_core/fromnumeric.py:57: FutureWarning: The behavior of Series.argsort in the presence of NA values is deprecated. In a future version, NA values will be ordered last instead of set to -1.\n",
            "  return bound(*args, **kwds)\n",
            "/usr/local/lib/python3.11/dist-packages/numpy/_core/fromnumeric.py:57: FutureWarning: The behavior of Series.argsort in the presence of NA values is deprecated. In a future version, NA values will be ordered last instead of set to -1.\n",
            "  return bound(*args, **kwds)\n",
            "/usr/local/lib/python3.11/dist-packages/numpy/_core/fromnumeric.py:57: FutureWarning: The behavior of Series.argsort in the presence of NA values is deprecated. In a future version, NA values will be ordered last instead of set to -1.\n",
            "  return bound(*args, **kwds)\n"
          ]
        },
        {
          "output_type": "stream",
          "name": "stdout",
          "text": [
            "Фича SibSp\n",
            "Порог 2.0\n",
            "Левая часть {'label': np.int64(1)}\n",
            "Правая часть {'label': np.int64(0)}\n",
            "Фича Cabin\n",
            "Порог 33.0\n",
            "Левая часть {'label': np.int64(0)}\n",
            "Правая часть {'label': np.int64(1)}\n",
            "Фича Age\n",
            "Порог 6.5\n",
            "Левая часть {'feature': 'SibSp', 'threshold': np.float64(2.0), 'left': {'label': np.int64(1)}, 'right': {'label': np.int64(0)}}\n",
            "Правая часть {'feature': 'Cabin', 'threshold': np.float64(33.0), 'left': {'label': np.int64(0)}, 'right': {'label': np.int64(1)}}\n"
          ]
        },
        {
          "output_type": "stream",
          "name": "stderr",
          "text": [
            "/usr/local/lib/python3.11/dist-packages/numpy/_core/fromnumeric.py:57: FutureWarning: The behavior of Series.argsort in the presence of NA values is deprecated. In a future version, NA values will be ordered last instead of set to -1.\n",
            "  return bound(*args, **kwds)\n",
            "/usr/local/lib/python3.11/dist-packages/numpy/_core/fromnumeric.py:57: FutureWarning: The behavior of Series.argsort in the presence of NA values is deprecated. In a future version, NA values will be ordered last instead of set to -1.\n",
            "  return bound(*args, **kwds)\n"
          ]
        },
        {
          "output_type": "stream",
          "name": "stdout",
          "text": [
            "Фича Pclass\n",
            "Порог 3.0\n",
            "Левая часть {'label': np.int64(1)}\n",
            "Правая часть {'label': np.int64(1)}\n",
            "Фича Fare\n",
            "Порог 23.35\n",
            "Левая часть {'label': np.int64(1)}\n",
            "Правая часть {'label': np.int64(0)}\n",
            "Фича Pclass\n",
            "Порог 3.0\n",
            "Левая часть {'feature': 'Pclass', 'threshold': np.float64(3.0), 'left': {'label': np.int64(1)}, 'right': {'label': np.int64(1)}}\n",
            "Правая часть {'feature': 'Fare', 'threshold': np.float64(23.35), 'left': {'label': np.int64(1)}, 'right': {'label': np.int64(0)}}\n",
            "Фича Sex\n",
            "Порог 0.5\n",
            "Левая часть {'feature': 'Age', 'threshold': np.float64(6.5), 'left': {'feature': 'SibSp', 'threshold': np.float64(2.0), 'left': {'label': np.int64(1)}, 'right': {'label': np.int64(0)}}, 'right': {'feature': 'Cabin', 'threshold': np.float64(33.0), 'left': {'label': np.int64(0)}, 'right': {'label': np.int64(1)}}}\n",
            "Правая часть {'feature': 'Pclass', 'threshold': np.float64(3.0), 'left': {'feature': 'Pclass', 'threshold': np.float64(3.0), 'left': {'label': np.int64(1)}, 'right': {'label': np.int64(1)}}, 'right': {'feature': 'Fare', 'threshold': np.float64(23.35), 'left': {'label': np.int64(1)}, 'right': {'label': np.int64(0)}}}\n"
          ]
        },
        {
          "output_type": "stream",
          "name": "stderr",
          "text": [
            "/usr/local/lib/python3.11/dist-packages/numpy/_core/fromnumeric.py:57: FutureWarning: The behavior of Series.argsort in the presence of NA values is deprecated. In a future version, NA values will be ordered last instead of set to -1.\n",
            "  return bound(*args, **kwds)\n",
            "/usr/local/lib/python3.11/dist-packages/numpy/_core/fromnumeric.py:57: FutureWarning: The behavior of Series.argsort in the presence of NA values is deprecated. In a future version, NA values will be ordered last instead of set to -1.\n",
            "  return bound(*args, **kwds)\n",
            "/usr/local/lib/python3.11/dist-packages/numpy/_core/fromnumeric.py:57: FutureWarning: The behavior of Series.argsort in the presence of NA values is deprecated. In a future version, NA values will be ordered last instead of set to -1.\n",
            "  return bound(*args, **kwds)\n",
            "/usr/local/lib/python3.11/dist-packages/numpy/_core/fromnumeric.py:57: FutureWarning: The behavior of Series.argsort in the presence of NA values is deprecated. In a future version, NA values will be ordered last instead of set to -1.\n",
            "  return bound(*args, **kwds)\n"
          ]
        },
        {
          "output_type": "stream",
          "name": "stdout",
          "text": [
            "Фича Parch\n",
            "Порог 0.0\n",
            "Левая часть {'label': np.int64(0)}\n",
            "Правая часть {'label': np.int64(0)}\n",
            "Фича Age\n",
            "Порог 27.0\n",
            "Левая часть {'label': np.int64(1)}\n",
            "Правая часть {'label': np.int64(0)}\n",
            "Фича Cabin\n",
            "Порог 34.5\n",
            "Левая часть {'feature': 'Parch', 'threshold': np.float64(0.0), 'left': {'label': np.int64(0)}, 'right': {'label': np.int64(0)}}\n",
            "Правая часть {'feature': 'Age', 'threshold': np.float64(27.0), 'left': {'label': np.int64(1)}, 'right': {'label': np.int64(0)}}\n"
          ]
        },
        {
          "output_type": "stream",
          "name": "stderr",
          "text": [
            "/usr/local/lib/python3.11/dist-packages/numpy/_core/fromnumeric.py:57: FutureWarning: The behavior of Series.argsort in the presence of NA values is deprecated. In a future version, NA values will be ordered last instead of set to -1.\n",
            "  return bound(*args, **kwds)\n",
            "/usr/local/lib/python3.11/dist-packages/numpy/_core/fromnumeric.py:57: FutureWarning: The behavior of Series.argsort in the presence of NA values is deprecated. In a future version, NA values will be ordered last instead of set to -1.\n",
            "  return bound(*args, **kwds)\n",
            "/usr/local/lib/python3.11/dist-packages/numpy/_core/fromnumeric.py:57: FutureWarning: The behavior of Series.argsort in the presence of NA values is deprecated. In a future version, NA values will be ordered last instead of set to -1.\n",
            "  return bound(*args, **kwds)\n"
          ]
        },
        {
          "output_type": "stream",
          "name": "stdout",
          "text": [
            "Фича Cabin\n",
            "Порог 34.5\n",
            "Левая часть {'label': np.int64(0)}\n",
            "Правая часть {'label': np.int64(0)}\n"
          ]
        },
        {
          "output_type": "stream",
          "name": "stderr",
          "text": [
            "/usr/local/lib/python3.11/dist-packages/numpy/_core/fromnumeric.py:57: FutureWarning: The behavior of Series.argsort in the presence of NA values is deprecated. In a future version, NA values will be ordered last instead of set to -1.\n",
            "  return bound(*args, **kwds)\n"
          ]
        },
        {
          "output_type": "stream",
          "name": "stdout",
          "text": [
            "Фича Sex\n",
            "Порог 0.0\n",
            "Левая часть {'label': np.int64(0)}\n",
            "Правая часть {'label': np.int64(0)}\n",
            "Фича Sex\n",
            "Порог 0.0\n",
            "Левая часть {'feature': 'Cabin', 'threshold': np.float64(34.5), 'left': {'label': np.int64(0)}, 'right': {'label': np.int64(0)}}\n",
            "Правая часть {'feature': 'Sex', 'threshold': np.float64(0.0), 'left': {'label': np.int64(0)}, 'right': {'label': np.int64(0)}}\n",
            "Фича Sex\n",
            "Порог 0.0\n",
            "Левая часть {'feature': 'Cabin', 'threshold': np.float64(34.5), 'left': {'feature': 'Parch', 'threshold': np.float64(0.0), 'left': {'label': np.int64(0)}, 'right': {'label': np.int64(0)}}, 'right': {'feature': 'Age', 'threshold': np.float64(27.0), 'left': {'label': np.int64(1)}, 'right': {'label': np.int64(0)}}}\n",
            "Правая часть {'feature': 'Sex', 'threshold': np.float64(0.0), 'left': {'feature': 'Cabin', 'threshold': np.float64(34.5), 'left': {'label': np.int64(0)}, 'right': {'label': np.int64(0)}}, 'right': {'feature': 'Sex', 'threshold': np.float64(0.0), 'left': {'label': np.int64(0)}, 'right': {'label': np.int64(0)}}}\n"
          ]
        },
        {
          "output_type": "stream",
          "name": "stderr",
          "text": [
            "/usr/local/lib/python3.11/dist-packages/numpy/_core/fromnumeric.py:57: FutureWarning: The behavior of Series.argsort in the presence of NA values is deprecated. In a future version, NA values will be ordered last instead of set to -1.\n",
            "  return bound(*args, **kwds)\n",
            "/usr/local/lib/python3.11/dist-packages/numpy/_core/fromnumeric.py:57: FutureWarning: The behavior of Series.argsort in the presence of NA values is deprecated. In a future version, NA values will be ordered last instead of set to -1.\n",
            "  return bound(*args, **kwds)\n"
          ]
        },
        {
          "output_type": "stream",
          "name": "stdout",
          "text": [
            "Фича SibSp\n",
            "Порог 2.0\n",
            "Левая часть {'label': np.int64(1)}\n",
            "Правая часть {'label': np.int64(1)}\n",
            "Фича Cabin\n",
            "Порог 33.0\n",
            "Левая часть {'label': np.int64(0)}\n",
            "Правая часть {'label': np.int64(1)}\n",
            "Фича Age\n",
            "Порог 6.5\n",
            "Левая часть {'feature': 'SibSp', 'threshold': np.float64(2.0), 'left': {'label': np.int64(1)}, 'right': {'label': np.int64(1)}}\n",
            "Правая часть {'feature': 'Cabin', 'threshold': np.float64(33.0), 'left': {'label': np.int64(0)}, 'right': {'label': np.int64(1)}}\n"
          ]
        },
        {
          "output_type": "stream",
          "name": "stderr",
          "text": [
            "/usr/local/lib/python3.11/dist-packages/numpy/_core/fromnumeric.py:57: FutureWarning: The behavior of Series.argsort in the presence of NA values is deprecated. In a future version, NA values will be ordered last instead of set to -1.\n",
            "  return bound(*args, **kwds)\n",
            "/usr/local/lib/python3.11/dist-packages/numpy/_core/fromnumeric.py:57: FutureWarning: The behavior of Series.argsort in the presence of NA values is deprecated. In a future version, NA values will be ordered last instead of set to -1.\n",
            "  return bound(*args, **kwds)\n"
          ]
        },
        {
          "output_type": "stream",
          "name": "stdout",
          "text": [
            "Фича Age\n",
            "Порог 6.5\n",
            "Левая часть {'label': np.int64(1)}\n",
            "Правая часть {'label': np.int64(0)}\n"
          ]
        },
        {
          "output_type": "stream",
          "name": "stderr",
          "text": [
            "/usr/local/lib/python3.11/dist-packages/numpy/_core/fromnumeric.py:57: FutureWarning: The behavior of Series.argsort in the presence of NA values is deprecated. In a future version, NA values will be ordered last instead of set to -1.\n",
            "  return bound(*args, **kwds)\n"
          ]
        },
        {
          "output_type": "stream",
          "name": "stdout",
          "text": [
            "Фича Sex\n",
            "Порог 0.0\n",
            "Левая часть {'label': np.int64(0)}\n",
            "Правая часть {'label': np.int64(0)}\n",
            "Фича Sex\n",
            "Порог 0.0\n",
            "Левая часть {'feature': 'Age', 'threshold': np.float64(6.5), 'left': {'label': np.int64(1)}, 'right': {'label': np.int64(0)}}\n",
            "Правая часть {'feature': 'Sex', 'threshold': np.float64(0.0), 'left': {'label': np.int64(0)}, 'right': {'label': np.int64(0)}}\n",
            "Фича Sex\n",
            "Порог 0.0\n",
            "Левая часть {'feature': 'Age', 'threshold': np.float64(6.5), 'left': {'feature': 'SibSp', 'threshold': np.float64(2.0), 'left': {'label': np.int64(1)}, 'right': {'label': np.int64(1)}}, 'right': {'feature': 'Cabin', 'threshold': np.float64(33.0), 'left': {'label': np.int64(0)}, 'right': {'label': np.int64(1)}}}\n",
            "Правая часть {'feature': 'Sex', 'threshold': np.float64(0.0), 'left': {'feature': 'Age', 'threshold': np.float64(6.5), 'left': {'label': np.int64(1)}, 'right': {'label': np.int64(0)}}, 'right': {'feature': 'Sex', 'threshold': np.float64(0.0), 'left': {'label': np.int64(0)}, 'right': {'label': np.int64(0)}}}\n"
          ]
        },
        {
          "output_type": "stream",
          "name": "stderr",
          "text": [
            "/usr/local/lib/python3.11/dist-packages/numpy/_core/fromnumeric.py:57: FutureWarning: The behavior of Series.argsort in the presence of NA values is deprecated. In a future version, NA values will be ordered last instead of set to -1.\n",
            "  return bound(*args, **kwds)\n",
            "/usr/local/lib/python3.11/dist-packages/numpy/_core/fromnumeric.py:57: FutureWarning: The behavior of Series.argsort in the presence of NA values is deprecated. In a future version, NA values will be ordered last instead of set to -1.\n",
            "  return bound(*args, **kwds)\n",
            "/usr/local/lib/python3.11/dist-packages/numpy/_core/fromnumeric.py:57: FutureWarning: The behavior of Series.argsort in the presence of NA values is deprecated. In a future version, NA values will be ordered last instead of set to -1.\n",
            "  return bound(*args, **kwds)\n"
          ]
        },
        {
          "output_type": "stream",
          "name": "stdout",
          "text": [
            "Фича Sex\n",
            "Порог 1.0\n",
            "Левая часть {'label': np.int64(1)}\n",
            "Правая часть {'label': np.int64(1)}\n",
            "Фича Pclass\n",
            "Порог 3.0\n",
            "Левая часть {'label': np.int64(1)}\n",
            "Правая часть {'label': np.int64(0)}\n",
            "Фича Sex\n",
            "Порог 1.0\n",
            "Левая часть {'feature': 'Sex', 'threshold': np.float64(1.0), 'left': {'label': np.int64(1)}, 'right': {'label': np.int64(1)}}\n",
            "Правая часть {'feature': 'Pclass', 'threshold': np.float64(3.0), 'left': {'label': np.int64(1)}, 'right': {'label': np.int64(0)}}\n"
          ]
        },
        {
          "output_type": "stream",
          "name": "stderr",
          "text": [
            "/usr/local/lib/python3.11/dist-packages/numpy/_core/fromnumeric.py:57: FutureWarning: The behavior of Series.argsort in the presence of NA values is deprecated. In a future version, NA values will be ordered last instead of set to -1.\n",
            "  return bound(*args, **kwds)\n",
            "/usr/local/lib/python3.11/dist-packages/numpy/_core/fromnumeric.py:57: FutureWarning: The behavior of Series.argsort in the presence of NA values is deprecated. In a future version, NA values will be ordered last instead of set to -1.\n",
            "  return bound(*args, **kwds)\n",
            "/usr/local/lib/python3.11/dist-packages/numpy/_core/fromnumeric.py:57: FutureWarning: The behavior of Series.argsort in the presence of NA values is deprecated. In a future version, NA values will be ordered last instead of set to -1.\n",
            "  return bound(*args, **kwds)\n",
            "/usr/local/lib/python3.11/dist-packages/numpy/_core/fromnumeric.py:57: FutureWarning: The behavior of Series.argsort in the presence of NA values is deprecated. In a future version, NA values will be ordered last instead of set to -1.\n",
            "  return bound(*args, **kwds)\n"
          ]
        },
        {
          "output_type": "stream",
          "name": "stdout",
          "text": [
            "Фича Pclass\n",
            "Порог 3.0\n",
            "Левая часть {'label': np.int64(1)}\n",
            "Правая часть {'label': np.int64(0)}\n",
            "Фича Fare\n",
            "Порог 23.35\n",
            "Левая часть {'label': np.int64(0)}\n",
            "Правая часть {'label': np.int64(0)}\n",
            "Фича Pclass\n",
            "Порог 3.0\n",
            "Левая часть {'feature': 'Pclass', 'threshold': np.float64(3.0), 'left': {'label': np.int64(1)}, 'right': {'label': np.int64(0)}}\n",
            "Правая часть {'feature': 'Fare', 'threshold': np.float64(23.35), 'left': {'label': np.int64(0)}, 'right': {'label': np.int64(0)}}\n",
            "Фича Sex\n",
            "Порог 1.0\n",
            "Левая часть {'feature': 'Sex', 'threshold': np.float64(1.0), 'left': {'feature': 'Sex', 'threshold': np.float64(1.0), 'left': {'label': np.int64(1)}, 'right': {'label': np.int64(1)}}, 'right': {'feature': 'Pclass', 'threshold': np.float64(3.0), 'left': {'label': np.int64(1)}, 'right': {'label': np.int64(0)}}}\n",
            "Правая часть {'feature': 'Pclass', 'threshold': np.float64(3.0), 'left': {'feature': 'Pclass', 'threshold': np.float64(3.0), 'left': {'label': np.int64(1)}, 'right': {'label': np.int64(0)}}, 'right': {'feature': 'Fare', 'threshold': np.float64(23.35), 'left': {'label': np.int64(0)}, 'right': {'label': np.int64(0)}}}\n"
          ]
        }
      ]
    },
    {
      "cell_type": "code",
      "source": [
        "ftree.predict(X_testf, y_testf)"
      ],
      "metadata": {
        "colab": {
          "base_uri": "https://localhost:8080/"
        },
        "id": "qkny1uWPxyZJ",
        "outputId": "7ccc000f-98b6-437e-ac79-f788a44b35fb"
      },
      "execution_count": 56,
      "outputs": [
        {
          "output_type": "stream",
          "name": "stdout",
          "text": [
            "Точность модели: 0.5977653631284916\n"
          ]
        },
        {
          "output_type": "execute_result",
          "data": {
            "text/plain": [
              "array([0, 0, 0, 0, 0, 0, 0, 0, 0, 0, 0, 0, 0, 0, 0, 0, 0, 0, 1, 0, 0, 0,\n",
              "       0, 0, 0, 0, 0, 0, 1, 0, 0, 1, 0, 0, 0, 0, 0, 0, 0, 1, 0, 0, 0, 0,\n",
              "       0, 0, 0, 0, 0, 0, 0, 0, 0, 0, 0, 0, 0, 0, 0, 0, 0, 0, 0, 0, 1, 0,\n",
              "       1, 0, 0, 0, 0, 0, 0, 0, 0, 0, 0, 1, 0, 0, 0, 0, 0, 0, 0, 0, 0, 0,\n",
              "       0, 0, 0, 0, 0, 0, 0, 0, 1, 0, 0, 0, 1, 0, 0, 0, 0, 1, 0, 0, 0, 0,\n",
              "       1, 0, 0, 0, 0, 1, 0, 0, 0, 0, 0, 0, 1, 0, 0, 0, 1, 0, 0, 0, 0, 1,\n",
              "       1, 0, 0, 0, 0, 0, 1, 1, 0, 0, 0, 0, 0, 0, 0, 1, 0, 0, 0, 0, 0, 0,\n",
              "       0, 0, 1, 0, 0, 0, 1, 0, 0, 0, 0, 0, 0, 0, 0, 0, 0, 0, 0, 0, 0, 0,\n",
              "       0, 0, 0])"
            ]
          },
          "metadata": {},
          "execution_count": 56
        }
      ]
    }
  ]
}