{
  "nbformat": 4,
  "nbformat_minor": 0,
  "metadata": {
    "colab": {
      "provenance": []
    },
    "kernelspec": {
      "name": "python3",
      "display_name": "Python 3"
    },
    "language_info": {
      "name": "python"
    }
  },
  "cells": [
    {
      "cell_type": "code",
      "execution_count": 2,
      "metadata": {
        "id": "nzhdK5O-PH8V"
      },
      "outputs": [],
      "source": [
        "import numpy as np\n",
        "from scipy.special import perm, comb, factorial"
      ]
    },
    {
      "cell_type": "markdown",
      "source": [
        "1. Из 1000 собранных на заводе телевизоров 5 штук бракованных.\n",
        "Эксперт проверяет один наугад выбранный телевизор из этой 1000. Найдите вероятность того, что проверяемый телевизор\n",
        "окажется бракованным."
      ],
      "metadata": {
        "id": "syTlehcDQOlg"
      }
    },
    {
      "cell_type": "code",
      "source": [
        "n = 1000\n",
        "k = 5\n",
        "print(f'Вероятность того, что проверяемый телевизор окажется бракованным: {k/n*100}%')"
      ],
      "metadata": {
        "colab": {
          "base_uri": "https://localhost:8080/"
        },
        "id": "mPM57cy_PJqy",
        "outputId": "b8fad9aa-8d94-43e2-a601-b4f3ca497bb9"
      },
      "execution_count": 1,
      "outputs": [
        {
          "output_type": "stream",
          "name": "stdout",
          "text": [
            "Вероятность того, что проверяемый телевизор окажется бракованным: 0.5%\n"
          ]
        }
      ]
    },
    {
      "cell_type": "markdown",
      "source": [
        "2. В урне 9 красных, 6 жёлтых и 5 зелёных шаров. Из урны наугад\n",
        "достают один шар. Какова вероятность того, что этот шар\n",
        "окажется жёлтым?"
      ],
      "metadata": {
        "id": "lrQWo6LpQjJ6"
      }
    },
    {
      "cell_type": "code",
      "source": [
        "red = 9\n",
        "yellow = 6\n",
        "green = 5\n",
        "total =red + yellow + green\n",
        "print(f'Вероятность того, что этот шар окажется жёлтым: {yellow/total*100}%')"
      ],
      "metadata": {
        "colab": {
          "base_uri": "https://localhost:8080/"
        },
        "id": "uUheo_iCQk1t",
        "outputId": "6c637f7c-78dc-4f45-8073-a14261f398e2"
      },
      "execution_count": 3,
      "outputs": [
        {
          "output_type": "stream",
          "name": "stdout",
          "text": [
            "Вероятность того, что этот шар окажется жёлтым: 30.0%\n"
          ]
        }
      ]
    },
    {
      "cell_type": "markdown",
      "source": [
        "3. В чемпионате мира участвуют 16 команд. С помощью жребия\n",
        "их нужно разделить на четыре группы по четыре команды в\n",
        "каждой. В ящике вперемешку лежат карточки с номерами групп:\n",
        "1, 1, 1, 1, 2, 2, 2, 2, 3, 3, 3, 3, 4, 4, 4, 4. Капитаны команд тянут по\n",
        "одной карточке. Какова вероятность того, что команда\n",
        "Португалии окажется во второй группе?"
      ],
      "metadata": {
        "id": "V1TVPm4CQlWh"
      }
    },
    {
      "cell_type": "code",
      "source": [
        "print(f'Вероятность: {4/16*100}%')"
      ],
      "metadata": {
        "colab": {
          "base_uri": "https://localhost:8080/"
        },
        "id": "hAG1lRLuQrM6",
        "outputId": "0ef7f3ee-ec7f-4d5b-85b9-105ee37cec58"
      },
      "execution_count": 16,
      "outputs": [
        {
          "output_type": "stream",
          "name": "stdout",
          "text": [
            "Вероятность: 25.0%\n"
          ]
        }
      ]
    },
    {
      "cell_type": "markdown",
      "source": [
        "4. В группе туристов 8 человек. С помощью жребия они\n",
        "выбирают шестерых человек, которые должны идти в село в\n",
        "магазин за продуктами. Какова вероятность того, что турист Д.,\n",
        "входящий в состав группы, пойдёт в магазин?"
      ],
      "metadata": {
        "id": "Zc6Gdut7Qtnm"
      }
    },
    {
      "cell_type": "code",
      "source": [
        "n = np.array(8)\n",
        "k = np.array(6)\n",
        "n1 = np.array(7)\n",
        "k1 = np.array(5)\n",
        "\n",
        "tot = comb(n, k)\n",
        "tot1 = comb(n1, k1)\n",
        "\n",
        "print(f'Вероятность попадания туриста Д: {tot1/tot*100}%')"
      ],
      "metadata": {
        "colab": {
          "base_uri": "https://localhost:8080/"
        },
        "id": "qd6CAHy6QyEs",
        "outputId": "2603ab3e-29cc-45fa-d19d-cda2bedfea3d"
      },
      "execution_count": 4,
      "outputs": [
        {
          "output_type": "stream",
          "name": "stdout",
          "text": [
            "Вероятность попадания туриста Д: 75.0%\n"
          ]
        }
      ]
    },
    {
      "cell_type": "markdown",
      "source": [
        "5. В чемпионате по футболу участвуют 16 команд, которые\n",
        "жеребьевкой распределяются на 4 группы: A, B, C и D. Какова\n",
        "вероятность того, что команда Англии не попадает в группу A?"
      ],
      "metadata": {
        "id": "B0PSWV4FQykL"
      }
    },
    {
      "cell_type": "code",
      "source": [
        "n = 16\n",
        "k = 4\n",
        "print(f'Вероятность того, что команда Англии не попадает в группу A: {(1 - k/n)*100}%')"
      ],
      "metadata": {
        "colab": {
          "base_uri": "https://localhost:8080/"
        },
        "id": "7bgknpWaQ1zL",
        "outputId": "9cb49391-3303-4407-c1fa-338259d67707"
      },
      "execution_count": 5,
      "outputs": [
        {
          "output_type": "stream",
          "name": "stdout",
          "text": [
            "Вероятность того, что команда Англии не попадает в группу A: 75.0%\n"
          ]
        }
      ]
    },
    {
      "cell_type": "markdown",
      "source": [
        "6. В классе 21 учащийся, среди них две подруги - Аня и Нина.\n",
        "Класс случайным образом делят на семь групп, по 3 человека в\n",
        "каждой. Найдите вероятность того, что Аня и Нина окажутся в\n",
        "одной группе."
      ],
      "metadata": {
        "id": "swZymaZ3Q2Oh"
      }
    },
    {
      "cell_type": "code",
      "source": [
        "n = np.array(21)\n",
        "k = np.array(3)\n",
        "count = 19\n",
        "\n",
        "tot = comb(n, k)\n",
        "print(f'Вероятность того, что Аня и Нина окажутся в одной группе: {count/tot*100}%')"
      ],
      "metadata": {
        "colab": {
          "base_uri": "https://localhost:8080/"
        },
        "id": "RUkAAz3pQ6pB",
        "outputId": "5d684525-bbdc-4c5d-9dcb-45ebd9a37491"
      },
      "execution_count": 6,
      "outputs": [
        {
          "output_type": "stream",
          "name": "stdout",
          "text": [
            "Вероятность того, что Аня и Нина окажутся в одной группе: 1.4285714285714286%\n"
          ]
        }
      ]
    },
    {
      "cell_type": "markdown",
      "source": [
        "7. Механические часы с двенадцатичасовым циферблатом в\n",
        "какой-то момент сломались и перестали идти. Найдите\n",
        "вероятность того, что часовая стрелка остановилась, достигнув\n",
        "отметки 7, но не дойдя до отметки 1."
      ],
      "metadata": {
        "id": "PRmuyb5FQ7K2"
      }
    },
    {
      "cell_type": "code",
      "source": [
        "print(f'Вероятность: {6/12*100}%')"
      ],
      "metadata": {
        "colab": {
          "base_uri": "https://localhost:8080/"
        },
        "id": "Nc-lLnvAQ-gG",
        "outputId": "dc859cf1-6edb-4de8-e623-cb22b26c3c4c"
      },
      "execution_count": 7,
      "outputs": [
        {
          "output_type": "stream",
          "name": "stdout",
          "text": [
            "Вероятность: 50.0%\n"
          ]
        }
      ]
    },
    {
      "cell_type": "markdown",
      "source": [
        "8. Механические часы с двенадцатичасовым циферблатом в\n",
        "какой-то момент сломались и перестали ходить. Найдите\n",
        "вероятность того, что часовая стрелка застыла, достигнув\n",
        "отметки 6, но не дойдя до отметки 9 часов.\n"
      ],
      "metadata": {
        "id": "5WDU8HD5Q_Ap"
      }
    },
    {
      "cell_type": "code",
      "source": [
        "print(f'Вероятность: {3/12*100}%')"
      ],
      "metadata": {
        "colab": {
          "base_uri": "https://localhost:8080/"
        },
        "id": "hlwq-1sARC9b",
        "outputId": "09d0bc78-358e-4648-c6ca-fb1bd58eda8e"
      },
      "execution_count": 8,
      "outputs": [
        {
          "output_type": "stream",
          "name": "stdout",
          "text": [
            "Вероятность: 25.0%\n"
          ]
        }
      ]
    },
    {
      "cell_type": "markdown",
      "source": [
        "9. В случайном эксперименте симметричную монету бросают 2\n",
        "раза. Найдите вероятность того, что орел выпадет ровно 1 раз."
      ],
      "metadata": {
        "id": "x4nH6WLfRDXN"
      }
    },
    {
      "cell_type": "code",
      "source": [
        "print(f'Вероятность: {2/4*100}%')"
      ],
      "metadata": {
        "colab": {
          "base_uri": "https://localhost:8080/"
        },
        "id": "l_7V7J_mRKVu",
        "outputId": "3f0e4526-af38-473b-9b29-e72a7f39c39f"
      },
      "execution_count": 9,
      "outputs": [
        {
          "output_type": "stream",
          "name": "stdout",
          "text": [
            "Вероятность: 50.0%\n"
          ]
        }
      ]
    },
    {
      "cell_type": "markdown",
      "source": [
        "10. В случайном эксперименте симметричную монету бросают\n",
        "дважды. Найдите вероятность того, что орёл не выпадет ни разу."
      ],
      "metadata": {
        "id": "ymmigm4WRKuv"
      }
    },
    {
      "cell_type": "code",
      "source": [
        "print(f'Вероятность: {1/4*100}%')"
      ],
      "metadata": {
        "colab": {
          "base_uri": "https://localhost:8080/"
        },
        "id": "6cEPFWUkRRl1",
        "outputId": "003700e5-9723-4044-eceb-81f59a5c3e50"
      },
      "execution_count": 10,
      "outputs": [
        {
          "output_type": "stream",
          "name": "stdout",
          "text": [
            "Вероятность: 25.0%\n"
          ]
        }
      ]
    },
    {
      "cell_type": "markdown",
      "source": [
        "11. Вероятность того, что новая шариковая ручка пишет плохо\n",
        "(или не пишет), равна 0,19. Покупатель в магазине выбирает одну\n",
        "такую ручку. Найдите вероятность того, что эта ручка пишет\n",
        "хорошо."
      ],
      "metadata": {
        "id": "k-Gz5RyrRR_x"
      }
    },
    {
      "cell_type": "code",
      "source": [
        "print(f'Вероятность: {(1 - 0.19)*100}%')"
      ],
      "metadata": {
        "colab": {
          "base_uri": "https://localhost:8080/"
        },
        "id": "-SqU5z_wRVLV",
        "outputId": "62323290-953d-4831-c389-2a1b19f76522"
      },
      "execution_count": 12,
      "outputs": [
        {
          "output_type": "stream",
          "name": "stdout",
          "text": [
            "Вероятность: 81.0%\n"
          ]
        }
      ]
    },
    {
      "cell_type": "markdown",
      "source": [
        "12. При изготовлении подшипников диаметром 67 мм\n",
        "вероятность того, что диаметр будет отличаться от заданного не\n",
        "больше, чем на 0,01 мм, равна 0,965. Найдите вероятность того,\n",
        "что случайный подшипник будет иметь диаметр меньше чем\n",
        "66,99 мм или больше чем 67,01 мм."
      ],
      "metadata": {
        "id": "zyrTDFTBRV6v"
      }
    },
    {
      "cell_type": "code",
      "source": [
        "print(f'Вероятность: {(1 - 0.965)*100}%')"
      ],
      "metadata": {
        "colab": {
          "base_uri": "https://localhost:8080/"
        },
        "id": "1Ki4_-liRajD",
        "outputId": "77f5f594-b363-4f66-c8b9-d84d657b3716"
      },
      "execution_count": 15,
      "outputs": [
        {
          "output_type": "stream",
          "name": "stdout",
          "text": [
            "Вероятность: 3.500000000000003%\n"
          ]
        }
      ]
    },
    {
      "cell_type": "markdown",
      "source": [
        "13. На экзамене по геометрии школьнику достаётся одна задача из\n",
        "сборника. Вероятность того, что эта задача по теме «Углы», равна\n",
        "0,1. Вероятность того, что это окажется задача по теме\n",
        "«Параллелограмм», равна 0,6. В сборнике нет задач, которые\n",
        "одновременно относятся к этим двум темам. Найдите вероятность\n",
        "того, что на экзамене школьнику достанется задача по одной из\n",
        "этих двух тем"
      ],
      "metadata": {
        "id": "fADvWf-qRa7A"
      }
    },
    {
      "cell_type": "code",
      "source": [
        "print(f'Вероятность: {(0.6 + 0.1)*100}%')"
      ],
      "metadata": {
        "colab": {
          "base_uri": "https://localhost:8080/"
        },
        "id": "_6-cmFxBZOdr",
        "outputId": "3bccc935-1b99-4243-8255-f3565723bfd7"
      },
      "execution_count": 14,
      "outputs": [
        {
          "output_type": "stream",
          "name": "stdout",
          "text": [
            "Вероятность: 70.0%\n"
          ]
        }
      ]
    }
  ]
}