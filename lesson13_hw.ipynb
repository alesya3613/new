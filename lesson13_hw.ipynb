{
 "cells": [
  {
   "cell_type": "code",
   "execution_count": 1,
   "id": "33b066f7",
   "metadata": {},
   "outputs": [],
   "source": [
    "import numpy as np"
   ]
  },
  {
   "cell_type": "code",
   "execution_count": 58,
   "id": "37e83374",
   "metadata": {},
   "outputs": [],
   "source": [
    "class Matrix:\n",
    "    \n",
    "    def __init__(self, rows: int, cols: int) -> None:\n",
    "        self.rows = rows\n",
    "        self.cols = cols\n",
    "     \n",
    "    def fill(self) -> np.ndarray:\n",
    "        matrix = np.zeros((self.rows, self.cols), int)\n",
    "        for i in range(self.rows):\n",
    "            for j in range(self.cols):\n",
    "                matrix[i][j] = int(input())\n",
    "        return matrix\n",
    "    \n",
    "    def summ(self, matrix: list, matrix2: list) -> np.ndarray:\n",
    "        return matrix + matrix2\n",
    "    \n",
    "    def diff(self, matrix: list, matrix2: list) -> np.ndarray:\n",
    "        return matrix - matrix2\n",
    "        \n",
    "    \n",
    "    def muilt(self, matrix: list,  matrix2: list) -> np.ndarray:\n",
    "        matrix_result =  np.dot(matrix, matrix2)\n",
    "        return matrix_result\n",
    "    \n",
    "    def mat_size(self, matrix: list) -> int:\n",
    "        return matrix.size"
   ]
  },
  {
   "cell_type": "code",
   "execution_count": 42,
   "id": "6d33dacd",
   "metadata": {},
   "outputs": [],
   "source": [
    "mx = Matrix(3, 3)"
   ]
  },
  {
   "cell_type": "code",
   "execution_count": 27,
   "id": "0ae9db67",
   "metadata": {
    "collapsed": true
   },
   "outputs": [
    {
     "name": "stdout",
     "output_type": "stream",
     "text": [
      "1\n",
      "2\n",
      "4\n",
      "7\n",
      "5\n",
      "-2\n",
      "-2\n",
      "1\n",
      "3\n",
      "-1\n",
      "0\n",
      "3\n",
      "2\n",
      "-6\n",
      "1\n",
      "-7\n",
      "1\n",
      "5\n"
     ]
    }
   ],
   "source": [
    "\n",
    "m1_a = mx.fill()\n",
    "m1_b = mx.fill()"
   ]
  },
  {
   "cell_type": "code",
   "execution_count": 29,
   "id": "e7251624",
   "metadata": {
    "collapsed": true
   },
   "outputs": [
    {
     "name": "stdout",
     "output_type": "stream",
     "text": [
      "0\n",
      "3\n",
      "4\n",
      "-7\n",
      "1\n",
      "-2\n",
      "2\n",
      "-1\n",
      "3\n",
      "1\n",
      "2\n",
      "4\n",
      "7\n",
      "0\n",
      "-2\n",
      "-3\n",
      "-2\n",
      "5\n"
     ]
    }
   ],
   "source": [
    "m2_a = mx.fill()\n",
    "m2_b = mx.fill()"
   ]
  },
  {
   "cell_type": "code",
   "execution_count": 30,
   "id": "0d116475",
   "metadata": {
    "collapsed": true
   },
   "outputs": [
    {
     "name": "stdout",
     "output_type": "stream",
     "text": [
      "5\n",
      "2\n",
      "9\n",
      "7\n",
      "0\n",
      "-2\n",
      "-2\n",
      "1\n",
      "6\n",
      "1\n",
      "-2\n",
      "1\n",
      "7\n",
      "5\n",
      "-2\n",
      "-2\n",
      "8\n",
      "3\n"
     ]
    }
   ],
   "source": [
    "m3_a = mx.fill()\n",
    "m3_b = mx.fill()"
   ]
  },
  {
   "cell_type": "code",
   "execution_count": 31,
   "id": "d2ff9e08",
   "metadata": {
    "collapsed": true
   },
   "outputs": [
    {
     "name": "stdout",
     "output_type": "stream",
     "text": [
      "1\n",
      "-2\n",
      "8\n",
      "7\n",
      "5\n",
      "-2\n",
      "-2\n",
      "3\n",
      "0\n",
      "0\n",
      "2\n",
      "4\n",
      "1\n",
      "-3\n",
      "-2\n",
      "-2\n",
      "1\n",
      "3\n"
     ]
    }
   ],
   "source": [
    "m4_a = mx.fill()\n",
    "m4_b = mx.fill()"
   ]
  },
  {
   "cell_type": "code",
   "execution_count": 32,
   "id": "5caa93b8",
   "metadata": {
    "collapsed": true
   },
   "outputs": [
    {
     "name": "stdout",
     "output_type": "stream",
     "text": [
      "9\n",
      "2\n",
      "4\n",
      "7\n",
      "5\n",
      "-5\n",
      "6\n",
      "-2\n",
      "3\n",
      "8\n",
      "2\n",
      "4\n",
      "0\n",
      "1\n",
      "-3\n",
      "-2\n",
      "1\n",
      "6\n"
     ]
    }
   ],
   "source": [
    "m5_a = mx.fill()\n",
    "m5_b = mx.fill()"
   ]
  },
  {
   "cell_type": "code",
   "execution_count": 21,
   "id": "4d23ea9e",
   "metadata": {
    "collapsed": true
   },
   "outputs": [
    {
     "name": "stdout",
     "output_type": "stream",
     "text": [
      "8\n",
      "2\n",
      "4\n",
      "0\n",
      "1\n",
      "-3\n",
      "-2\n",
      "1\n",
      "6\n"
     ]
    },
    {
     "data": {
      "text/plain": [
       "array([[17,  4,  8],\n",
       "       [ 7,  6, -8],\n",
       "       [ 4, -1,  9]])"
      ]
     },
     "execution_count": 21,
     "metadata": {},
     "output_type": "execute_result"
    }
   ],
   "source": [
    "mx.summ(m1)"
   ]
  },
  {
   "cell_type": "markdown",
   "id": "c912141a",
   "metadata": {},
   "source": [
    "Сумма матриц А + В:\n",
    "1)[[ 0,  2,  7],\n",
    "   [ 9, -1, -1],\n",
    "   [-9,  2,  8]]\n",
    "   \n",
    "2)[[ 1,  5,  8],\n",
    "   [ 0,  1, -4],\n",
    "   [-1, -3,  8]]\n",
    "   \n",
    "3)[[ 6,  0, 10],\n",
    "   [14,  5, -4],\n",
    "   [-4,  9,  9]]\n",
    "   \n",
    "4)[[ 1,  0, 12],\n",
    "   [ 8,  2, -4],\n",
    "   [-4,  4,  3]]\n",
    "   \n",
    "5)[[17,  4,  8],\n",
    "   [ 7,  6, -8],\n",
    "   [ 4, -1,  9]]"
   ]
  },
  {
   "cell_type": "code",
   "execution_count": 36,
   "id": "c31204d3",
   "metadata": {},
   "outputs": [
    {
     "data": {
      "text/plain": [
       "array([[-1,  0,  0],\n",
       "       [-7, -4,  2],\n",
       "       [-8,  3,  3]])"
      ]
     },
     "execution_count": 36,
     "metadata": {},
     "output_type": "execute_result"
    }
   ],
   "source": [
    "mx.diff(m5_b, m5_a)"
   ]
  },
  {
   "cell_type": "markdown",
   "id": "261dbfeb",
   "metadata": {},
   "source": [
    "Разность матриц В - А:\n",
    "1)[[ -2,  -2, -1],\n",
    "   [ -5, -11,  3],\n",
    "   [ -5,   0,  2]]\n",
    "   \n",
    "2)[[ 1, -1,  0],\n",
    "   [14, -1,  0],\n",
    "   [-5, -1,  2]]\n",
    "   \n",
    "3)[[-4, -4, -8],\n",
    "   [ 0,  5,  0],\n",
    "   [ 0,  7, -3]]\n",
    "   \n",
    "4)[[-1,  4, -4],\n",
    "   [-6, -8,  0],\n",
    "   [ 0, -2,  3]\n",
    "   \n",
    "5) [[-1,  0,  0],\n",
    "    [-7, -4,  2],\n",
    "    [-8,  3,  3]]"
   ]
  },
  {
   "cell_type": "code",
   "execution_count": 43,
   "id": "21fe5368",
   "metadata": {},
   "outputs": [],
   "source": [
    "mx_c = Matrix(3, 2)"
   ]
  },
  {
   "cell_type": "code",
   "execution_count": 45,
   "id": "bc8b15c6",
   "metadata": {
    "collapsed": true
   },
   "outputs": [
    {
     "name": "stdout",
     "output_type": "stream",
     "text": [
      "-2\n",
      "3\n",
      "4\n",
      "0\n",
      "7\n",
      "-1\n",
      "-3\n",
      "2\n",
      "0\n",
      "4\n",
      "-1\n",
      "7\n"
     ]
    }
   ],
   "source": [
    "m1_c = mx_c.fill()\n",
    "m2_c = mx_c.fill()"
   ]
  },
  {
   "cell_type": "code",
   "execution_count": 46,
   "id": "0fc667e5",
   "metadata": {
    "collapsed": true
   },
   "outputs": [
    {
     "name": "stdout",
     "output_type": "stream",
     "text": [
      "-2\n",
      "3\n",
      "4\n",
      "5\n",
      "0\n",
      "-1\n",
      "0\n",
      "3\n",
      "5\n",
      "-4\n",
      "7\n",
      "-1\n",
      "-2\n",
      "0\n",
      "4\n",
      "8\n",
      "1\n",
      "-1\n"
     ]
    }
   ],
   "source": [
    "m3_c = mx_c.fill()\n",
    "m4_c = mx_c.fill()\n",
    "m5_c = mx_c.fill()"
   ]
  },
  {
   "cell_type": "code",
   "execution_count": 51,
   "id": "86837b14",
   "metadata": {},
   "outputs": [
    {
     "data": {
      "text/plain": [
       "array([[ -6,  12],\n",
       "       [  1,  45],\n",
       "       [-17, -19]])"
      ]
     },
     "execution_count": 51,
     "metadata": {},
     "output_type": "execute_result"
    }
   ],
   "source": [
    "mx_c.muilt(m5_a, m5_c)"
   ]
  },
  {
   "cell_type": "markdown",
   "id": "8452d62b",
   "metadata": {},
   "source": [
    "Произведение матриц A*C\n",
    "1)[[34, -1],\n",
    "   [-8, 23],\n",
    "   [29, -9]]\n",
    "   \n",
    "2)[[ -4,  40],\n",
    "   [ 23, -24],\n",
    "   [ -9,  21]]\n",
    "   \n",
    "3)[[ -2,  16],\n",
    "   [-14,  23],\n",
    "   [  8,  -7]]\n",
    "   \n",
    "4)[[ 46,   3],\n",
    "   [ 11,   3],\n",
    "   [ 15, -18]]\n",
    "   \n",
    "5)[[ -6,  12],\n",
    "   [  1,  45],\n",
    "   [-17, -19]]"
   ]
  },
  {
   "cell_type": "code",
   "execution_count": 56,
   "id": "a7bbb064",
   "metadata": {},
   "outputs": [
    {
     "data": {
      "text/plain": [
       "array([[ 22, 138],\n",
       "       [-93, 129],\n",
       "       [ 16,  56]])"
      ]
     },
     "execution_count": 56,
     "metadata": {},
     "output_type": "execute_result"
    }
   ],
   "source": [
    "mx_c.muilt(mx.muilt(m5_a, m5_b), m5_c)"
   ]
  },
  {
   "cell_type": "markdown",
   "id": "91042595",
   "metadata": {},
   "source": [
    "Произведение матриц А*В*С\n",
    "1)[[ 193, -100],\n",
    "   [ -50,   35],\n",
    "   [  92,  -61]]\n",
    "   \n",
    "2)[[ -41,   84],\n",
    "   [  22, -308],\n",
    "   [  17,  139]]\n",
    "   \n",
    "3)[[ 286,  335],\n",
    "   [-142, -118],\n",
    "   [ 242,  250]]\n",
    "   \n",
    "4)[[ 304, -150],\n",
    "   [  69,   27],\n",
    "   [-163,   75]]\n",
    "   \n",
    "5)[[ 22, 138],\n",
    "   [-93, 129],\n",
    "   [ 16,  56]]"
   ]
  },
  {
   "cell_type": "code",
   "execution_count": 57,
   "id": "d40f77d1",
   "metadata": {},
   "outputs": [
    {
     "data": {
      "text/plain": [
       "numpy.ndarray"
      ]
     },
     "execution_count": 57,
     "metadata": {},
     "output_type": "execute_result"
    }
   ],
   "source": [
    "type(mx.diff(m5_b, m5_a))"
   ]
  },
  {
   "cell_type": "code",
   "execution_count": null,
   "id": "6acfcc76",
   "metadata": {},
   "outputs": [],
   "source": []
  }
 ],
 "metadata": {
  "kernelspec": {
   "display_name": "Python 3 (ipykernel)",
   "language": "python",
   "name": "python3"
  },
  "language_info": {
   "codemirror_mode": {
    "name": "ipython",
    "version": 3
   },
   "file_extension": ".py",
   "mimetype": "text/x-python",
   "name": "python",
   "nbconvert_exporter": "python",
   "pygments_lexer": "ipython3",
   "version": "3.12.3"
  }
 },
 "nbformat": 4,
 "nbformat_minor": 5
}
