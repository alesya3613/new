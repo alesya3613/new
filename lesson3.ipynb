{
 "cells": [
  {
   "cell_type": "code",
   "execution_count": 2,
   "id": "1d91e69e",
   "metadata": {},
   "outputs": [
    {
     "name": "stdout",
     "output_type": "stream",
     "text": [
      "* * *\n",
      "* 5 *\n",
      "* * *\n"
     ]
    }
   ],
   "source": [
    "m_list = [\n",
    "    [3,25,6],\n",
    "    [87, 5, 20],\n",
    "    [76, 15, 7]\n",
    "    ]\n",
    "for i in range(len(m_list)):\n",
    "    for j in range(len(m_list[i])):\n",
    "        if i % 2 == 0:\n",
    "            m_list[i][j] = '*'\n",
    "        else:\n",
    "            if j % 2 == 0:\n",
    "                m_list[i][j] = '*'           \n",
    "for i in range(len(m_list)):\n",
    "    print(*m_list[i], sep=' ')"
   ]
  },
  {
   "cell_type": "code",
   "execution_count": null,
   "id": "8330fe0a",
   "metadata": {},
   "outputs": [],
   "source": []
  }
 ],
 "metadata": {
  "kernelspec": {
   "display_name": "Python 3 (ipykernel)",
   "language": "python",
   "name": "python3"
  },
  "language_info": {
   "codemirror_mode": {
    "name": "ipython",
    "version": 3
   },
   "file_extension": ".py",
   "mimetype": "text/x-python",
   "name": "python",
   "nbconvert_exporter": "python",
   "pygments_lexer": "ipython3",
   "version": "3.12.3"
  }
 },
 "nbformat": 4,
 "nbformat_minor": 5
}
