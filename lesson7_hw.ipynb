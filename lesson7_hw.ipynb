{
 "cells": [
  {
   "cell_type": "markdown",
   "id": "f2269ba8",
   "metadata": {},
   "source": [
    "Создать класс Money для работы с денежными суммами. Число должно\n",
    "быть представлено двумя полями: для рублей и для копеек. Копейки при\n",
    "выводе на экран должна быть отделена от целой части запятой.\n",
    "Реализовать сложение, вычитание, деление сумм, деление суммы на\n",
    "дробное число, умножение на дробное число и операции сравнения.\n"
   ]
  },
  {
   "cell_type": "code",
   "execution_count": 44,
   "id": "3d404cc0",
   "metadata": {},
   "outputs": [],
   "source": [
    "class Money:\n",
    "    \n",
    "    def __init__ (self, sum1_ruble, sum1_kopeck):\n",
    "        \n",
    "        self.total = 0\n",
    "        self.sum1_ruble = sum1_ruble\n",
    "        self.sum1_kopeck = sum1_kopeck\n",
    "        \n",
    "    def culc(self, sum2_ruble, sum2_kopeck, sign):\n",
    "        \n",
    "        if sign == '+':\n",
    "            self.total = ((self.sum1_ruble * 100 + self.sum1_kopeck) +\n",
    "            (sum2_ruble * 100 + sum2_kopeck))\n",
    "            print(f'Ваш баланс: {self.total // 100},{self.total  % 100}')\n",
    "            \n",
    "        elif sign == '-':\n",
    "            self.total = ((self.sum1_ruble * 100 + self.sum1_kopeck) -\n",
    "            (sum2_ruble * 100 + sum2_kopeck))\n",
    "            print(f'Ваш баланс: {self.total // 100},{self.total  % 100}')\n",
    "        \n",
    "        elif sign == '/':\n",
    "            self.total = ((self.sum1_ruble * 100 + self.sum1_kopeck) /\n",
    "            (sum2_ruble * 100 + sum2_kopeck))\n",
    "            print(f'Отношение сумм: {self.total}')\n",
    "            \n",
    "    def culc_num(self, number: float, sign, currency: str):\n",
    "        \n",
    "        if sign == '/':\n",
    "            self.total = self.sum1_ruble * 100 + self.sum1_kopeck\n",
    "            print(f'Белорусский рубль: {self.total // 100},{self.total  % 100}' \n",
    "                  f'\\n {currency}: {round(self.total * 0.01 / number, 3)}')\n",
    "            \n",
    "        elif sign == '*':\n",
    "            self.total = self.sum1_ruble * 100 + self.sum1_kopeck\n",
    "            print(f'Белорусский рубль: {self.total // 100},{self.total  % 100}' \n",
    "                  f'\\n{currency}: {round(self.total * 0.01 * number, 3)}')\n",
    "            \n",
    "    "
   ]
  },
  {
   "cell_type": "code",
   "execution_count": 45,
   "id": "e6855c6d",
   "metadata": {},
   "outputs": [
    {
     "name": "stdout",
     "output_type": "stream",
     "text": [
      "Ваш баланс: 134,25\n"
     ]
    }
   ],
   "source": [
    "card1 = Money(55, 80)\n",
    "card1.culc(78, 45, '+')"
   ]
  },
  {
   "cell_type": "code",
   "execution_count": 46,
   "id": "9f1e5ba1",
   "metadata": {},
   "outputs": [
    {
     "name": "stdout",
     "output_type": "stream",
     "text": [
      "Белорусский рубль: 55,80\n",
      " Доллар: 16.412\n"
     ]
    }
   ],
   "source": [
    "card1.culc_num(3.4, '/', 'Доллар')"
   ]
  },
  {
   "cell_type": "code",
   "execution_count": 47,
   "id": "117b34d7",
   "metadata": {},
   "outputs": [
    {
     "name": "stdout",
     "output_type": "stream",
     "text": [
      "Белорусский рубль: 55,80\n",
      "Рос рубль: 1662.84\n"
     ]
    }
   ],
   "source": [
    "card1.culc_num(29.8, '*', 'Рос рубль')"
   ]
  },
  {
   "cell_type": "markdown",
   "id": "7a34a838",
   "metadata": {},
   "source": [
    "Создать класс матрица и реализовать алгоритмы математических\n",
    "операций над матрицами (сложение друг с другом, умножение на\n",
    "скалярную величину).\n"
   ]
  },
  {
   "cell_type": "code",
   "execution_count": 99,
   "id": "658c1191",
   "metadata": {},
   "outputs": [],
   "source": [
    "class Matrix:\n",
    "    \n",
    "    def __init__(self, lin, col):\n",
    "        self.lin = lin\n",
    "        self.col = col\n",
    "        self.matrix = [[0] * col for _ in range(lin)]\n",
    "        \n",
    "    \n",
    "    def fill(self):\n",
    "        \n",
    "        for i in range(self.lin):\n",
    "            for j in range(self.col):\n",
    "                self.matrix[i][j] = int(input())\n",
    "        print(*self.matrix, sep='\\n')\n",
    "        \n",
    "    \n",
    "    def mult(self, number):\n",
    "        \n",
    "        res_matrix = list(map(lambda x: list(map(lambda y: \n",
    "                                                 y * number, x)), self.matrix))\n",
    "        print(*res_matrix, sep='\\n')\n",
    "    \n",
    "    def add_m(self, lin_2, col_2):\n",
    "        \n",
    "        matrix2 = [[0] * col_2 for _ in range(lin_2)]\n",
    "        \n",
    "        if col_2 == self.col and lin_2 == self.lin:\n",
    "            for i in range(lin_2):\n",
    "                for j in range(col_2):\n",
    "                    matrix2[i][j] = int(input())\n",
    "            \n",
    "            print(*matrix2, sep='\\n')\n",
    "            \n",
    "            for i in range(lin_2):\n",
    "                for j in range(col_2):\n",
    "                    self.matrix[i][j] += matrix2[i][j]\n",
    "            print('Сумма матриц: \\n')\n",
    "            print(*self.matrix, sep='\\n')\n",
    "            \n",
    "        else:\n",
    "            print('Размер матриц не совпадает')\n",
    "            \n",
    "       \n",
    "        \n",
    "        "
   ]
  },
  {
   "cell_type": "code",
   "execution_count": 100,
   "id": "e7c7969f",
   "metadata": {},
   "outputs": [
    {
     "name": "stdout",
     "output_type": "stream",
     "text": [
      "4\n",
      "5\n",
      "6\n",
      "1\n",
      "2\n",
      "6\n",
      "7\n",
      "4\n",
      "5\n",
      "[4, 5, 6]\n",
      "[1, 2, 6]\n",
      "[7, 4, 5]\n"
     ]
    }
   ],
   "source": [
    "m1 = Matrix(3, 3)\n",
    "m1.fill()"
   ]
  },
  {
   "cell_type": "code",
   "execution_count": 101,
   "id": "678e20b0",
   "metadata": {},
   "outputs": [
    {
     "name": "stdout",
     "output_type": "stream",
     "text": [
      "[8, 10, 12]\n",
      "[2, 4, 12]\n",
      "[14, 8, 10]\n"
     ]
    }
   ],
   "source": [
    "m1.mult(2)"
   ]
  },
  {
   "cell_type": "code",
   "execution_count": 102,
   "id": "84398e09",
   "metadata": {},
   "outputs": [
    {
     "name": "stdout",
     "output_type": "stream",
     "text": [
      "6\n",
      "4\n",
      "3\n",
      "2\n",
      "8\n",
      "54\n",
      "6\n",
      "1\n",
      "9\n",
      "[6, 4, 3]\n",
      "[2, 8, 54]\n",
      "[6, 1, 9]\n",
      "Сумма матриц: \n",
      "\n",
      "[10, 9, 9]\n",
      "[3, 10, 60]\n",
      "[13, 5, 14]\n"
     ]
    }
   ],
   "source": [
    "m1.add_m(3, 3)"
   ]
  },
  {
   "cell_type": "code",
   "execution_count": null,
   "id": "d2f4a020",
   "metadata": {},
   "outputs": [],
   "source": []
  },
  {
   "cell_type": "code",
   "execution_count": null,
   "id": "cf45eabc",
   "metadata": {},
   "outputs": [],
   "source": []
  },
  {
   "cell_type": "code",
   "execution_count": null,
   "id": "62a6bf35",
   "metadata": {},
   "outputs": [],
   "source": []
  }
 ],
 "metadata": {
  "kernelspec": {
   "display_name": "Python 3 (ipykernel)",
   "language": "python",
   "name": "python3"
  },
  "language_info": {
   "codemirror_mode": {
    "name": "ipython",
    "version": 3
   },
   "file_extension": ".py",
   "mimetype": "text/x-python",
   "name": "python",
   "nbconvert_exporter": "python",
   "pygments_lexer": "ipython3",
   "version": "3.12.3"
  }
 },
 "nbformat": 4,
 "nbformat_minor": 5
}
