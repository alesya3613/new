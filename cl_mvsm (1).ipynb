{
  "nbformat": 4,
  "nbformat_minor": 0,
  "metadata": {
    "colab": {
      "provenance": []
    },
    "kernelspec": {
      "name": "python3",
      "display_name": "Python 3"
    },
    "language_info": {
      "name": "python"
    }
  },
  "cells": [
    {
      "cell_type": "code",
      "source": [
        "import os\n",
        "import librosa\n",
        "import numpy as np\n",
        "import matplotlib.pyplot as plt\n",
        "from sklearn.preprocessing import LabelEncoder\n",
        "from tensorflow.keras.utils import to_categorical\n",
        "from sklearn.model_selection import train_test_split\n",
        "from sklearn.linear_model import LogisticRegression\n",
        "from sklearn.metrics import accuracy_score\n",
        "\n",
        "import tensorflow as tf\n",
        "from tensorflow.keras.models import Sequential\n",
        "from tensorflow.keras.layers import Dense, BatchNormalization\n",
        "from tensorflow.keras.layers import Dropout, MaxPooling1D, LSTM, Conv1D\n",
        "\n",
        "from sklearn.tree import DecisionTreeClassifier, plot_tree\n",
        "from sklearn.metrics import classification_report\n",
        "\n",
        "import torch"
      ],
      "metadata": {
        "id": "QDP7ut8aPAKP"
      },
      "execution_count": 34,
      "outputs": []
    },
    {
      "cell_type": "code",
      "execution_count": 2,
      "metadata": {
        "colab": {
          "base_uri": "https://localhost:8080/"
        },
        "id": "BquC2d1_SFoW",
        "outputId": "c942cffc-49c5-4029-f77c-b55454f124c7"
      },
      "outputs": [
        {
          "output_type": "stream",
          "name": "stdout",
          "text": [
            "Downloading from https://www.kaggle.com/api/v1/datasets/download/deepcontractor/musical-instrument-chord-classification?dataset_version_number=2...\n"
          ]
        },
        {
          "output_type": "stream",
          "name": "stderr",
          "text": [
            "100%|██████████| 135M/135M [00:00<00:00, 157MB/s]"
          ]
        },
        {
          "output_type": "stream",
          "name": "stdout",
          "text": [
            "Extracting files...\n"
          ]
        },
        {
          "output_type": "stream",
          "name": "stderr",
          "text": [
            "\n"
          ]
        },
        {
          "output_type": "stream",
          "name": "stdout",
          "text": [
            "Path to dataset files: /root/.cache/kagglehub/datasets/deepcontractor/musical-instrument-chord-classification/versions/2\n"
          ]
        }
      ],
      "source": [
        "import kagglehub\n",
        "\n",
        "path = kagglehub.dataset_download(\"deepcontractor/musical-instrument-chord-classification\")\n",
        "\n",
        "print(\"Path to dataset files:\", path)"
      ]
    },
    {
      "cell_type": "code",
      "source": [
        "# Путь к директории\n",
        "DATA_DIR = \"/root/.cache/kagglehub/datasets/deepcontractor/musical-instrument-chord-classification/versions/2/Audio_Files\"\n",
        "LABELS = [\"Major\", \"Minor\"]\n",
        "\n",
        "def load_audio_files(data_dir, labels, sr=16000, duration=5):\n",
        "    X, y = [], []\n",
        "    for label in labels:\n",
        "        folder = os.path.join(data_dir, label)\n",
        "        for fname in os.listdir(folder):\n",
        "            path = os.path.join(folder, fname)\n",
        "            audio, _ = librosa.load(path, sr=sr, mono=True) #загрузка аудио\n",
        "            audio = librosa.util.fix_length(audio, size=sr*duration)# Приведение к фиксированной длине\n",
        "            X.append(audio)\n",
        "            y.append(label)\n",
        "    return X, y\n",
        "\n",
        "X_raw, y_raw = load_audio_files(DATA_DIR, LABELS)"
      ],
      "metadata": {
        "id": "iq0yyUplS9m2"
      },
      "execution_count": 3,
      "outputs": []
    },
    {
      "cell_type": "markdown",
      "source": [
        "MFCC  (Mel-Frequency Cepstral Coefficients)\n",
        "\n",
        "преобразования аудио в числовые признаки"
      ],
      "metadata": {
        "id": "gVSxaTNvblhy"
      }
    },
    {
      "cell_type": "code",
      "source": [
        "def extract_mfcc(audio_list, sr=16000, n_mfcc=13):\n",
        "    features = []\n",
        "    for audio in audio_list:\n",
        "        mfcc = librosa.feature.mfcc(y=audio, sr=sr, n_mfcc=n_mfcc)\n",
        "        mfcc = mfcc.mean(axis=1)  # усреднение по времени\n",
        "        features.append(mfcc)\n",
        "    return np.array(features)\n",
        "\n",
        "X_mfcc = extract_mfcc(X_raw)"
      ],
      "metadata": {
        "id": "_GP8G0HCYptm"
      },
      "execution_count": 9,
      "outputs": []
    },
    {
      "cell_type": "code",
      "source": [
        "librosa.display.specshow(librosa.feature.mfcc(y=X_raw[0], sr=16000), x_axis='time')\n",
        "plt.title(f\"MFCC of {y_raw[0]}\")\n",
        "plt.colorbar()\n",
        "plt.tight_layout()\n",
        "plt.show()"
      ],
      "metadata": {
        "colab": {
          "base_uri": "https://localhost:8080/",
          "height": 487
        },
        "id": "KBH2GYHWYu6n",
        "outputId": "8d0680dd-5930-45cc-faed-dc33524ffd0c"
      },
      "execution_count": null,
      "outputs": [
        {
          "output_type": "display_data",
          "data": {
            "text/plain": [
              "<Figure size 640x480 with 2 Axes>"
            ],
            "image/png": "[encoded data removed]"
          },
          "metadata": {}
        }
      ]
    },
    {
      "cell_type": "code",
      "source": [
        "encoder = LabelEncoder()\n",
        "y_encoded = encoder.fit_transform(y_raw)"
      ],
      "metadata": {
        "id": "Qr0xNVVVaO4P"
      },
      "execution_count": 4,
      "outputs": []
    },
    {
      "cell_type": "code",
      "source": [
        "from sklearn.preprocessing import StandardScaler\n",
        "\n",
        "scaler = StandardScaler()\n",
        "X_scaled = scaler.fit_transform(X_mfcc)"
      ],
      "metadata": {
        "id": "HvCEYv3UgSUb"
      },
      "execution_count": 41,
      "outputs": []
    },
    {
      "cell_type": "code",
      "source": [
        "X_train, X_test, y_train, y_test = train_test_split(X_scaled, y_encoded, test_size=0.2, stratify=y_encoded)"
      ],
      "metadata": {
        "id": "HSSwwsdllNwp"
      },
      "execution_count": 42,
      "outputs": []
    },
    {
      "cell_type": "markdown",
      "source": [
        "логистическая регрессия"
      ],
      "metadata": {
        "id": "9xs_rLotPnOW"
      }
    },
    {
      "cell_type": "code",
      "source": [
        "model = LogisticRegression()\n",
        "model.fit(X_train, y_train)\n",
        "\n",
        "y_pred = model.predict(X_test)\n",
        "\n",
        "accuracy = accuracy_score(y_test, y_pred)\n",
        "print(f\"Accuracy: {accuracy:.2f}\")"
      ],
      "metadata": {
        "colab": {
          "base_uri": "https://localhost:8080/"
        },
        "id": "TGzWilrhO-L_",
        "outputId": "91ee4806-f201-4c17-ada8-20a5d6619de6"
      },
      "execution_count": 43,
      "outputs": [
        {
          "output_type": "stream",
          "name": "stdout",
          "text": [
            "Accuracy: 0.55\n"
          ]
        }
      ]
    },
    {
      "cell_type": "code",
      "source": [
        "len(X_train)"
      ],
      "metadata": {
        "colab": {
          "base_uri": "https://localhost:8080/"
        },
        "id": "pPgZnU9FUsG3",
        "outputId": "fcb3ce94-4639-42d0-b88c-cf495773173d"
      },
      "execution_count": 21,
      "outputs": [
        {
          "output_type": "execute_result",
          "data": {
            "text/plain": [
              "687"
            ]
          },
          "metadata": {},
          "execution_count": 21
        }
      ]
    },
    {
      "cell_type": "markdown",
      "source": [
        "тензор"
      ],
      "metadata": {
        "id": "xYu6WRQOPp-h"
      }
    },
    {
      "cell_type": "code",
      "source": [
        "model_s = Sequential([\n",
        "    Dense(64, activation='relu', input_shape=(13,)),\n",
        "    BatchNormalization(),\n",
        "    Dropout(0.3),\n",
        "    Dense(32, activation='relu'),\n",
        "    BatchNormalization(),\n",
        "    Dense(1, activation='sigmoid')\n",
        "])\n",
        "\n",
        "\n",
        "model_s.compile(optimizer='adam', loss='binary_crossentropy', metrics=['accuracy'])"
      ],
      "metadata": {
        "id": "wkDJuzD4QJfX",
        "colab": {
          "base_uri": "https://localhost:8080/"
        },
        "outputId": "71a74467-c6c2-47f9-89ac-3ef48519adc4"
      },
      "execution_count": 7,
      "outputs": [
        {
          "output_type": "stream",
          "name": "stderr",
          "text": [
            "/usr/local/lib/python3.11/dist-packages/keras/src/layers/core/dense.py:87: UserWarning: Do not pass an `input_shape`/`input_dim` argument to a layer. When using Sequential models, prefer using an `Input(shape)` object as the first layer in the model instead.\n",
            "  super().__init__(activity_regularizer=activity_regularizer, **kwargs)\n"
          ]
        }
      ]
    },
    {
      "cell_type": "code",
      "source": [
        "history = model_s.fit(X_train, y_train, epochs=30, batch_size=32, validation_split=0.2)\n",
        "\n",
        "test_loss, test_acc = model_s.evaluate(X_test, y_test)\n",
        "print(f\"\\nTest Accuracy: {test_acc:.4f}\")"
      ],
      "metadata": {
        "colab": {
          "base_uri": "https://localhost:8080/"
        },
        "collapsed": true,
        "id": "rR692BMSUmk_",
        "outputId": "125cfcb5-ce05-4129-cb61-b7292bb9b0cc"
      },
      "execution_count": 44,
      "outputs": [
        {
          "output_type": "stream",
          "name": "stdout",
          "text": [
            "Epoch 1/30\n",
            "\u001b[1m18/18\u001b[0m \u001b[32m━━━━━━━━━━━━━━━━━━━━\u001b[0m\u001b[37m\u001b[0m \u001b[1m0s\u001b[0m 10ms/step - accuracy: 0.5894 - loss: 0.7268 - val_accuracy: 0.4203 - val_loss: 2.6031\n",
            "Epoch 2/30\n",
            "\u001b[1m18/18\u001b[0m \u001b[32m━━━━━━━━━━━━━━━━━━━━\u001b[0m\u001b[37m\u001b[0m \u001b[1m0s\u001b[0m 7ms/step - accuracy: 0.5894 - loss: 0.6666 - val_accuracy: 0.3986 - val_loss: 1.7337\n",
            "Epoch 3/30\n",
            "\u001b[1m18/18\u001b[0m \u001b[32m━━━━━━━━━━━━━━━━━━━━\u001b[0m\u001b[37m\u001b[0m \u001b[1m0s\u001b[0m 7ms/step - accuracy: 0.5883 - loss: 0.6856 - val_accuracy: 0.4275 - val_loss: 1.3569\n",
            "Epoch 4/30\n",
            "\u001b[1m18/18\u001b[0m \u001b[32m━━━━━━━━━━━━━━━━━━━━\u001b[0m\u001b[37m\u001b[0m \u001b[1m0s\u001b[0m 7ms/step - accuracy: 0.6480 - loss: 0.6449 - val_accuracy: 0.3986 - val_loss: 0.8937\n",
            "Epoch 5/30\n",
            "\u001b[1m18/18\u001b[0m \u001b[32m━━━━━━━━━━━━━━━━━━━━\u001b[0m\u001b[37m\u001b[0m \u001b[1m0s\u001b[0m 6ms/step - accuracy: 0.6716 - loss: 0.6301 - val_accuracy: 0.5145 - val_loss: 0.7844\n",
            "Epoch 6/30\n",
            "\u001b[1m18/18\u001b[0m \u001b[32m━━━━━━━━━━━━━━━━━━━━\u001b[0m\u001b[37m\u001b[0m \u001b[1m0s\u001b[0m 7ms/step - accuracy: 0.5956 - loss: 0.6524 - val_accuracy: 0.5435 - val_loss: 0.7947\n",
            "Epoch 7/30\n",
            "\u001b[1m18/18\u001b[0m \u001b[32m━━━━━━━━━━━━━━━━━━━━\u001b[0m\u001b[37m\u001b[0m \u001b[1m0s\u001b[0m 7ms/step - accuracy: 0.6448 - loss: 0.6329 - val_accuracy: 0.5217 - val_loss: 0.7963\n",
            "Epoch 8/30\n",
            "\u001b[1m18/18\u001b[0m \u001b[32m━━━━━━━━━━━━━━━━━━━━\u001b[0m\u001b[37m\u001b[0m \u001b[1m0s\u001b[0m 6ms/step - accuracy: 0.6379 - loss: 0.6357 - val_accuracy: 0.5507 - val_loss: 0.7810\n",
            "Epoch 9/30\n",
            "\u001b[1m18/18\u001b[0m \u001b[32m━━━━━━━━━━━━━━━━━━━━\u001b[0m\u001b[37m\u001b[0m \u001b[1m0s\u001b[0m 9ms/step - accuracy: 0.6479 - loss: 0.6263 - val_accuracy: 0.5942 - val_loss: 0.7423\n",
            "Epoch 10/30\n",
            "\u001b[1m18/18\u001b[0m \u001b[32m━━━━━━━━━━━━━━━━━━━━\u001b[0m\u001b[37m\u001b[0m \u001b[1m0s\u001b[0m 7ms/step - accuracy: 0.6959 - loss: 0.5990 - val_accuracy: 0.5580 - val_loss: 0.7715\n",
            "Epoch 11/30\n",
            "\u001b[1m18/18\u001b[0m \u001b[32m━━━━━━━━━━━━━━━━━━━━\u001b[0m\u001b[37m\u001b[0m \u001b[1m0s\u001b[0m 9ms/step - accuracy: 0.6297 - loss: 0.6200 - val_accuracy: 0.5507 - val_loss: 0.7863\n",
            "Epoch 12/30\n",
            "\u001b[1m18/18\u001b[0m \u001b[32m━━━━━━━━━━━━━━━━━━━━\u001b[0m\u001b[37m\u001b[0m \u001b[1m0s\u001b[0m 7ms/step - accuracy: 0.6389 - loss: 0.6263 - val_accuracy: 0.5652 - val_loss: 0.8052\n",
            "Epoch 13/30\n",
            "\u001b[1m18/18\u001b[0m \u001b[32m━━━━━━━━━━━━━━━━━━━━\u001b[0m\u001b[37m\u001b[0m \u001b[1m0s\u001b[0m 8ms/step - accuracy: 0.6796 - loss: 0.5950 - val_accuracy: 0.5435 - val_loss: 0.7688\n",
            "Epoch 14/30\n",
            "\u001b[1m18/18\u001b[0m \u001b[32m━━━━━━━━━━━━━━━━━━━━\u001b[0m\u001b[37m\u001b[0m \u001b[1m0s\u001b[0m 6ms/step - accuracy: 0.6881 - loss: 0.5943 - val_accuracy: 0.5797 - val_loss: 0.7655\n",
            "Epoch 15/30\n",
            "\u001b[1m18/18\u001b[0m \u001b[32m━━━━━━━━━━━━━━━━━━━━\u001b[0m\u001b[37m\u001b[0m \u001b[1m0s\u001b[0m 7ms/step - accuracy: 0.6932 - loss: 0.5869 - val_accuracy: 0.5797 - val_loss: 0.7630\n",
            "Epoch 16/30\n",
            "\u001b[1m18/18\u001b[0m \u001b[32m━━━━━━━━━━━━━━━━━━━━\u001b[0m\u001b[37m\u001b[0m \u001b[1m0s\u001b[0m 9ms/step - accuracy: 0.7256 - loss: 0.5642 - val_accuracy: 0.5725 - val_loss: 0.7602\n",
            "Epoch 17/30\n",
            "\u001b[1m18/18\u001b[0m \u001b[32m━━━━━━━━━━━━━━━━━━━━\u001b[0m\u001b[37m\u001b[0m \u001b[1m0s\u001b[0m 8ms/step - accuracy: 0.6860 - loss: 0.6008 - val_accuracy: 0.5797 - val_loss: 0.7705\n",
            "Epoch 18/30\n",
            "\u001b[1m18/18\u001b[0m \u001b[32m━━━━━━━━━━━━━━━━━━━━\u001b[0m\u001b[37m\u001b[0m \u001b[1m0s\u001b[0m 7ms/step - accuracy: 0.6740 - loss: 0.5956 - val_accuracy: 0.5652 - val_loss: 0.7536\n",
            "Epoch 19/30\n",
            "\u001b[1m18/18\u001b[0m \u001b[32m━━━━━━━━━━━━━━━━━━━━\u001b[0m\u001b[37m\u001b[0m \u001b[1m0s\u001b[0m 7ms/step - accuracy: 0.6895 - loss: 0.5999 - val_accuracy: 0.5725 - val_loss: 0.7380\n",
            "Epoch 20/30\n",
            "\u001b[1m18/18\u001b[0m \u001b[32m━━━━━━━━━━━━━━━━━━━━\u001b[0m\u001b[37m\u001b[0m \u001b[1m0s\u001b[0m 7ms/step - accuracy: 0.6555 - loss: 0.5962 - val_accuracy: 0.5797 - val_loss: 0.7533\n",
            "Epoch 21/30\n",
            "\u001b[1m18/18\u001b[0m \u001b[32m━━━━━━━━━━━━━━━━━━━━\u001b[0m\u001b[37m\u001b[0m \u001b[1m0s\u001b[0m 8ms/step - accuracy: 0.7034 - loss: 0.5886 - val_accuracy: 0.5870 - val_loss: 0.7410\n",
            "Epoch 22/30\n",
            "\u001b[1m18/18\u001b[0m \u001b[32m━━━━━━━━━━━━━━━━━━━━\u001b[0m\u001b[37m\u001b[0m \u001b[1m0s\u001b[0m 7ms/step - accuracy: 0.7124 - loss: 0.5667 - val_accuracy: 0.5797 - val_loss: 0.7342\n",
            "Epoch 23/30\n",
            "\u001b[1m18/18\u001b[0m \u001b[32m━━━━━━━━━━━━━━━━━━━━\u001b[0m\u001b[37m\u001b[0m \u001b[1m0s\u001b[0m 7ms/step - accuracy: 0.7194 - loss: 0.5665 - val_accuracy: 0.5797 - val_loss: 0.7298\n",
            "Epoch 24/30\n",
            "\u001b[1m18/18\u001b[0m \u001b[32m━━━━━━━━━━━━━━━━━━━━\u001b[0m\u001b[37m\u001b[0m \u001b[1m0s\u001b[0m 9ms/step - accuracy: 0.7176 - loss: 0.5510 - val_accuracy: 0.6014 - val_loss: 0.7382\n",
            "Epoch 25/30\n",
            "\u001b[1m18/18\u001b[0m \u001b[32m━━━━━━━━━━━━━━━━━━━━\u001b[0m\u001b[37m\u001b[0m \u001b[1m0s\u001b[0m 8ms/step - accuracy: 0.7117 - loss: 0.5678 - val_accuracy: 0.6087 - val_loss: 0.7110\n",
            "Epoch 26/30\n",
            "\u001b[1m18/18\u001b[0m \u001b[32m━━━━━━━━━━━━━━━━━━━━\u001b[0m\u001b[37m\u001b[0m \u001b[1m0s\u001b[0m 9ms/step - accuracy: 0.7055 - loss: 0.5629 - val_accuracy: 0.6232 - val_loss: 0.6955\n",
            "Epoch 27/30\n",
            "\u001b[1m18/18\u001b[0m \u001b[32m━━━━━━━━━━━━━━━━━━━━\u001b[0m\u001b[37m\u001b[0m \u001b[1m0s\u001b[0m 9ms/step - accuracy: 0.7150 - loss: 0.5580 - val_accuracy: 0.5507 - val_loss: 0.6932\n",
            "Epoch 28/30\n",
            "\u001b[1m18/18\u001b[0m \u001b[32m━━━━━━━━━━━━━━━━━━━━\u001b[0m\u001b[37m\u001b[0m \u001b[1m0s\u001b[0m 7ms/step - accuracy: 0.6951 - loss: 0.5407 - val_accuracy: 0.5942 - val_loss: 0.6862\n",
            "Epoch 29/30\n",
            "\u001b[1m18/18\u001b[0m \u001b[32m━━━━━━━━━━━━━━━━━━━━\u001b[0m\u001b[37m\u001b[0m \u001b[1m0s\u001b[0m 7ms/step - accuracy: 0.6820 - loss: 0.5928 - val_accuracy: 0.5797 - val_loss: 0.6904\n",
            "Epoch 30/30\n",
            "\u001b[1m18/18\u001b[0m \u001b[32m━━━━━━━━━━━━━━━━━━━━\u001b[0m\u001b[37m\u001b[0m \u001b[1m0s\u001b[0m 10ms/step - accuracy: 0.6937 - loss: 0.5662 - val_accuracy: 0.6014 - val_loss: 0.6792\n",
            "\u001b[1m6/6\u001b[0m \u001b[32m━━━━━━━━━━━━━━━━━━━━\u001b[0m\u001b[37m\u001b[0m \u001b[1m0s\u001b[0m 6ms/step - accuracy: 0.5228 - loss: 0.7278 \n",
            "\n",
            "Test Accuracy: 0.5291\n"
          ]
        }
      ]
    },
    {
      "cell_type": "code",
      "source": [
        "plt.plot(history.history['accuracy'], label='Train Accuracy')\n",
        "plt.plot(history.history['val_accuracy'], label='Val Accuracy')\n",
        "plt.legend()"
      ],
      "metadata": {
        "colab": {
          "base_uri": "https://localhost:8080/",
          "height": 447
        },
        "id": "o24-yjBRcXZR",
        "outputId": "7ac8c39d-98e5-4572-cddb-c86905f05783"
      },
      "execution_count": null,
      "outputs": [
        {
          "output_type": "execute_result",
          "data": {
            "text/plain": [
              "<matplotlib.legend.Legend at 0x7c81b917d010>"
            ]
          },
          "metadata": {},
          "execution_count": 36
        },
        {
          "output_type": "display_data",
          "data": {
            "text/plain": [
              "<Figure size 640x480 with 1 Axes>"
            ],
            "image/png": "[encoded data removed]"
          },
          "metadata": {}
        }
      ]
    },
    {
      "cell_type": "markdown",
      "source": [
        "дерево решений"
      ],
      "metadata": {
        "id": "PpjlZ71FOCRl"
      }
    },
    {
      "cell_type": "code",
      "source": [
        "model_t = DecisionTreeClassifier(\n",
        "    max_depth=3,\n",
        "    random_state=42\n",
        ")\n",
        "model_t.fit(X_train, y_train)\n",
        "\n",
        "# Предсказание на тестовых данных\n",
        "y_pred = model_t.predict(X_test)"
      ],
      "metadata": {
        "id": "gFZeyVo_OBof"
      },
      "execution_count": 45,
      "outputs": []
    },
    {
      "cell_type": "code",
      "source": [
        "# Точность (Accuracy)\n",
        "accuracy = accuracy_score(y_test, y_pred)\n",
        "print(f\"Accuracy: {accuracy:.2f}\")\n",
        "\n",
        "# Отчёт по метрикам\n",
        "print(classification_report(y_test, y_pred))"
      ],
      "metadata": {
        "colab": {
          "base_uri": "https://localhost:8080/"
        },
        "id": "xVkBrGCjOXGZ",
        "outputId": "e00d1956-6d37-49f7-9988-8ffccaa3a2b1"
      },
      "execution_count": 46,
      "outputs": [
        {
          "output_type": "stream",
          "name": "stdout",
          "text": [
            "Accuracy: 0.60\n",
            "              precision    recall  f1-score   support\n",
            "\n",
            "           0       0.61      0.88      0.72       101\n",
            "           1       0.56      0.21      0.31        71\n",
            "\n",
            "    accuracy                           0.60       172\n",
            "   macro avg       0.58      0.55      0.51       172\n",
            "weighted avg       0.59      0.60      0.55       172\n",
            "\n"
          ]
        }
      ]
    }
  ]
}